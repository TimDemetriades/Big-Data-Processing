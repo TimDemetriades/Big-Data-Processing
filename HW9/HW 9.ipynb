{
 "cells": [
  {
   "cell_type": "markdown",
   "id": "3909e0c2-71f3-4c00-8e47-2e606fb6aa2d",
   "metadata": {},
   "source": [
    "# HW 9 - Tim Demetriades\n",
    "## Machine Learning Classification with PySpark and MLlib\n",
    "4/24/2021\n",
    "\n",
    "**Team - Let's Go - Tim Demetriades and Alex Ibanez**\n",
    "\n",
    "For this assignment, I (Tim) used the ratings.csv file without the genre scores, whereas Alex used the genre scores.\n",
    "\n",
    "### Part 1 - Create ratings.csv\n",
    "The file `ratings.csv` is the file that will be used by the ML classification models. It is a merging of 2 files:\n",
    "- `output1.txt` - The file from Part 1 of HW 5 that has the columns `userID|trackID|albumScore|artistScore` It is 120,000 lines long.\n",
    "- `test2_new.txt` - A file containing the ground truth for 6,000 user-track recommendations from `output1.txt`.\n",
    "\n",
    "First we import the needed modules."
   ]
  },
  {
   "cell_type": "code",
   "execution_count": 101,
   "id": "7acfb1a5-0b02-4cad-bc6c-f37d66b758e7",
   "metadata": {},
   "outputs": [],
   "source": [
    "from pyspark.sql import SparkSession    # main entry point for DataFrame and SQL functionality\n",
    "from pyspark.sql.functions import col    # for returning a column based on a given column name\n",
    "from pyspark.sql.functions import lit    # for adding a new column to PySpark DataFrame\n",
    "from pyspark.ml.classification import LogisticRegression    # for classification model\n",
    "from pyspark.ml.feature import OneHotEncoder, StringIndexer, VectorAssembler    # for preparing data for classification\n",
    "from pyspark.ml.evaluation import MulticlassClassificationEvaluator    # for evaluating classification models\n",
    "from pyspark.ml import Pipeline\n",
    "import pandas as pd   # for data frames\n",
    "import numpy as np    # for arrays\n",
    "import time           # for timing cells  \n",
    "import matplotlib.pyplot as plt # plotting graphs"
   ]
  },
  {
   "cell_type": "markdown",
   "id": "97c99875-f0a8-4c56-b795-bdc49b35642c",
   "metadata": {},
   "source": [
    "Then we initialize SparkSession, the entry point to underlying Spark functionality in order to programmatically create Spark RDD, DataFrame and DataSet.\n",
    "\n",
    "SparkSession contains the functionality of SparkContext, SQLContext, and more (starting with Spark 2.0)."
   ]
  },
  {
   "cell_type": "code",
   "execution_count": 2,
   "id": "9f234a62-cb82-48b9-b966-8aca69b013d8",
   "metadata": {},
   "outputs": [],
   "source": [
    "spark = SparkSession.builder.appName('HW 9').getOrCreate()"
   ]
  },
  {
   "cell_type": "markdown",
   "id": "2854557f-f045-48ed-9b01-e0ccfd440ef0",
   "metadata": {},
   "source": [
    "We can use spark to get some data on it and get a link to the UI."
   ]
  },
  {
   "cell_type": "code",
   "execution_count": 3,
   "id": "0b361a75-628d-4651-8a48-59a1942b67a3",
   "metadata": {},
   "outputs": [
    {
     "data": {
      "text/html": [
       "\n",
       "            <div>\n",
       "                <p><b>SparkSession - in-memory</b></p>\n",
       "                \n",
       "        <div>\n",
       "            <p><b>SparkContext</b></p>\n",
       "\n",
       "            <p><a href=\"http://TIM-GAMINGPC.fios-router.home:4040\">Spark UI</a></p>\n",
       "\n",
       "            <dl>\n",
       "              <dt>Version</dt>\n",
       "                <dd><code>v3.0.2</code></dd>\n",
       "              <dt>Master</dt>\n",
       "                <dd><code>local[*]</code></dd>\n",
       "              <dt>AppName</dt>\n",
       "                <dd><code>HW 9</code></dd>\n",
       "            </dl>\n",
       "        </div>\n",
       "        \n",
       "            </div>\n",
       "        "
      ],
      "text/plain": [
       "<pyspark.sql.session.SparkSession at 0x1cf42eda1c8>"
      ]
     },
     "execution_count": 3,
     "metadata": {},
     "output_type": "execute_result"
    }
   ],
   "source": [
    "spark"
   ]
  },
  {
   "cell_type": "markdown",
   "id": "049d4981-da13-4a3d-8ea6-1f0986ee63df",
   "metadata": {},
   "source": [
    "We then create a Pandas DF for `test2_new.txt`"
   ]
  },
  {
   "cell_type": "code",
   "execution_count": 4,
   "id": "143f8aba-684f-4e94-809b-6f640778aa76",
   "metadata": {},
   "outputs": [],
   "source": [
    "ground_truth_columns = ['userID', 'trackID', 'ground_truth']"
   ]
  },
  {
   "cell_type": "code",
   "execution_count": 5,
   "id": "c789e208-be9e-4948-a38c-9a60b34da028",
   "metadata": {},
   "outputs": [],
   "source": [
    "ground_truth_df = pd.read_csv('test2_new.txt', sep='|', names=ground_truth_columns)"
   ]
  },
  {
   "cell_type": "code",
   "execution_count": 6,
   "id": "9e68179d-eb1a-4c3f-8e13-cd101b8e9a6c",
   "metadata": {},
   "outputs": [
    {
     "data": {
      "text/html": [
       "<div>\n",
       "<style scoped>\n",
       "    .dataframe tbody tr th:only-of-type {\n",
       "        vertical-align: middle;\n",
       "    }\n",
       "\n",
       "    .dataframe tbody tr th {\n",
       "        vertical-align: top;\n",
       "    }\n",
       "\n",
       "    .dataframe thead th {\n",
       "        text-align: right;\n",
       "    }\n",
       "</style>\n",
       "<table border=\"1\" class=\"dataframe\">\n",
       "  <thead>\n",
       "    <tr style=\"text-align: right;\">\n",
       "      <th></th>\n",
       "      <th>userID</th>\n",
       "      <th>trackID</th>\n",
       "      <th>ground_truth</th>\n",
       "    </tr>\n",
       "  </thead>\n",
       "  <tbody>\n",
       "    <tr>\n",
       "      <th>0</th>\n",
       "      <td>200031</td>\n",
       "      <td>30877</td>\n",
       "      <td>1</td>\n",
       "    </tr>\n",
       "    <tr>\n",
       "      <th>1</th>\n",
       "      <td>200031</td>\n",
       "      <td>8244</td>\n",
       "      <td>1</td>\n",
       "    </tr>\n",
       "    <tr>\n",
       "      <th>2</th>\n",
       "      <td>200031</td>\n",
       "      <td>130183</td>\n",
       "      <td>0</td>\n",
       "    </tr>\n",
       "    <tr>\n",
       "      <th>3</th>\n",
       "      <td>200031</td>\n",
       "      <td>198762</td>\n",
       "      <td>0</td>\n",
       "    </tr>\n",
       "    <tr>\n",
       "      <th>4</th>\n",
       "      <td>200031</td>\n",
       "      <td>34503</td>\n",
       "      <td>1</td>\n",
       "    </tr>\n",
       "    <tr>\n",
       "      <th>...</th>\n",
       "      <td>...</td>\n",
       "      <td>...</td>\n",
       "      <td>...</td>\n",
       "    </tr>\n",
       "    <tr>\n",
       "      <th>5995</th>\n",
       "      <td>212234</td>\n",
       "      <td>137371</td>\n",
       "      <td>0</td>\n",
       "    </tr>\n",
       "    <tr>\n",
       "      <th>5996</th>\n",
       "      <td>212234</td>\n",
       "      <td>42375</td>\n",
       "      <td>0</td>\n",
       "    </tr>\n",
       "    <tr>\n",
       "      <th>5997</th>\n",
       "      <td>212234</td>\n",
       "      <td>277867</td>\n",
       "      <td>1</td>\n",
       "    </tr>\n",
       "    <tr>\n",
       "      <th>5998</th>\n",
       "      <td>212234</td>\n",
       "      <td>83093</td>\n",
       "      <td>1</td>\n",
       "    </tr>\n",
       "    <tr>\n",
       "      <th>5999</th>\n",
       "      <td>212234</td>\n",
       "      <td>239143</td>\n",
       "      <td>1</td>\n",
       "    </tr>\n",
       "  </tbody>\n",
       "</table>\n",
       "<p>6000 rows × 3 columns</p>\n",
       "</div>"
      ],
      "text/plain": [
       "      userID  trackID  ground_truth\n",
       "0     200031    30877             1\n",
       "1     200031     8244             1\n",
       "2     200031   130183             0\n",
       "3     200031   198762             0\n",
       "4     200031    34503             1\n",
       "...      ...      ...           ...\n",
       "5995  212234   137371             0\n",
       "5996  212234    42375             0\n",
       "5997  212234   277867             1\n",
       "5998  212234    83093             1\n",
       "5999  212234   239143             1\n",
       "\n",
       "[6000 rows x 3 columns]"
      ]
     },
     "execution_count": 6,
     "metadata": {},
     "output_type": "execute_result"
    }
   ],
   "source": [
    "ground_truth_df"
   ]
  },
  {
   "cell_type": "markdown",
   "id": "e36f01ba-c33c-448b-bd11-ba242f0b1c59",
   "metadata": {},
   "source": [
    "Next we create another Pandas DF for `output1.txt`."
   ]
  },
  {
   "cell_type": "code",
   "execution_count": 7,
   "id": "f83ed126-6253-4fdc-9514-d46cca89667a",
   "metadata": {},
   "outputs": [],
   "source": [
    "scores_columns = ['userID', 'trackID', 'album_score', 'artist_score']"
   ]
  },
  {
   "cell_type": "code",
   "execution_count": 8,
   "id": "4699c7e5-cb1d-416f-a634-37a5785d1881",
   "metadata": {},
   "outputs": [],
   "source": [
    "scores_df = pd.read_csv('output1.txt', sep='|', names=scores_columns)"
   ]
  },
  {
   "cell_type": "code",
   "execution_count": 9,
   "id": "4f6b8829-2ee8-4e4a-bd5c-de4aa233bd41",
   "metadata": {},
   "outputs": [
    {
     "data": {
      "text/html": [
       "<div>\n",
       "<style scoped>\n",
       "    .dataframe tbody tr th:only-of-type {\n",
       "        vertical-align: middle;\n",
       "    }\n",
       "\n",
       "    .dataframe tbody tr th {\n",
       "        vertical-align: top;\n",
       "    }\n",
       "\n",
       "    .dataframe thead th {\n",
       "        text-align: right;\n",
       "    }\n",
       "</style>\n",
       "<table border=\"1\" class=\"dataframe\">\n",
       "  <thead>\n",
       "    <tr style=\"text-align: right;\">\n",
       "      <th></th>\n",
       "      <th>userID</th>\n",
       "      <th>trackID</th>\n",
       "      <th>album_score</th>\n",
       "      <th>artist_score</th>\n",
       "    </tr>\n",
       "  </thead>\n",
       "  <tbody>\n",
       "    <tr>\n",
       "      <th>0</th>\n",
       "      <td>199810</td>\n",
       "      <td>208019</td>\n",
       "      <td>0.0</td>\n",
       "      <td>0.0</td>\n",
       "    </tr>\n",
       "    <tr>\n",
       "      <th>1</th>\n",
       "      <td>199810</td>\n",
       "      <td>74139</td>\n",
       "      <td>0.0</td>\n",
       "      <td>0.0</td>\n",
       "    </tr>\n",
       "    <tr>\n",
       "      <th>2</th>\n",
       "      <td>199810</td>\n",
       "      <td>9903</td>\n",
       "      <td>0.0</td>\n",
       "      <td>0.0</td>\n",
       "    </tr>\n",
       "    <tr>\n",
       "      <th>3</th>\n",
       "      <td>199810</td>\n",
       "      <td>242681</td>\n",
       "      <td>0.0</td>\n",
       "      <td>0.0</td>\n",
       "    </tr>\n",
       "    <tr>\n",
       "      <th>4</th>\n",
       "      <td>199810</td>\n",
       "      <td>18515</td>\n",
       "      <td>0.0</td>\n",
       "      <td>70.0</td>\n",
       "    </tr>\n",
       "    <tr>\n",
       "      <th>...</th>\n",
       "      <td>...</td>\n",
       "      <td>...</td>\n",
       "      <td>...</td>\n",
       "      <td>...</td>\n",
       "    </tr>\n",
       "    <tr>\n",
       "      <th>119995</th>\n",
       "      <td>249010</td>\n",
       "      <td>72192</td>\n",
       "      <td>0.0</td>\n",
       "      <td>0.0</td>\n",
       "    </tr>\n",
       "    <tr>\n",
       "      <th>119996</th>\n",
       "      <td>249010</td>\n",
       "      <td>86104</td>\n",
       "      <td>0.0</td>\n",
       "      <td>0.0</td>\n",
       "    </tr>\n",
       "    <tr>\n",
       "      <th>119997</th>\n",
       "      <td>249010</td>\n",
       "      <td>186634</td>\n",
       "      <td>90.0</td>\n",
       "      <td>90.0</td>\n",
       "    </tr>\n",
       "    <tr>\n",
       "      <th>119998</th>\n",
       "      <td>249010</td>\n",
       "      <td>293818</td>\n",
       "      <td>0.0</td>\n",
       "      <td>0.0</td>\n",
       "    </tr>\n",
       "    <tr>\n",
       "      <th>119999</th>\n",
       "      <td>249010</td>\n",
       "      <td>262811</td>\n",
       "      <td>90.0</td>\n",
       "      <td>90.0</td>\n",
       "    </tr>\n",
       "  </tbody>\n",
       "</table>\n",
       "<p>120000 rows × 4 columns</p>\n",
       "</div>"
      ],
      "text/plain": [
       "        userID  trackID  album_score  artist_score\n",
       "0       199810   208019          0.0           0.0\n",
       "1       199810    74139          0.0           0.0\n",
       "2       199810     9903          0.0           0.0\n",
       "3       199810   242681          0.0           0.0\n",
       "4       199810    18515          0.0          70.0\n",
       "...        ...      ...          ...           ...\n",
       "119995  249010    72192          0.0           0.0\n",
       "119996  249010    86104          0.0           0.0\n",
       "119997  249010   186634         90.0          90.0\n",
       "119998  249010   293818          0.0           0.0\n",
       "119999  249010   262811         90.0          90.0\n",
       "\n",
       "[120000 rows x 4 columns]"
      ]
     },
     "execution_count": 9,
     "metadata": {},
     "output_type": "execute_result"
    }
   ],
   "source": [
    "scores_df"
   ]
  },
  {
   "cell_type": "markdown",
   "id": "16eccd25-ecff-436a-9655-4384633fa5e9",
   "metadata": {},
   "source": [
    "Here we merge the 2 data frames with an inner join on the `userID` and `trackID` columns. This will give us a 6,000 line DF that contains the scores and ground truths."
   ]
  },
  {
   "cell_type": "code",
   "execution_count": 10,
   "id": "953045f7-8bf2-42c9-94c4-d64e22aa143b",
   "metadata": {},
   "outputs": [],
   "source": [
    "ratings_df = ground_truth_df.merge(scores_df, on=['userID', 'trackID']).fillna(0)    # inner join by default"
   ]
  },
  {
   "cell_type": "code",
   "execution_count": 11,
   "id": "84c6a00c-c68e-409d-9321-e062b95aa59e",
   "metadata": {},
   "outputs": [
    {
     "data": {
      "text/html": [
       "<div>\n",
       "<style scoped>\n",
       "    .dataframe tbody tr th:only-of-type {\n",
       "        vertical-align: middle;\n",
       "    }\n",
       "\n",
       "    .dataframe tbody tr th {\n",
       "        vertical-align: top;\n",
       "    }\n",
       "\n",
       "    .dataframe thead th {\n",
       "        text-align: right;\n",
       "    }\n",
       "</style>\n",
       "<table border=\"1\" class=\"dataframe\">\n",
       "  <thead>\n",
       "    <tr style=\"text-align: right;\">\n",
       "      <th></th>\n",
       "      <th>userID</th>\n",
       "      <th>trackID</th>\n",
       "      <th>ground_truth</th>\n",
       "      <th>album_score</th>\n",
       "      <th>artist_score</th>\n",
       "    </tr>\n",
       "  </thead>\n",
       "  <tbody>\n",
       "    <tr>\n",
       "      <th>0</th>\n",
       "      <td>200031</td>\n",
       "      <td>30877</td>\n",
       "      <td>1</td>\n",
       "      <td>90.0</td>\n",
       "      <td>50.0</td>\n",
       "    </tr>\n",
       "    <tr>\n",
       "      <th>1</th>\n",
       "      <td>200031</td>\n",
       "      <td>8244</td>\n",
       "      <td>1</td>\n",
       "      <td>90.0</td>\n",
       "      <td>0.0</td>\n",
       "    </tr>\n",
       "    <tr>\n",
       "      <th>2</th>\n",
       "      <td>200031</td>\n",
       "      <td>130183</td>\n",
       "      <td>0</td>\n",
       "      <td>0.0</td>\n",
       "      <td>0.0</td>\n",
       "    </tr>\n",
       "    <tr>\n",
       "      <th>3</th>\n",
       "      <td>200031</td>\n",
       "      <td>198762</td>\n",
       "      <td>0</td>\n",
       "      <td>0.0</td>\n",
       "      <td>0.0</td>\n",
       "    </tr>\n",
       "    <tr>\n",
       "      <th>4</th>\n",
       "      <td>200031</td>\n",
       "      <td>34503</td>\n",
       "      <td>1</td>\n",
       "      <td>90.0</td>\n",
       "      <td>50.0</td>\n",
       "    </tr>\n",
       "    <tr>\n",
       "      <th>...</th>\n",
       "      <td>...</td>\n",
       "      <td>...</td>\n",
       "      <td>...</td>\n",
       "      <td>...</td>\n",
       "      <td>...</td>\n",
       "    </tr>\n",
       "    <tr>\n",
       "      <th>5995</th>\n",
       "      <td>212234</td>\n",
       "      <td>137371</td>\n",
       "      <td>0</td>\n",
       "      <td>0.0</td>\n",
       "      <td>0.0</td>\n",
       "    </tr>\n",
       "    <tr>\n",
       "      <th>5996</th>\n",
       "      <td>212234</td>\n",
       "      <td>42375</td>\n",
       "      <td>0</td>\n",
       "      <td>0.0</td>\n",
       "      <td>0.0</td>\n",
       "    </tr>\n",
       "    <tr>\n",
       "      <th>5997</th>\n",
       "      <td>212234</td>\n",
       "      <td>277867</td>\n",
       "      <td>1</td>\n",
       "      <td>90.0</td>\n",
       "      <td>90.0</td>\n",
       "    </tr>\n",
       "    <tr>\n",
       "      <th>5998</th>\n",
       "      <td>212234</td>\n",
       "      <td>83093</td>\n",
       "      <td>1</td>\n",
       "      <td>90.0</td>\n",
       "      <td>90.0</td>\n",
       "    </tr>\n",
       "    <tr>\n",
       "      <th>5999</th>\n",
       "      <td>212234</td>\n",
       "      <td>239143</td>\n",
       "      <td>1</td>\n",
       "      <td>90.0</td>\n",
       "      <td>90.0</td>\n",
       "    </tr>\n",
       "  </tbody>\n",
       "</table>\n",
       "<p>6000 rows × 5 columns</p>\n",
       "</div>"
      ],
      "text/plain": [
       "      userID  trackID  ground_truth  album_score  artist_score\n",
       "0     200031    30877             1         90.0          50.0\n",
       "1     200031     8244             1         90.0           0.0\n",
       "2     200031   130183             0          0.0           0.0\n",
       "3     200031   198762             0          0.0           0.0\n",
       "4     200031    34503             1         90.0          50.0\n",
       "...      ...      ...           ...          ...           ...\n",
       "5995  212234   137371             0          0.0           0.0\n",
       "5996  212234    42375             0          0.0           0.0\n",
       "5997  212234   277867             1         90.0          90.0\n",
       "5998  212234    83093             1         90.0          90.0\n",
       "5999  212234   239143             1         90.0          90.0\n",
       "\n",
       "[6000 rows x 5 columns]"
      ]
     },
     "execution_count": 11,
     "metadata": {},
     "output_type": "execute_result"
    }
   ],
   "source": [
    "ratings_df"
   ]
  },
  {
   "cell_type": "markdown",
   "id": "98e165db-c924-4c74-a0b2-2817e28c77a9",
   "metadata": {},
   "source": [
    "Finally we write this to a csv file."
   ]
  },
  {
   "cell_type": "code",
   "execution_count": 12,
   "id": "c9c7e254-39a4-42b8-9578-6e6a1cdbe39a",
   "metadata": {},
   "outputs": [],
   "source": [
    "ratings_df.to_csv('ratings.csv', index=None)    # index=None means index column is not written to csv"
   ]
  },
  {
   "cell_type": "markdown",
   "id": "8ef5b620-e0b0-4ae4-a40f-c2ae08b31cf2",
   "metadata": {},
   "source": [
    "### Part 2 - Classification Setup\n",
    "Here is where we take `ratings.csv` and do some additional setup to prepare it for the different ML classification models.\n",
    "\n",
    "First we create a Spark DF using `ratings.csv`. "
   ]
  },
  {
   "cell_type": "code",
   "execution_count": 13,
   "id": "6a951257-b087-4848-b169-cd310f9e836f",
   "metadata": {},
   "outputs": [],
   "source": [
    "ratings_df = spark.read.csv('ratings.csv', header=True, inferSchema=True)    # inferSchema scans csv twice to get datatype of each column"
   ]
  },
  {
   "cell_type": "code",
   "execution_count": 14,
   "id": "b8bea79f-78c5-4677-b9b9-1d1a91b6f968",
   "metadata": {},
   "outputs": [
    {
     "data": {
      "text/plain": [
       "DataFrame[userID: int, trackID: int, ground_truth: int, album_score: double, artist_score: double]"
      ]
     },
     "execution_count": 14,
     "metadata": {},
     "output_type": "execute_result"
    }
   ],
   "source": [
    "ratings_df"
   ]
  },
  {
   "cell_type": "code",
   "execution_count": 15,
   "id": "00d9ac25-c458-4b88-8f4a-2cdba3fe7fbc",
   "metadata": {},
   "outputs": [
    {
     "data": {
      "text/plain": [
       "6000"
      ]
     },
     "execution_count": 15,
     "metadata": {},
     "output_type": "execute_result"
    }
   ],
   "source": [
    "ratings_df.count()"
   ]
  },
  {
   "cell_type": "code",
   "execution_count": 16,
   "id": "184f90d6-b5be-4d6e-8559-554e2410c752",
   "metadata": {},
   "outputs": [],
   "source": [
    "ratings_columns = ratings_df.columns"
   ]
  },
  {
   "cell_type": "markdown",
   "id": "3c5144d7-3c42-481c-9299-6b3ee2c6e231",
   "metadata": {},
   "source": [
    "We can use `.groupby()` and `.count()` to see if the 2 classes (0 and 1) are balanced. We can see from the below that they are since each class has an equal number of entries."
   ]
  },
  {
   "cell_type": "code",
   "execution_count": 17,
   "id": "22fb3e1f-7af9-4b08-aa6e-8ae2c798b941",
   "metadata": {},
   "outputs": [
    {
     "data": {
      "text/html": [
       "<div>\n",
       "<style scoped>\n",
       "    .dataframe tbody tr th:only-of-type {\n",
       "        vertical-align: middle;\n",
       "    }\n",
       "\n",
       "    .dataframe tbody tr th {\n",
       "        vertical-align: top;\n",
       "    }\n",
       "\n",
       "    .dataframe thead th {\n",
       "        text-align: right;\n",
       "    }\n",
       "</style>\n",
       "<table border=\"1\" class=\"dataframe\">\n",
       "  <thead>\n",
       "    <tr style=\"text-align: right;\">\n",
       "      <th></th>\n",
       "      <th>userID</th>\n",
       "      <th>trackID</th>\n",
       "      <th>album_score</th>\n",
       "      <th>artist_score</th>\n",
       "    </tr>\n",
       "    <tr>\n",
       "      <th>ground_truth</th>\n",
       "      <th></th>\n",
       "      <th></th>\n",
       "      <th></th>\n",
       "      <th></th>\n",
       "    </tr>\n",
       "  </thead>\n",
       "  <tbody>\n",
       "    <tr>\n",
       "      <th>0</th>\n",
       "      <td>3000</td>\n",
       "      <td>3000</td>\n",
       "      <td>3000</td>\n",
       "      <td>3000</td>\n",
       "    </tr>\n",
       "    <tr>\n",
       "      <th>1</th>\n",
       "      <td>3000</td>\n",
       "      <td>3000</td>\n",
       "      <td>3000</td>\n",
       "      <td>3000</td>\n",
       "    </tr>\n",
       "  </tbody>\n",
       "</table>\n",
       "</div>"
      ],
      "text/plain": [
       "              userID  trackID  album_score  artist_score\n",
       "ground_truth                                            \n",
       "0               3000     3000         3000          3000\n",
       "1               3000     3000         3000          3000"
      ]
     },
     "execution_count": 17,
     "metadata": {},
     "output_type": "execute_result"
    }
   ],
   "source": [
    "pd.DataFrame(ratings_df.take(6000), columns=ratings_columns).groupby('ground_truth').count()"
   ]
  },
  {
   "cell_type": "markdown",
   "id": "d4a15b7e-7f8e-4953-bb97-7b2427d51b4f",
   "metadata": {},
   "source": [
    "Below is the schema of the Spark DF."
   ]
  },
  {
   "cell_type": "code",
   "execution_count": 18,
   "id": "a7f06f6b-1fee-421d-b5fe-d14c319b61d9",
   "metadata": {},
   "outputs": [
    {
     "name": "stdout",
     "output_type": "stream",
     "text": [
      "root\n",
      " |-- userID: integer (nullable = true)\n",
      " |-- trackID: integer (nullable = true)\n",
      " |-- ground_truth: integer (nullable = true)\n",
      " |-- album_score: double (nullable = true)\n",
      " |-- artist_score: double (nullable = true)\n",
      "\n"
     ]
    }
   ],
   "source": [
    "ratings_df.printSchema()"
   ]
  },
  {
   "cell_type": "markdown",
   "id": "f612bf7f-dbb8-4c6c-bac1-0ed5591a7582",
   "metadata": {},
   "source": [
    "We want the ground_truth column to be strings a not doubles so that we can use the `StringIndexer()` method on it."
   ]
  },
  {
   "cell_type": "code",
   "execution_count": 22,
   "id": "c310e9b8-b4ff-4b3c-8570-68a60e35b4b3",
   "metadata": {},
   "outputs": [],
   "source": [
    "ratings_df = ratings_df.withColumn('ground_truth', ratings_df['ground_truth'].cast('string'))"
   ]
  },
  {
   "cell_type": "code",
   "execution_count": 23,
   "id": "c4e9a754-5b00-4474-ac0e-fb52da6a7736",
   "metadata": {},
   "outputs": [
    {
     "data": {
      "text/plain": [
       "[('userID', 'int'),\n",
       " ('trackID', 'int'),\n",
       " ('ground_truth', 'string'),\n",
       " ('album_score', 'double'),\n",
       " ('artist_score', 'double')]"
      ]
     },
     "execution_count": 23,
     "metadata": {},
     "output_type": "execute_result"
    }
   ],
   "source": [
    "ratings_df.dtypes"
   ]
  },
  {
   "cell_type": "markdown",
   "id": "f2cacd70-9a08-483e-9889-86bb6ad932cf",
   "metadata": {},
   "source": [
    "Use `VectorAssembler()` to do a feature transform, merging mulitple numeric columns into a vector column"
   ]
  },
  {
   "cell_type": "code",
   "execution_count": 19,
   "id": "937a2150-8e25-4197-baec-850a781d5150",
   "metadata": {
    "tags": []
   },
   "outputs": [],
   "source": [
    "feature_columns = ['album_score', 'artist_score']\n",
    "stages = []\n",
    "assembler_inputs = feature_columns\n",
    "assembler = VectorAssembler(inputCols=assembler_inputs, outputCol='features')    # merges multiple columns into a vector column\n",
    "stages += [assembler]"
   ]
  },
  {
   "cell_type": "markdown",
   "id": "057b1b62-32ba-4927-8dbb-96ae23bd3cdc",
   "metadata": {},
   "source": [
    "Use `StringIndexer()` to encode a string column of labels to a column of label indices."
   ]
  },
  {
   "cell_type": "code",
   "execution_count": 24,
   "id": "db40bdf4-44e3-4284-97f5-e5db21adafb5",
   "metadata": {},
   "outputs": [],
   "source": [
    "label_column = 'ground_truth'\n",
    "label_string_idx = StringIndexer(inputCol=label_column, outputCol='label')\n",
    "stages += [label_string_idx]"
   ]
  },
  {
   "cell_type": "markdown",
   "id": "50b6f946-44a0-4f15-b21b-e7f894991bfa",
   "metadata": {},
   "source": [
    "A Pipeline consists of a sequence of stages. We can use it to chain multiple Transformers and Estimators together to specifty our ML workflow.\n",
    "\n",
    "An Estimator is an algorithm which can be fit on a DataFrame to produce a Transformer.\n",
    "\n",
    "A Transformer is an algorithm which can transform one DataFrame into another DataFrame."
   ]
  },
  {
   "cell_type": "code",
   "execution_count": 25,
   "id": "8596bcf9-bc8a-453c-b495-394fa8e1ee63",
   "metadata": {},
   "outputs": [],
   "source": [
    "pipeline = Pipeline(stages=stages)               # initialize the pipeline\n",
    "pipeline_model = pipeline.fit(ratings_df)        # fit the pipeline model\n",
    "train_df = pipeline_model.transform(ratings_df)  # transform the input DF with the pipeline model"
   ]
  },
  {
   "cell_type": "code",
   "execution_count": 26,
   "id": "015a4526-2746-47b2-a3d4-7f3756e7f390",
   "metadata": {},
   "outputs": [
    {
     "name": "stdout",
     "output_type": "stream",
     "text": [
      "root\n",
      " |-- label: double (nullable = false)\n",
      " |-- features: vector (nullable = true)\n",
      " |-- userID: integer (nullable = true)\n",
      " |-- trackID: integer (nullable = true)\n",
      " |-- ground_truth: string (nullable = true)\n",
      " |-- album_score: double (nullable = true)\n",
      " |-- artist_score: double (nullable = true)\n",
      "\n"
     ]
    }
   ],
   "source": [
    "selected_columns = ['label', 'features'] + ratings_columns\n",
    "train_df = train_df.select(selected_columns)\n",
    "train_df.printSchema()"
   ]
  },
  {
   "cell_type": "markdown",
   "id": "a68238dc-edbf-4542-aaa9-d49b5305804f",
   "metadata": {},
   "source": [
    "Above we can see that we now have 2 new columns:\n",
    "- `label` - Column of type double that contains the labels\n",
    "- `features` - Column of type vector that contains the features\n",
    "\n",
    "Let's display the first 5 lines with a Pandas DF"
   ]
  },
  {
   "cell_type": "code",
   "execution_count": 27,
   "id": "abe2587c-7e67-4002-976f-29a85ab740bd",
   "metadata": {},
   "outputs": [
    {
     "data": {
      "text/html": [
       "<div>\n",
       "<style scoped>\n",
       "    .dataframe tbody tr th:only-of-type {\n",
       "        vertical-align: middle;\n",
       "    }\n",
       "\n",
       "    .dataframe tbody tr th {\n",
       "        vertical-align: top;\n",
       "    }\n",
       "\n",
       "    .dataframe thead th {\n",
       "        text-align: right;\n",
       "    }\n",
       "</style>\n",
       "<table border=\"1\" class=\"dataframe\">\n",
       "  <thead>\n",
       "    <tr style=\"text-align: right;\">\n",
       "      <th></th>\n",
       "      <th>0</th>\n",
       "      <th>1</th>\n",
       "      <th>2</th>\n",
       "      <th>3</th>\n",
       "      <th>4</th>\n",
       "    </tr>\n",
       "  </thead>\n",
       "  <tbody>\n",
       "    <tr>\n",
       "      <th>label</th>\n",
       "      <td>1.0</td>\n",
       "      <td>1.0</td>\n",
       "      <td>0.0</td>\n",
       "      <td>0.0</td>\n",
       "      <td>1.0</td>\n",
       "    </tr>\n",
       "    <tr>\n",
       "      <th>features</th>\n",
       "      <td>[90.0, 50.0]</td>\n",
       "      <td>[90.0, 0.0]</td>\n",
       "      <td>(0.0, 0.0)</td>\n",
       "      <td>(0.0, 0.0)</td>\n",
       "      <td>[90.0, 50.0]</td>\n",
       "    </tr>\n",
       "    <tr>\n",
       "      <th>userID</th>\n",
       "      <td>200031</td>\n",
       "      <td>200031</td>\n",
       "      <td>200031</td>\n",
       "      <td>200031</td>\n",
       "      <td>200031</td>\n",
       "    </tr>\n",
       "    <tr>\n",
       "      <th>trackID</th>\n",
       "      <td>30877</td>\n",
       "      <td>8244</td>\n",
       "      <td>130183</td>\n",
       "      <td>198762</td>\n",
       "      <td>34503</td>\n",
       "    </tr>\n",
       "    <tr>\n",
       "      <th>ground_truth</th>\n",
       "      <td>1</td>\n",
       "      <td>1</td>\n",
       "      <td>0</td>\n",
       "      <td>0</td>\n",
       "      <td>1</td>\n",
       "    </tr>\n",
       "    <tr>\n",
       "      <th>album_score</th>\n",
       "      <td>90.0</td>\n",
       "      <td>90.0</td>\n",
       "      <td>0.0</td>\n",
       "      <td>0.0</td>\n",
       "      <td>90.0</td>\n",
       "    </tr>\n",
       "    <tr>\n",
       "      <th>artist_score</th>\n",
       "      <td>50.0</td>\n",
       "      <td>0.0</td>\n",
       "      <td>0.0</td>\n",
       "      <td>0.0</td>\n",
       "      <td>50.0</td>\n",
       "    </tr>\n",
       "  </tbody>\n",
       "</table>\n",
       "</div>"
      ],
      "text/plain": [
       "                         0            1           2           3             4\n",
       "label                  1.0          1.0         0.0         0.0           1.0\n",
       "features      [90.0, 50.0]  [90.0, 0.0]  (0.0, 0.0)  (0.0, 0.0)  [90.0, 50.0]\n",
       "userID              200031       200031      200031      200031        200031\n",
       "trackID              30877         8244      130183      198762         34503\n",
       "ground_truth             1            1           0           0             1\n",
       "album_score           90.0         90.0         0.0         0.0          90.0\n",
       "artist_score          50.0          0.0         0.0         0.0          50.0"
      ]
     },
     "execution_count": 27,
     "metadata": {},
     "output_type": "execute_result"
    }
   ],
   "source": [
    "pd.DataFrame(train_df.take(5), columns=train_df.columns).transpose()"
   ]
  },
  {
   "cell_type": "markdown",
   "id": "0ceff799-377b-4f69-bc9c-9861f24d6b9b",
   "metadata": {},
   "source": [
    "Now we split the data into training data and testing data with a 70:30 split."
   ]
  },
  {
   "cell_type": "code",
   "execution_count": 28,
   "id": "ec2ffdf8-410b-4878-b017-218f77eb8223",
   "metadata": {},
   "outputs": [],
   "source": [
    "train_df, test_df = train_df.randomSplit([0.7, 0.3], seed=2018)"
   ]
  },
  {
   "cell_type": "code",
   "execution_count": 29,
   "id": "794ce717-633f-46aa-a6a1-acd7baf51fdd",
   "metadata": {},
   "outputs": [
    {
     "name": "stdout",
     "output_type": "stream",
     "text": [
      "Training Dataset Count: 4260\n",
      "Test Dataset Count: 1740\n"
     ]
    }
   ],
   "source": [
    "print(f'Training Dataset Count: {train_df.count()}')\n",
    "print(f'Test Dataset Count: {test_df.count()}')"
   ]
  },
  {
   "cell_type": "markdown",
   "id": "6a68c9f5-2367-486c-ac46-1840ca544eca",
   "metadata": {},
   "source": [
    "--------------------------------------"
   ]
  },
  {
   "cell_type": "markdown",
   "id": "6ee8748c-2af1-4567-9537-3f68ba9fc215",
   "metadata": {},
   "source": [
    "#### Load in and prepare prediction file\n",
    "Below, we load in the file `output1.txt`, which is the 120,000 long file we want to get predictions on with our models. We need to do a similar setup to what we did above by setting up the pipeline and getting the label and features columns."
   ]
  },
  {
   "cell_type": "code",
   "execution_count": 113,
   "id": "194b5ccc-39d4-42b6-a14c-ed8eead2bff4",
   "metadata": {},
   "outputs": [],
   "source": [
    "prediction_df = spark.read.csv('output1.txt', sep='|', inferSchema=True)    # inferSchema scans csv twice to get datatype of each column"
   ]
  },
  {
   "cell_type": "code",
   "execution_count": 114,
   "id": "4a3bee6c-7af0-4973-a90d-75623b0097f3",
   "metadata": {},
   "outputs": [
    {
     "data": {
      "text/plain": [
       "120000"
      ]
     },
     "execution_count": 114,
     "metadata": {},
     "output_type": "execute_result"
    }
   ],
   "source": [
    "prediction_df.count()"
   ]
  },
  {
   "cell_type": "code",
   "execution_count": 115,
   "id": "cd7ccb36-03ed-4915-9e1f-de50242709b1",
   "metadata": {},
   "outputs": [],
   "source": [
    "prediction_df = prediction_df.withColumnRenamed(\"_c0\", \"userID\").withColumnRenamed(\"_c1\", \"trackID\").withColumnRenamed(\"_c2\", \"albumScore\").withColumnRenamed(\"_c3\", \"artistScore\")"
   ]
  },
  {
   "cell_type": "code",
   "execution_count": 116,
   "id": "c45dcb03-cd23-47bd-b8a0-c9b9dd558536",
   "metadata": {},
   "outputs": [
    {
     "data": {
      "text/plain": [
       "['userID', 'trackID', 'albumScore', 'artistScore']"
      ]
     },
     "execution_count": 116,
     "metadata": {},
     "output_type": "execute_result"
    }
   ],
   "source": [
    "prediction_columns = prediction_df.columns\n",
    "prediction_columns"
   ]
  },
  {
   "cell_type": "code",
   "execution_count": 117,
   "id": "bfb23488-fc9f-4ce8-bb15-b9939bd5b97c",
   "metadata": {},
   "outputs": [],
   "source": [
    "prediction_df = prediction_df.withColumn('prediction', lit('0'))"
   ]
  },
  {
   "cell_type": "code",
   "execution_count": 118,
   "id": "a70f7e5a-28f0-4a90-8113-17bdd5dd98cd",
   "metadata": {},
   "outputs": [
    {
     "data": {
      "text/html": [
       "<div>\n",
       "<style scoped>\n",
       "    .dataframe tbody tr th:only-of-type {\n",
       "        vertical-align: middle;\n",
       "    }\n",
       "\n",
       "    .dataframe tbody tr th {\n",
       "        vertical-align: top;\n",
       "    }\n",
       "\n",
       "    .dataframe thead th {\n",
       "        text-align: right;\n",
       "    }\n",
       "</style>\n",
       "<table border=\"1\" class=\"dataframe\">\n",
       "  <thead>\n",
       "    <tr style=\"text-align: right;\">\n",
       "      <th></th>\n",
       "      <th>0</th>\n",
       "      <th>1</th>\n",
       "      <th>2</th>\n",
       "      <th>3</th>\n",
       "      <th>4</th>\n",
       "    </tr>\n",
       "  </thead>\n",
       "  <tbody>\n",
       "    <tr>\n",
       "      <th>userID</th>\n",
       "      <td>199810</td>\n",
       "      <td>199810</td>\n",
       "      <td>199810</td>\n",
       "      <td>199810</td>\n",
       "      <td>199810</td>\n",
       "    </tr>\n",
       "    <tr>\n",
       "      <th>trackID</th>\n",
       "      <td>208019</td>\n",
       "      <td>74139</td>\n",
       "      <td>9903</td>\n",
       "      <td>242681</td>\n",
       "      <td>18515</td>\n",
       "    </tr>\n",
       "    <tr>\n",
       "      <th>albumScore</th>\n",
       "      <td>0.0</td>\n",
       "      <td>0.0</td>\n",
       "      <td>0.0</td>\n",
       "      <td>0.0</td>\n",
       "      <td>0.0</td>\n",
       "    </tr>\n",
       "    <tr>\n",
       "      <th>artistScore</th>\n",
       "      <td>0.0</td>\n",
       "      <td>0.0</td>\n",
       "      <td>0.0</td>\n",
       "      <td>0.0</td>\n",
       "      <td>70.0</td>\n",
       "    </tr>\n",
       "    <tr>\n",
       "      <th>prediction</th>\n",
       "      <td>0</td>\n",
       "      <td>0</td>\n",
       "      <td>0</td>\n",
       "      <td>0</td>\n",
       "      <td>0</td>\n",
       "    </tr>\n",
       "  </tbody>\n",
       "</table>\n",
       "</div>"
      ],
      "text/plain": [
       "                  0       1       2       3       4\n",
       "userID       199810  199810  199810  199810  199810\n",
       "trackID      208019   74139    9903  242681   18515\n",
       "albumScore      0.0     0.0     0.0     0.0     0.0\n",
       "artistScore     0.0     0.0     0.0     0.0    70.0\n",
       "prediction        0       0       0       0       0"
      ]
     },
     "execution_count": 118,
     "metadata": {},
     "output_type": "execute_result"
    }
   ],
   "source": [
    "pd.DataFrame(prediction_df.take(5), columns=prediction_df.columns).transpose()"
   ]
  },
  {
   "cell_type": "code",
   "execution_count": 119,
   "id": "d8a3b4e7-7c0e-48cd-a19c-c37d72cf1f5c",
   "metadata": {},
   "outputs": [
    {
     "name": "stdout",
     "output_type": "stream",
     "text": [
      "root\n",
      " |-- userID: integer (nullable = true)\n",
      " |-- trackID: integer (nullable = true)\n",
      " |-- albumScore: double (nullable = true)\n",
      " |-- artistScore: double (nullable = true)\n",
      " |-- prediction: string (nullable = false)\n",
      "\n"
     ]
    }
   ],
   "source": [
    "prediction_df.printSchema()"
   ]
  },
  {
   "cell_type": "code",
   "execution_count": 120,
   "id": "28138d69-42d3-475c-8ee1-35ffb5f5cf5e",
   "metadata": {},
   "outputs": [],
   "source": [
    "feature_columns = ['albumScore', 'artistScore']\n",
    "stages = []\n",
    "assembler_inputs = feature_columns\n",
    "assembler = VectorAssembler(inputCols=assembler_inputs, outputCol='features')    # merges multiple columns into a vector column\n",
    "stages += [assembler]"
   ]
  },
  {
   "cell_type": "code",
   "execution_count": 121,
   "id": "d7a2b86f-74f0-49ee-87f1-dfe9d2e82d05",
   "metadata": {},
   "outputs": [],
   "source": [
    "label_column = 'prediction'\n",
    "label_string_idx = StringIndexer(inputCol=label_column, outputCol='label')\n",
    "stages += [label_string_idx]"
   ]
  },
  {
   "cell_type": "code",
   "execution_count": 122,
   "id": "84ffd114-8f0b-41a4-aa7d-d324ed2c7dd9",
   "metadata": {},
   "outputs": [],
   "source": [
    "prediction_pipeline = Pipeline(stages=stages)                       # initialize the pipeline\n",
    "prediction_pipeline_model = prediction_pipeline.fit(prediction_df)  # fit the pipeline model\n",
    "prediction_df = prediction_pipeline_model.transform(prediction_df)  # transform the input DF with the pipeline model"
   ]
  },
  {
   "cell_type": "code",
   "execution_count": 123,
   "id": "2c58a78a-d15b-42bf-96a8-b001eb0e686f",
   "metadata": {},
   "outputs": [
    {
     "name": "stdout",
     "output_type": "stream",
     "text": [
      "root\n",
      " |-- label: double (nullable = false)\n",
      " |-- features: vector (nullable = true)\n",
      " |-- userID: integer (nullable = true)\n",
      " |-- trackID: integer (nullable = true)\n",
      " |-- albumScore: double (nullable = true)\n",
      " |-- artistScore: double (nullable = true)\n",
      "\n"
     ]
    }
   ],
   "source": [
    "selected_columns = ['label', 'features'] + prediction_columns\n",
    "prediction_df = prediction_df.select(selected_columns)\n",
    "prediction_df.printSchema()"
   ]
  },
  {
   "cell_type": "code",
   "execution_count": 124,
   "id": "331734f0-b280-470f-8528-0b4fb8e93c2d",
   "metadata": {},
   "outputs": [
    {
     "data": {
      "text/html": [
       "<div>\n",
       "<style scoped>\n",
       "    .dataframe tbody tr th:only-of-type {\n",
       "        vertical-align: middle;\n",
       "    }\n",
       "\n",
       "    .dataframe tbody tr th {\n",
       "        vertical-align: top;\n",
       "    }\n",
       "\n",
       "    .dataframe thead th {\n",
       "        text-align: right;\n",
       "    }\n",
       "</style>\n",
       "<table border=\"1\" class=\"dataframe\">\n",
       "  <thead>\n",
       "    <tr style=\"text-align: right;\">\n",
       "      <th></th>\n",
       "      <th>0</th>\n",
       "      <th>1</th>\n",
       "      <th>2</th>\n",
       "      <th>3</th>\n",
       "      <th>4</th>\n",
       "    </tr>\n",
       "  </thead>\n",
       "  <tbody>\n",
       "    <tr>\n",
       "      <th>label</th>\n",
       "      <td>0.0</td>\n",
       "      <td>0.0</td>\n",
       "      <td>0.0</td>\n",
       "      <td>0.0</td>\n",
       "      <td>0.0</td>\n",
       "    </tr>\n",
       "    <tr>\n",
       "      <th>features</th>\n",
       "      <td>(0.0, 0.0)</td>\n",
       "      <td>(0.0, 0.0)</td>\n",
       "      <td>(0.0, 0.0)</td>\n",
       "      <td>(0.0, 0.0)</td>\n",
       "      <td>[0.0, 70.0]</td>\n",
       "    </tr>\n",
       "    <tr>\n",
       "      <th>userID</th>\n",
       "      <td>199810</td>\n",
       "      <td>199810</td>\n",
       "      <td>199810</td>\n",
       "      <td>199810</td>\n",
       "      <td>199810</td>\n",
       "    </tr>\n",
       "    <tr>\n",
       "      <th>trackID</th>\n",
       "      <td>208019</td>\n",
       "      <td>74139</td>\n",
       "      <td>9903</td>\n",
       "      <td>242681</td>\n",
       "      <td>18515</td>\n",
       "    </tr>\n",
       "    <tr>\n",
       "      <th>albumScore</th>\n",
       "      <td>0.0</td>\n",
       "      <td>0.0</td>\n",
       "      <td>0.0</td>\n",
       "      <td>0.0</td>\n",
       "      <td>0.0</td>\n",
       "    </tr>\n",
       "    <tr>\n",
       "      <th>artistScore</th>\n",
       "      <td>0.0</td>\n",
       "      <td>0.0</td>\n",
       "      <td>0.0</td>\n",
       "      <td>0.0</td>\n",
       "      <td>70.0</td>\n",
       "    </tr>\n",
       "  </tbody>\n",
       "</table>\n",
       "</div>"
      ],
      "text/plain": [
       "                      0           1           2           3            4\n",
       "label               0.0         0.0         0.0         0.0          0.0\n",
       "features     (0.0, 0.0)  (0.0, 0.0)  (0.0, 0.0)  (0.0, 0.0)  [0.0, 70.0]\n",
       "userID           199810      199810      199810      199810       199810\n",
       "trackID          208019       74139        9903      242681        18515\n",
       "albumScore          0.0         0.0         0.0         0.0          0.0\n",
       "artistScore         0.0         0.0         0.0         0.0         70.0"
      ]
     },
     "execution_count": 124,
     "metadata": {},
     "output_type": "execute_result"
    }
   ],
   "source": [
    "pd.DataFrame(prediction_df.take(5), columns=prediction_df.columns).transpose()"
   ]
  },
  {
   "cell_type": "markdown",
   "id": "0df6508a-8754-4040-afc7-a57217bc716b",
   "metadata": {},
   "source": [
    "### Model 1 - Logistic Regression"
   ]
  },
  {
   "cell_type": "code",
   "execution_count": 41,
   "id": "590f79bd-aa15-4e25-9cce-fba9c716767c",
   "metadata": {},
   "outputs": [],
   "source": [
    "from pyspark.ml.classification import LogisticRegression"
   ]
  },
  {
   "cell_type": "code",
   "execution_count": 184,
   "id": "eeee7338-3639-4b22-8ce6-3188b83ada80",
   "metadata": {},
   "outputs": [
    {
     "name": "stdout",
     "output_type": "stream",
     "text": [
      "Done! Time elapsed - 0.63 seconds.\n"
     ]
    }
   ],
   "source": [
    "start_time = time.time()\n",
    "\n",
    "lr = LogisticRegression(featuresCol = 'features', labelCol = 'label', maxIter=100)  # initialize a logistic regression model\n",
    "lr_model = lr.fit(train_df)                                                         # fit the training data with the model\n",
    "\n",
    "end_time = time.time()\n",
    "elapsed_time = end_time - start_time\n",
    "print(f'Done! Time elapsed - {elapsed_time:.2f} seconds.')"
   ]
  },
  {
   "cell_type": "code",
   "execution_count": 185,
   "id": "1b422e06-99ff-44d6-9e77-592b4a2ea573",
   "metadata": {},
   "outputs": [
    {
     "data": {
      "text/plain": [
       "DenseVector([0.0452, 0.0326])"
      ]
     },
     "execution_count": 185,
     "metadata": {},
     "output_type": "execute_result"
    }
   ],
   "source": [
    "lr_model.coefficients"
   ]
  },
  {
   "cell_type": "code",
   "execution_count": 186,
   "id": "011a75eb-522f-45c3-bc43-43f706c0c88c",
   "metadata": {},
   "outputs": [],
   "source": [
    "beta = np.sort(lr_model.coefficients)    # return a sorted copy of an array"
   ]
  },
  {
   "cell_type": "code",
   "execution_count": 187,
   "id": "97f9d881-1bb5-408e-9791-7c3ee05e6643",
   "metadata": {},
   "outputs": [
    {
     "data": {
      "text/plain": [
       "array([0.03256798, 0.04519993])"
      ]
     },
     "execution_count": 187,
     "metadata": {},
     "output_type": "execute_result"
    }
   ],
   "source": [
    "beta"
   ]
  },
  {
   "cell_type": "code",
   "execution_count": 188,
   "id": "bf00141c-29ec-4cdd-89c3-7c16ccc89fa0",
   "metadata": {},
   "outputs": [
    {
     "data": {
      "image/png": "[encoded data removed]",
      "text/plain": [
       "<Figure size 432x288 with 1 Axes>"
      ]
     },
     "metadata": {
      "needs_background": "light"
     },
     "output_type": "display_data"
    }
   ],
   "source": [
    "plt.plot(beta)\n",
    "plt.ylabel('Beta Coefficients')\n",
    "plt.show()"
   ]
  },
  {
   "cell_type": "code",
   "execution_count": 189,
   "id": "14c92d73-b0cd-403e-aee1-a240738b6f3b",
   "metadata": {},
   "outputs": [],
   "source": [
    "training_summary = lr_model.summary    # get summary (e.g. accuracy/precision/recall, objective history, total iterations) of model trained on the training set"
   ]
  },
  {
   "cell_type": "code",
   "execution_count": 190,
   "id": "046ddc91-9c64-4fb8-a996-8e444f5b136b",
   "metadata": {},
   "outputs": [],
   "source": [
    "roc = training_summary.roc.toPandas()    # get roc DF"
   ]
  },
  {
   "cell_type": "code",
   "execution_count": 191,
   "id": "56a1e3d4-bde0-49c4-9539-2fd86ff4d854",
   "metadata": {},
   "outputs": [
    {
     "data": {
      "text/html": [
       "<div>\n",
       "<style scoped>\n",
       "    .dataframe tbody tr th:only-of-type {\n",
       "        vertical-align: middle;\n",
       "    }\n",
       "\n",
       "    .dataframe tbody tr th {\n",
       "        vertical-align: top;\n",
       "    }\n",
       "\n",
       "    .dataframe thead th {\n",
       "        text-align: right;\n",
       "    }\n",
       "</style>\n",
       "<table border=\"1\" class=\"dataframe\">\n",
       "  <thead>\n",
       "    <tr style=\"text-align: right;\">\n",
       "      <th></th>\n",
       "      <th>FPR</th>\n",
       "      <th>TPR</th>\n",
       "    </tr>\n",
       "  </thead>\n",
       "  <tbody>\n",
       "    <tr>\n",
       "      <th>0</th>\n",
       "      <td>0.000000</td>\n",
       "      <td>0.000000</td>\n",
       "    </tr>\n",
       "    <tr>\n",
       "      <th>1</th>\n",
       "      <td>0.000000</td>\n",
       "      <td>0.039683</td>\n",
       "    </tr>\n",
       "    <tr>\n",
       "      <th>2</th>\n",
       "      <td>0.000000</td>\n",
       "      <td>0.040149</td>\n",
       "    </tr>\n",
       "    <tr>\n",
       "      <th>3</th>\n",
       "      <td>0.000000</td>\n",
       "      <td>0.040616</td>\n",
       "    </tr>\n",
       "    <tr>\n",
       "      <th>4</th>\n",
       "      <td>0.000000</td>\n",
       "      <td>0.041083</td>\n",
       "    </tr>\n",
       "    <tr>\n",
       "      <th>...</th>\n",
       "      <td>...</td>\n",
       "      <td>...</td>\n",
       "    </tr>\n",
       "    <tr>\n",
       "      <th>88</th>\n",
       "      <td>0.076015</td>\n",
       "      <td>0.783847</td>\n",
       "    </tr>\n",
       "    <tr>\n",
       "      <th>89</th>\n",
       "      <td>0.076487</td>\n",
       "      <td>0.783847</td>\n",
       "    </tr>\n",
       "    <tr>\n",
       "      <th>90</th>\n",
       "      <td>0.076959</td>\n",
       "      <td>0.783847</td>\n",
       "    </tr>\n",
       "    <tr>\n",
       "      <th>91</th>\n",
       "      <td>1.000000</td>\n",
       "      <td>1.000000</td>\n",
       "    </tr>\n",
       "    <tr>\n",
       "      <th>92</th>\n",
       "      <td>1.000000</td>\n",
       "      <td>1.000000</td>\n",
       "    </tr>\n",
       "  </tbody>\n",
       "</table>\n",
       "<p>93 rows × 2 columns</p>\n",
       "</div>"
      ],
      "text/plain": [
       "         FPR       TPR\n",
       "0   0.000000  0.000000\n",
       "1   0.000000  0.039683\n",
       "2   0.000000  0.040149\n",
       "3   0.000000  0.040616\n",
       "4   0.000000  0.041083\n",
       "..       ...       ...\n",
       "88  0.076015  0.783847\n",
       "89  0.076487  0.783847\n",
       "90  0.076959  0.783847\n",
       "91  1.000000  1.000000\n",
       "92  1.000000  1.000000\n",
       "\n",
       "[93 rows x 2 columns]"
      ]
     },
     "execution_count": 191,
     "metadata": {},
     "output_type": "execute_result"
    }
   ],
   "source": [
    "roc"
   ]
  },
  {
   "cell_type": "code",
   "execution_count": 192,
   "id": "125483d2-0152-4965-a29c-1efe316818f4",
   "metadata": {},
   "outputs": [
    {
     "data": {
      "image/png": "[encoded data removed]",
      "text/plain": [
       "<Figure size 432x288 with 1 Axes>"
      ]
     },
     "metadata": {
      "needs_background": "light"
     },
     "output_type": "display_data"
    },
    {
     "name": "stdout",
     "output_type": "stream",
     "text": [
      "Training Set AUC = 0.8737133978552075\n"
     ]
    }
   ],
   "source": [
    "plt.plot(roc.FPR, roc.TPR)\n",
    "plt.xlabel('False Positive Rate')\n",
    "plt.ylabel('True Positive Rate')\n",
    "plt.title('ROC Curve - Logistic Regression')\n",
    "plt.show()\n",
    "print(f'Training Set AUC = {training_summary.areaUnderROC}')"
   ]
  },
  {
   "cell_type": "markdown",
   "id": "ecec195f-abec-415c-9f20-4e0c0fcf5a9a",
   "metadata": {},
   "source": [
    "Above is the performance on the training dataset. An AUC of 0.874 is pretty solid. We now transform the test dataset with this model."
   ]
  },
  {
   "cell_type": "code",
   "execution_count": 193,
   "id": "84ec64d5-a34e-4f3c-b420-73d49a4ade2d",
   "metadata": {},
   "outputs": [
    {
     "name": "stdout",
     "output_type": "stream",
     "text": [
      "+------+-------+-----+--------------------+--------------------+----------+\n",
      "|userID|trackID|label|         probability|       rawPrediction|prediction|\n",
      "+------+-------+-----+--------------------+--------------------+----------+\n",
      "|200031| 130183|  0.0|[0.80218267023863...|[1.39999232241291...|       0.0|\n",
      "|200065| 179571|  0.0|[0.80218267023863...|[1.39999232241291...|       0.0|\n",
      "|200070| 124239|  0.0|[0.80218267023863...|[1.39999232241291...|       0.0|\n",
      "|200070| 271459|  0.0|[0.80218267023863...|[1.39999232241291...|       0.0|\n",
      "|200085| 134106|  0.0|[0.80218267023863...|[1.39999232241291...|       0.0|\n",
      "|200099|  41892|  0.0|[0.80218267023863...|[1.39999232241291...|       0.0|\n",
      "|200106| 152491|  0.0|[0.80218267023863...|[1.39999232241291...|       0.0|\n",
      "|200124| 284066|  0.0|[0.80218267023863...|[1.39999232241291...|       0.0|\n",
      "|200143| 131171|  0.0|[0.80218267023863...|[1.39999232241291...|       0.0|\n",
      "|200143| 187136|  0.0|[0.80218267023863...|[1.39999232241291...|       0.0|\n",
      "|200160| 231680|  0.0|[0.80218267023863...|[1.39999232241291...|       0.0|\n",
      "|200166| 193878|  0.0|[0.80218267023863...|[1.39999232241291...|       0.0|\n",
      "+------+-------+-----+--------------------+--------------------+----------+\n",
      "only showing top 12 rows\n",
      "\n"
     ]
    }
   ],
   "source": [
    "predictions = lr_model.transform(test_df)    # transform test_df with logistic regression model\n",
    "predictions.select('userID', 'trackID', 'label', 'probability', 'rawPrediction', 'prediction').show(12)"
   ]
  },
  {
   "cell_type": "code",
   "execution_count": 194,
   "id": "1d3815fe-f9cd-40f1-93b5-ff79bb25745b",
   "metadata": {},
   "outputs": [
    {
     "name": "stdout",
     "output_type": "stream",
     "text": [
      "+------+-------+-----+--------------------+--------------------+----------+\n",
      "|userID|trackID|label|         probability|       rawPrediction|prediction|\n",
      "+------+-------+-----+--------------------+--------------------+----------+\n",
      "|200031| 130183|  0.0|[0.80218267023863...|[1.39999232241291...|       0.0|\n",
      "|200031|   8244|  1.0|[0.06488811545038...|[-2.6680016987576...|       1.0|\n",
      "|200031|  30877|  1.0|[0.01343454147672...|[-4.2964005650945...|       1.0|\n",
      "|200055|  56695|  1.0|[0.00368747275283...|[-5.5991196581640...|       1.0|\n",
      "|200065| 179571|  0.0|[0.80218267023863...|[1.39999232241291...|       0.0|\n",
      "|200065| 119451|  1.0|[0.17782905135233...|[-1.5311256369934...|       1.0|\n",
      "+------+-------+-----+--------------------+--------------------+----------+\n",
      "only showing top 6 rows\n",
      "\n"
     ]
    }
   ],
   "source": [
    "# col('userID').asc() sort the user ascending\n",
    "# col('probability').desc() sort the probability descending (from large to small)\n",
    "sort_predictions = predictions.select('userID', 'trackID', 'label', 'probability', 'rawPrediction', 'prediction').sort(col('userID').asc(), col('probability').desc())\n",
    "sort_predictions.show(6)"
   ]
  },
  {
   "cell_type": "markdown",
   "id": "cfd4e1c5-31d4-4b02-af91-ec4a8c172524",
   "metadata": {},
   "source": [
    "Probability column is where we can decide the 3 tracks with lowest 'probability' for `1` and 3 tracks with highest 'probabillity' for `0`.\n",
    "\n",
    "Now that we have setup the logistic regression model, let's apply it to `prediction_df` which contains the 120,000 user-track combinations we want predictions for."
   ]
  },
  {
   "cell_type": "code",
   "execution_count": 195,
   "id": "e80736dd-8f62-47a5-a5d6-4b7a5f20826c",
   "metadata": {},
   "outputs": [
    {
     "name": "stdout",
     "output_type": "stream",
     "text": [
      "+------+-------+--------------------+--------------------+----------+\n",
      "|userID|trackID|         probability|       rawPrediction|prediction|\n",
      "+------+-------+--------------------+--------------------+----------+\n",
      "|199810| 208019|[0.80218267023863...|[1.39999232241291...|       0.0|\n",
      "|199810|  74139|[0.80218267023863...|[1.39999232241291...|       0.0|\n",
      "|199810|   9903|[0.80218267023863...|[1.39999232241291...|       0.0|\n",
      "|199810| 242681|[0.80218267023863...|[1.39999232241291...|       0.0|\n",
      "|199810|  18515|[0.29322625305511...|[-0.8797660904587...|       1.0|\n",
      "|199810| 105760|[0.17782905135233...|[-1.5311256369934...|       1.0|\n",
      "|199812| 276940|[0.80218267023863...|[1.39999232241291...|       0.0|\n",
      "|199812| 142408|[0.00169767114648...|[-6.3767987671170...|       1.0|\n",
      "|199812| 130023|[0.00169767114648...|[-6.3767987671170...|       1.0|\n",
      "|199812|  29189|[0.80218267023863...|[1.39999232241291...|       0.0|\n",
      "|199812| 223706|[0.13507584210861...|[-1.8568054102608...|       1.0|\n",
      "|199812| 211361|[0.80218267023863...|[1.39999232241291...|       0.0|\n",
      "+------+-------+--------------------+--------------------+----------+\n",
      "only showing top 12 rows\n",
      "\n"
     ]
    }
   ],
   "source": [
    "logistic_predictions = lr_model.transform(prediction_df)    # transform prediction_df with logistic regression model\n",
    "logistic_predictions.select('userID', 'trackID', 'probability', 'rawPrediction', 'prediction').show(12)"
   ]
  },
  {
   "cell_type": "code",
   "execution_count": 196,
   "id": "86b669cf-a699-48a5-8559-4c87a2a1673b",
   "metadata": {},
   "outputs": [
    {
     "name": "stdout",
     "output_type": "stream",
     "text": [
      "+------+-------+--------------------+--------------------+----------+\n",
      "|userID|trackID|         probability|       rawPrediction|prediction|\n",
      "+------+-------+--------------------+--------------------+----------+\n",
      "|199810| 208019|[0.80218267023863...|[1.39999232241291...|       0.0|\n",
      "|199810| 242681|[0.80218267023863...|[1.39999232241291...|       0.0|\n",
      "|199810|  74139|[0.80218267023863...|[1.39999232241291...|       0.0|\n",
      "|199810|   9903|[0.80218267023863...|[1.39999232241291...|       0.0|\n",
      "|199810|  18515|[0.29322625305511...|[-0.8797660904587...|       1.0|\n",
      "|199810| 105760|[0.17782905135233...|[-1.5311256369934...|       1.0|\n",
      "+------+-------+--------------------+--------------------+----------+\n",
      "only showing top 6 rows\n",
      "\n"
     ]
    }
   ],
   "source": [
    "# col('userID').asc() sort the user ascending\n",
    "# col('probability').desc() sort the probability descending (from large to small)\n",
    "sort_logistic_predictions = logistic_predictions.select('userID', 'trackID', 'probability', 'rawPrediction', 'prediction').sort(col('userID').asc(), col('probability').desc())\n",
    "sort_logistic_predictions.show(6)"
   ]
  },
  {
   "cell_type": "code",
   "execution_count": 197,
   "id": "d050b109-983f-4941-a592-d6b490edb97e",
   "metadata": {},
   "outputs": [],
   "source": [
    "pd_sort_logistic_predictions = sort_logistic_predictions.toPandas().fillna(0.0)    # create a pandas df"
   ]
  },
  {
   "cell_type": "code",
   "execution_count": 198,
   "id": "54f4a2fc-7ca2-483b-a821-9dbff46ae8c6",
   "metadata": {},
   "outputs": [
    {
     "data": {
      "text/html": [
       "<div>\n",
       "<style scoped>\n",
       "    .dataframe tbody tr th:only-of-type {\n",
       "        vertical-align: middle;\n",
       "    }\n",
       "\n",
       "    .dataframe tbody tr th {\n",
       "        vertical-align: top;\n",
       "    }\n",
       "\n",
       "    .dataframe thead th {\n",
       "        text-align: right;\n",
       "    }\n",
       "</style>\n",
       "<table border=\"1\" class=\"dataframe\">\n",
       "  <thead>\n",
       "    <tr style=\"text-align: right;\">\n",
       "      <th></th>\n",
       "      <th>userID</th>\n",
       "      <th>trackID</th>\n",
       "      <th>probability</th>\n",
       "      <th>rawPrediction</th>\n",
       "      <th>prediction</th>\n",
       "    </tr>\n",
       "  </thead>\n",
       "  <tbody>\n",
       "    <tr>\n",
       "      <th>0</th>\n",
       "      <td>199810</td>\n",
       "      <td>208019</td>\n",
       "      <td>[0.8021826702386359, 0.19781732976136412]</td>\n",
       "      <td>[1.3999923224129167, -1.3999923224129167]</td>\n",
       "      <td>0.0</td>\n",
       "    </tr>\n",
       "    <tr>\n",
       "      <th>1</th>\n",
       "      <td>199810</td>\n",
       "      <td>74139</td>\n",
       "      <td>[0.8021826702386359, 0.19781732976136412]</td>\n",
       "      <td>[1.3999923224129167, -1.3999923224129167]</td>\n",
       "      <td>0.0</td>\n",
       "    </tr>\n",
       "    <tr>\n",
       "      <th>2</th>\n",
       "      <td>199810</td>\n",
       "      <td>9903</td>\n",
       "      <td>[0.8021826702386359, 0.19781732976136412]</td>\n",
       "      <td>[1.3999923224129167, -1.3999923224129167]</td>\n",
       "      <td>0.0</td>\n",
       "    </tr>\n",
       "    <tr>\n",
       "      <th>3</th>\n",
       "      <td>199810</td>\n",
       "      <td>242681</td>\n",
       "      <td>[0.8021826702386359, 0.19781732976136412]</td>\n",
       "      <td>[1.3999923224129167, -1.3999923224129167]</td>\n",
       "      <td>0.0</td>\n",
       "    </tr>\n",
       "    <tr>\n",
       "      <th>4</th>\n",
       "      <td>199810</td>\n",
       "      <td>18515</td>\n",
       "      <td>[0.29322625305511973, 0.7067737469448803]</td>\n",
       "      <td>[-0.8797660904587368, 0.8797660904587368]</td>\n",
       "      <td>1.0</td>\n",
       "    </tr>\n",
       "    <tr>\n",
       "      <th>...</th>\n",
       "      <td>...</td>\n",
       "      <td>...</td>\n",
       "      <td>...</td>\n",
       "      <td>...</td>\n",
       "      <td>...</td>\n",
       "    </tr>\n",
       "    <tr>\n",
       "      <th>119995</th>\n",
       "      <td>249010</td>\n",
       "      <td>86104</td>\n",
       "      <td>[0.8021826702386359, 0.19781732976136412]</td>\n",
       "      <td>[1.3999923224129167, -1.3999923224129167]</td>\n",
       "      <td>0.0</td>\n",
       "    </tr>\n",
       "    <tr>\n",
       "      <th>119996</th>\n",
       "      <td>249010</td>\n",
       "      <td>293818</td>\n",
       "      <td>[0.8021826702386359, 0.19781732976136412]</td>\n",
       "      <td>[1.3999923224129167, -1.3999923224129167]</td>\n",
       "      <td>0.0</td>\n",
       "    </tr>\n",
       "    <tr>\n",
       "      <th>119997</th>\n",
       "      <td>249010</td>\n",
       "      <td>110470</td>\n",
       "      <td>[0.0036874727528380885, 0.9963125272471619]</td>\n",
       "      <td>[-5.599119658164091, 5.599119658164091]</td>\n",
       "      <td>1.0</td>\n",
       "    </tr>\n",
       "    <tr>\n",
       "      <th>119998</th>\n",
       "      <td>249010</td>\n",
       "      <td>186634</td>\n",
       "      <td>[0.0036874727528380885, 0.9963125272471619]</td>\n",
       "      <td>[-5.599119658164091, 5.599119658164091]</td>\n",
       "      <td>1.0</td>\n",
       "    </tr>\n",
       "    <tr>\n",
       "      <th>119999</th>\n",
       "      <td>249010</td>\n",
       "      <td>262811</td>\n",
       "      <td>[0.0036874727528380885, 0.9963125272471619]</td>\n",
       "      <td>[-5.599119658164091, 5.599119658164091]</td>\n",
       "      <td>1.0</td>\n",
       "    </tr>\n",
       "  </tbody>\n",
       "</table>\n",
       "<p>120000 rows × 5 columns</p>\n",
       "</div>"
      ],
      "text/plain": [
       "        userID  trackID                                  probability  \\\n",
       "0       199810   208019    [0.8021826702386359, 0.19781732976136412]   \n",
       "1       199810    74139    [0.8021826702386359, 0.19781732976136412]   \n",
       "2       199810     9903    [0.8021826702386359, 0.19781732976136412]   \n",
       "3       199810   242681    [0.8021826702386359, 0.19781732976136412]   \n",
       "4       199810    18515    [0.29322625305511973, 0.7067737469448803]   \n",
       "...        ...      ...                                          ...   \n",
       "119995  249010    86104    [0.8021826702386359, 0.19781732976136412]   \n",
       "119996  249010   293818    [0.8021826702386359, 0.19781732976136412]   \n",
       "119997  249010   110470  [0.0036874727528380885, 0.9963125272471619]   \n",
       "119998  249010   186634  [0.0036874727528380885, 0.9963125272471619]   \n",
       "119999  249010   262811  [0.0036874727528380885, 0.9963125272471619]   \n",
       "\n",
       "                                    rawPrediction  prediction  \n",
       "0       [1.3999923224129167, -1.3999923224129167]         0.0  \n",
       "1       [1.3999923224129167, -1.3999923224129167]         0.0  \n",
       "2       [1.3999923224129167, -1.3999923224129167]         0.0  \n",
       "3       [1.3999923224129167, -1.3999923224129167]         0.0  \n",
       "4       [-0.8797660904587368, 0.8797660904587368]         1.0  \n",
       "...                                           ...         ...  \n",
       "119995  [1.3999923224129167, -1.3999923224129167]         0.0  \n",
       "119996  [1.3999923224129167, -1.3999923224129167]         0.0  \n",
       "119997    [-5.599119658164091, 5.599119658164091]         1.0  \n",
       "119998    [-5.599119658164091, 5.599119658164091]         1.0  \n",
       "119999    [-5.599119658164091, 5.599119658164091]         1.0  \n",
       "\n",
       "[120000 rows x 5 columns]"
      ]
     },
     "execution_count": 198,
     "metadata": {},
     "output_type": "execute_result"
    }
   ],
   "source": [
    "pd_sort_logistic_predictions"
   ]
  },
  {
   "cell_type": "code",
   "execution_count": 199,
   "id": "54424917-2481-49b5-ad49-bcf14b1996a4",
   "metadata": {},
   "outputs": [],
   "source": [
    "columns_to_write = ['userID', 'trackID']\n",
    "pd_sort_logistic_predictions.to_csv('lr_predictions.csv', index=False, header=None, columns=columns_to_write)    # write to csv (without headers)"
   ]
  },
  {
   "cell_type": "code",
   "execution_count": 200,
   "id": "44ec876f-3081-4dd4-8206-37caa9b22e2f",
   "metadata": {},
   "outputs": [],
   "source": [
    "f_lr_predictions = open('lr_predictions.csv')                  \n",
    "f_lr_final_predictions = open('lr_final_predictions.csv', 'w')"
   ]
  },
  {
   "cell_type": "code",
   "execution_count": 201,
   "id": "34481ea4-531c-49f5-8312-78b3723cb6cd",
   "metadata": {},
   "outputs": [
    {
     "data": {
      "text/plain": [
       "18"
      ]
     },
     "execution_count": 201,
     "metadata": {},
     "output_type": "execute_result"
    }
   ],
   "source": [
    "# Write header\n",
    "f_lr_final_predictions.write('TrackID,Predictor\\n')"
   ]
  },
  {
   "cell_type": "code",
   "execution_count": 202,
   "id": "21929da4-80c8-4981-9769-37068c91397f",
   "metadata": {},
   "outputs": [],
   "source": [
    "# Initialize some values\n",
    "last_user_id = -1\n",
    "track_id_out_vec = [0] * 6"
   ]
  },
  {
   "cell_type": "markdown",
   "id": "4499781f-8850-4f9d-a72b-4bb14e64325d",
   "metadata": {},
   "source": [
    "Here is where we actually create the final predictions file for logistic regression."
   ]
  },
  {
   "cell_type": "code",
   "execution_count": 203,
   "id": "da16745b-0a3f-445d-95d8-1abf7f116de4",
   "metadata": {},
   "outputs": [
    {
     "name": "stdout",
     "output_type": "stream",
     "text": [
      "Done! Time elapsed - 0.36 seconds.\n"
     ]
    }
   ],
   "source": [
    "start_time = time.time()\n",
    "\n",
    "# Go through each line of the predictions file\n",
    "for line in f_lr_predictions:\n",
    "    arr_out = line.strip().split(',')    # remove any spaces/new lines and create list \n",
    "    user_id_out = arr_out[0]             # set user\n",
    "    track_id_out = arr_out[1]            # set track\n",
    "    \n",
    "    if user_id_out != last_user_id:             # if new user reached\n",
    "        i = 0                                   # reset i\n",
    "        \n",
    "    track_id_out_vec[i] = track_id_out          # add trackID to trackID array\n",
    "        \n",
    "    i = i + 1                    # increment i\n",
    "    last_user_id = user_id_out   # set last_user_id as current userID\n",
    "    \n",
    "    if i == 6:                               # if last entry for current user reached\n",
    "        # Here we set the predictions \n",
    "        predictions = np.ones(shape=(6)) # initialize numpy array for predictions\n",
    "        for index in range(0, 3):            \n",
    "            predictions[index] = 0           # set first 3 values in array to 0 (other 3 are 1)\n",
    "        \n",
    "        # Here we write to the final predictions file for the 6 track predictions for the current user\n",
    "        for ii in range(0, 6):         \n",
    "            out_str = str(user_id_out) + '_' + str(track_id_out_vec[ii]) + ',' + str(int(predictions[ii]))\n",
    "            f_lr_final_predictions.write(out_str + '\\n')\n",
    "\n",
    "        \n",
    "end_time = time.time()\n",
    "elapsed_time = end_time - start_time\n",
    "print(f'Done! Time elapsed - {elapsed_time:.2f} seconds.')"
   ]
  },
  {
   "cell_type": "code",
   "execution_count": 204,
   "id": "c868c39e-e2b0-4a93-9cab-4b7c0becec05",
   "metadata": {},
   "outputs": [],
   "source": [
    "f_lr_predictions.close()\n",
    "f_lr_final_predictions.close()"
   ]
  },
  {
   "cell_type": "markdown",
   "id": "282c61c4-f6ba-49b8-9791-f58f2c36e808",
   "metadata": {},
   "source": [
    "### Model 2 - Decision Tree Classifier"
   ]
  },
  {
   "cell_type": "code",
   "execution_count": 59,
   "id": "b2176573-896f-407c-aa25-57f830e594af",
   "metadata": {},
   "outputs": [],
   "source": [
    "from pyspark.ml.classification import DecisionTreeClassifier"
   ]
  },
  {
   "cell_type": "code",
   "execution_count": 60,
   "id": "30a90adb-8869-498c-828c-0da4e21a18a1",
   "metadata": {},
   "outputs": [
    {
     "name": "stdout",
     "output_type": "stream",
     "text": [
      "Done! Time elapsed - 0.82 seconds.\n"
     ]
    }
   ],
   "source": [
    "start_time = time.time()\n",
    "\n",
    "dt = DecisionTreeClassifier(featuresCol='features', labelCol='label', maxDepth=3)\n",
    "dt_model = dt.fit(train_df)\n",
    "\n",
    "end_time = time.time()\n",
    "elapsed_time = end_time - start_time\n",
    "print(f'Done! Time elapsed - {elapsed_time:.2f} seconds.')"
   ]
  },
  {
   "cell_type": "code",
   "execution_count": 77,
   "id": "80d1a971-5826-4daa-ad73-0ab1ec0cdc24",
   "metadata": {},
   "outputs": [],
   "source": [
    "predictions_dt = dt_model.transform(test_df)"
   ]
  },
  {
   "cell_type": "code",
   "execution_count": 68,
   "id": "2686e216-2a31-4bd6-adf8-61efd54b47b3",
   "metadata": {},
   "outputs": [
    {
     "name": "stdout",
     "output_type": "stream",
     "text": [
      "Test Error = 14.48%\n"
     ]
    }
   ],
   "source": [
    "evaluator = MulticlassClassificationEvaluator(labelCol='label', predictionCol='prediction', metricName='accuracy')    # initialize an Evaluator for Multiclass Classification\n",
    "accuracy = evaluator.evaluate(predictions_dt)    # evaluate decision tree model on predictions\n",
    "print(f'Test Error = {1.0 - accuracy:.2%}')"
   ]
  },
  {
   "cell_type": "code",
   "execution_count": 81,
   "id": "eed651ac-e85c-4cbf-8adf-88647faf9298",
   "metadata": {},
   "outputs": [
    {
     "name": "stdout",
     "output_type": "stream",
     "text": [
      "+------+-------+-----+--------------------+--------------+----------+\n",
      "|userID|trackID|label|         probability| rawPrediction|prediction|\n",
      "+------+-------+-----+--------------------+--------------+----------+\n",
      "|200031| 130183|  0.0|[0.80858085808580...|[1960.0,464.0]|       0.0|\n",
      "|200031|  30877|  1.0|[0.08880090497737...|[157.0,1611.0]|       1.0|\n",
      "|200031|   8244|  1.0|[0.01470588235294...|    [1.0,67.0]|       1.0|\n",
      "|200055|  56695|  1.0|[0.08880090497737...|[157.0,1611.0]|       1.0|\n",
      "|200065| 179571|  0.0|[0.80858085808580...|[1960.0,464.0]|       0.0|\n",
      "|200065| 119451|  1.0|[0.08880090497737...|[157.0,1611.0]|       1.0|\n",
      "+------+-------+-----+--------------------+--------------+----------+\n",
      "only showing top 6 rows\n",
      "\n"
     ]
    }
   ],
   "source": [
    "sort_predictions_dt = predictions_dt.select('userID', 'trackID', 'label', 'probability', 'rawPrediction', 'prediction').sort(col('userID').asc(), col('probability').desc())\n",
    "sort_predictions_dt.show(6)"
   ]
  },
  {
   "cell_type": "markdown",
   "id": "4a2cf041-ac39-45a8-8837-e7f6c045f5dc",
   "metadata": {},
   "source": [
    "Now that we have setup the decision tree model, let's apply it to `prediction_df` which contains the 120,000 user-track combinations we want predictions for."
   ]
  },
  {
   "cell_type": "code",
   "execution_count": 144,
   "id": "9680db8b-d9be-4147-aea3-86008670da0e",
   "metadata": {},
   "outputs": [
    {
     "name": "stdout",
     "output_type": "stream",
     "text": [
      "+------+-------+--------------------+--------------+----------+\n",
      "|userID|trackID|         probability| rawPrediction|prediction|\n",
      "+------+-------+--------------------+--------------+----------+\n",
      "|199810| 208019|[0.80858085808580...|[1960.0,464.0]|       0.0|\n",
      "|199810|  74139|[0.80858085808580...|[1960.0,464.0]|       0.0|\n",
      "|199810|   9903|[0.80858085808580...|[1960.0,464.0]|       0.0|\n",
      "|199810| 242681|[0.80858085808580...|[1960.0,464.0]|       0.0|\n",
      "|199810|  18515|[0.08880090497737...|[157.0,1611.0]|       1.0|\n",
      "|199810| 105760|[0.08880090497737...|[157.0,1611.0]|       1.0|\n",
      "|199812| 276940|[0.80858085808580...|[1960.0,464.0]|       0.0|\n",
      "|199812| 142408|[0.08880090497737...|[157.0,1611.0]|       1.0|\n",
      "|199812| 130023|[0.08880090497737...|[157.0,1611.0]|       1.0|\n",
      "|199812|  29189|[0.80858085808580...|[1960.0,464.0]|       0.0|\n",
      "|199812| 223706|[0.08880090497737...|[157.0,1611.0]|       1.0|\n",
      "|199812| 211361|[0.80858085808580...|[1960.0,464.0]|       0.0|\n",
      "+------+-------+--------------------+--------------+----------+\n",
      "only showing top 12 rows\n",
      "\n"
     ]
    }
   ],
   "source": [
    "dt_predictions = dt_model.transform(prediction_df)    # transform prediction_df with decision tree model\n",
    "dt_predictions.select('userID', 'trackID', 'probability', 'rawPrediction', 'prediction').show(12)"
   ]
  },
  {
   "cell_type": "code",
   "execution_count": 145,
   "id": "6501b923-81cd-48e4-8a09-8abbc32192f1",
   "metadata": {},
   "outputs": [
    {
     "name": "stdout",
     "output_type": "stream",
     "text": [
      "+------+-------+--------------------+--------------+----------+\n",
      "|userID|trackID|         probability| rawPrediction|prediction|\n",
      "+------+-------+--------------------+--------------+----------+\n",
      "|199810| 208019|[0.80858085808580...|[1960.0,464.0]|       0.0|\n",
      "|199810| 242681|[0.80858085808580...|[1960.0,464.0]|       0.0|\n",
      "|199810|  74139|[0.80858085808580...|[1960.0,464.0]|       0.0|\n",
      "|199810|   9903|[0.80858085808580...|[1960.0,464.0]|       0.0|\n",
      "|199810|  18515|[0.08880090497737...|[157.0,1611.0]|       1.0|\n",
      "|199810| 105760|[0.08880090497737...|[157.0,1611.0]|       1.0|\n",
      "+------+-------+--------------------+--------------+----------+\n",
      "only showing top 6 rows\n",
      "\n"
     ]
    }
   ],
   "source": [
    "# col('userID').asc() sort the user ascending\n",
    "# col('probability').desc() sort the probability descending (from large to small)\n",
    "sort_dt_predictions = dt_predictions.select('userID', 'trackID', 'probability', 'rawPrediction', 'prediction').sort(col('userID').asc(), col('probability').desc())\n",
    "sort_dt_predictions.show(6)"
   ]
  },
  {
   "cell_type": "code",
   "execution_count": 146,
   "id": "4d3a1c23-ee75-4f63-a0f5-9d735c9a64d5",
   "metadata": {},
   "outputs": [],
   "source": [
    "pd_sort_dt_predictions = sort_dt_predictions.toPandas().fillna(0.0)    # create pandas df"
   ]
  },
  {
   "cell_type": "code",
   "execution_count": 147,
   "id": "76c395ef-1cb1-4f3e-a36c-73090b76352d",
   "metadata": {},
   "outputs": [
    {
     "data": {
      "text/html": [
       "<div>\n",
       "<style scoped>\n",
       "    .dataframe tbody tr th:only-of-type {\n",
       "        vertical-align: middle;\n",
       "    }\n",
       "\n",
       "    .dataframe tbody tr th {\n",
       "        vertical-align: top;\n",
       "    }\n",
       "\n",
       "    .dataframe thead th {\n",
       "        text-align: right;\n",
       "    }\n",
       "</style>\n",
       "<table border=\"1\" class=\"dataframe\">\n",
       "  <thead>\n",
       "    <tr style=\"text-align: right;\">\n",
       "      <th></th>\n",
       "      <th>userID</th>\n",
       "      <th>trackID</th>\n",
       "      <th>probability</th>\n",
       "      <th>rawPrediction</th>\n",
       "      <th>prediction</th>\n",
       "    </tr>\n",
       "  </thead>\n",
       "  <tbody>\n",
       "    <tr>\n",
       "      <th>0</th>\n",
       "      <td>199810</td>\n",
       "      <td>208019</td>\n",
       "      <td>[0.8085808580858086, 0.19141914191419143]</td>\n",
       "      <td>[1960.0, 464.0]</td>\n",
       "      <td>0.0</td>\n",
       "    </tr>\n",
       "    <tr>\n",
       "      <th>1</th>\n",
       "      <td>199810</td>\n",
       "      <td>74139</td>\n",
       "      <td>[0.8085808580858086, 0.19141914191419143]</td>\n",
       "      <td>[1960.0, 464.0]</td>\n",
       "      <td>0.0</td>\n",
       "    </tr>\n",
       "    <tr>\n",
       "      <th>2</th>\n",
       "      <td>199810</td>\n",
       "      <td>9903</td>\n",
       "      <td>[0.8085808580858086, 0.19141914191419143]</td>\n",
       "      <td>[1960.0, 464.0]</td>\n",
       "      <td>0.0</td>\n",
       "    </tr>\n",
       "    <tr>\n",
       "      <th>3</th>\n",
       "      <td>199810</td>\n",
       "      <td>242681</td>\n",
       "      <td>[0.8085808580858086, 0.19141914191419143]</td>\n",
       "      <td>[1960.0, 464.0]</td>\n",
       "      <td>0.0</td>\n",
       "    </tr>\n",
       "    <tr>\n",
       "      <th>4</th>\n",
       "      <td>199810</td>\n",
       "      <td>18515</td>\n",
       "      <td>[0.08880090497737557, 0.9111990950226244]</td>\n",
       "      <td>[157.0, 1611.0]</td>\n",
       "      <td>1.0</td>\n",
       "    </tr>\n",
       "    <tr>\n",
       "      <th>...</th>\n",
       "      <td>...</td>\n",
       "      <td>...</td>\n",
       "      <td>...</td>\n",
       "      <td>...</td>\n",
       "      <td>...</td>\n",
       "    </tr>\n",
       "    <tr>\n",
       "      <th>119995</th>\n",
       "      <td>249010</td>\n",
       "      <td>86104</td>\n",
       "      <td>[0.8085808580858086, 0.19141914191419143]</td>\n",
       "      <td>[1960.0, 464.0]</td>\n",
       "      <td>0.0</td>\n",
       "    </tr>\n",
       "    <tr>\n",
       "      <th>119996</th>\n",
       "      <td>249010</td>\n",
       "      <td>293818</td>\n",
       "      <td>[0.8085808580858086, 0.19141914191419143]</td>\n",
       "      <td>[1960.0, 464.0]</td>\n",
       "      <td>0.0</td>\n",
       "    </tr>\n",
       "    <tr>\n",
       "      <th>119997</th>\n",
       "      <td>249010</td>\n",
       "      <td>110470</td>\n",
       "      <td>[0.08880090497737557, 0.9111990950226244]</td>\n",
       "      <td>[157.0, 1611.0]</td>\n",
       "      <td>1.0</td>\n",
       "    </tr>\n",
       "    <tr>\n",
       "      <th>119998</th>\n",
       "      <td>249010</td>\n",
       "      <td>186634</td>\n",
       "      <td>[0.08880090497737557, 0.9111990950226244]</td>\n",
       "      <td>[157.0, 1611.0]</td>\n",
       "      <td>1.0</td>\n",
       "    </tr>\n",
       "    <tr>\n",
       "      <th>119999</th>\n",
       "      <td>249010</td>\n",
       "      <td>262811</td>\n",
       "      <td>[0.08880090497737557, 0.9111990950226244]</td>\n",
       "      <td>[157.0, 1611.0]</td>\n",
       "      <td>1.0</td>\n",
       "    </tr>\n",
       "  </tbody>\n",
       "</table>\n",
       "<p>120000 rows × 5 columns</p>\n",
       "</div>"
      ],
      "text/plain": [
       "        userID  trackID                                probability  \\\n",
       "0       199810   208019  [0.8085808580858086, 0.19141914191419143]   \n",
       "1       199810    74139  [0.8085808580858086, 0.19141914191419143]   \n",
       "2       199810     9903  [0.8085808580858086, 0.19141914191419143]   \n",
       "3       199810   242681  [0.8085808580858086, 0.19141914191419143]   \n",
       "4       199810    18515  [0.08880090497737557, 0.9111990950226244]   \n",
       "...        ...      ...                                        ...   \n",
       "119995  249010    86104  [0.8085808580858086, 0.19141914191419143]   \n",
       "119996  249010   293818  [0.8085808580858086, 0.19141914191419143]   \n",
       "119997  249010   110470  [0.08880090497737557, 0.9111990950226244]   \n",
       "119998  249010   186634  [0.08880090497737557, 0.9111990950226244]   \n",
       "119999  249010   262811  [0.08880090497737557, 0.9111990950226244]   \n",
       "\n",
       "          rawPrediction  prediction  \n",
       "0       [1960.0, 464.0]         0.0  \n",
       "1       [1960.0, 464.0]         0.0  \n",
       "2       [1960.0, 464.0]         0.0  \n",
       "3       [1960.0, 464.0]         0.0  \n",
       "4       [157.0, 1611.0]         1.0  \n",
       "...                 ...         ...  \n",
       "119995  [1960.0, 464.0]         0.0  \n",
       "119996  [1960.0, 464.0]         0.0  \n",
       "119997  [157.0, 1611.0]         1.0  \n",
       "119998  [157.0, 1611.0]         1.0  \n",
       "119999  [157.0, 1611.0]         1.0  \n",
       "\n",
       "[120000 rows x 5 columns]"
      ]
     },
     "execution_count": 147,
     "metadata": {},
     "output_type": "execute_result"
    }
   ],
   "source": [
    "pd_sort_dt_predictions"
   ]
  },
  {
   "cell_type": "code",
   "execution_count": 148,
   "id": "dbcb97f5-75d8-41f7-99a7-f0945515c339",
   "metadata": {},
   "outputs": [],
   "source": [
    "columns_to_write = ['userID', 'trackID']\n",
    "pd_sort_dt_predictions.to_csv('dt_predictions.csv', index=False, header=None, columns=columns_to_write)    # write to csv (without header)"
   ]
  },
  {
   "cell_type": "code",
   "execution_count": 149,
   "id": "ff5cbd6e-de35-4ddc-8512-4243a55466cf",
   "metadata": {},
   "outputs": [],
   "source": [
    "f_dt_predictions = open('dt_predictions.csv')   \n",
    "f_dt_final_predictions = open('dt_final_predictions.csv', 'w')"
   ]
  },
  {
   "cell_type": "code",
   "execution_count": 151,
   "id": "948ce049-ccdb-4142-b7cf-7973c2a77ac2",
   "metadata": {},
   "outputs": [
    {
     "data": {
      "text/plain": [
       "18"
      ]
     },
     "execution_count": 151,
     "metadata": {},
     "output_type": "execute_result"
    }
   ],
   "source": [
    "# Write header\n",
    "f_dt_final_predictions.write('TrackID,Predictor\\n')"
   ]
  },
  {
   "cell_type": "code",
   "execution_count": 152,
   "id": "14279c69-477f-4080-9247-9d3ff188c280",
   "metadata": {},
   "outputs": [],
   "source": [
    "# Initialize some values\n",
    "last_user_id = -1\n",
    "track_id_out_vec = [0] * 6"
   ]
  },
  {
   "cell_type": "markdown",
   "id": "ac40232b-3f3c-4338-a3b9-30ca51a84968",
   "metadata": {},
   "source": [
    "Here is where we actually create the final predictions file for the decision tree model."
   ]
  },
  {
   "cell_type": "code",
   "execution_count": 153,
   "id": "9b868225-f747-4c95-91e4-f4d536bcb493",
   "metadata": {},
   "outputs": [
    {
     "name": "stdout",
     "output_type": "stream",
     "text": [
      "Done! Time elapsed - 0.36 seconds.\n"
     ]
    }
   ],
   "source": [
    "start_time = time.time()\n",
    "\n",
    "# Go through each line of the predictions file\n",
    "for line in f_dt_predictions:\n",
    "    arr_out = line.strip().split(',')    # remove any spaces/new lines and create list \n",
    "    user_id_out = arr_out[0]             # set user\n",
    "    track_id_out = arr_out[1]            # set track\n",
    "    \n",
    "    if user_id_out != last_user_id:             # if new user reached\n",
    "        i = 0                                   # reset i\n",
    "        \n",
    "    track_id_out_vec[i] = track_id_out          # add trackID to trackID array\n",
    "        \n",
    "    i = i + 1                    # increment i\n",
    "    last_user_id = user_id_out   # set last_user_id as current userID\n",
    "    \n",
    "    if i == 6:                               # if last entry for current user reached\n",
    "        # Here we set the predictions \n",
    "        predictions = np.ones(shape=(6)) # initialize numpy array for predictions\n",
    "        for index in range(0, 3):            \n",
    "            predictions[index] = 0           # set first 3 values in array to 0 (other 3 are 1)\n",
    "        \n",
    "        # Here we write to the final predictions file for the 6 track predictions for the current user\n",
    "        for ii in range(0, 6):         \n",
    "            out_str = str(user_id_out) + '_' + str(track_id_out_vec[ii]) + ',' + str(int(predictions[ii]))\n",
    "            f_dt_final_predictions.write(out_str + '\\n')\n",
    "\n",
    "        \n",
    "end_time = time.time()\n",
    "elapsed_time = end_time - start_time\n",
    "print(f'Done! Time elapsed - {elapsed_time:.2f} seconds.')"
   ]
  },
  {
   "cell_type": "code",
   "execution_count": 154,
   "id": "fb565fcd-07dd-4fa9-afb7-e6dfece4e43a",
   "metadata": {},
   "outputs": [],
   "source": [
    "f_dt_predictions.close()\n",
    "f_dt_final_predictions.close()"
   ]
  },
  {
   "cell_type": "markdown",
   "id": "7aa5d9fd-a5f3-43ee-8daf-aef027e7e902",
   "metadata": {},
   "source": [
    "### Model 3 - Random Forest Classifier"
   ]
  },
  {
   "cell_type": "code",
   "execution_count": 73,
   "id": "e27bad21-d691-40f0-8409-9085c30bf3d3",
   "metadata": {},
   "outputs": [],
   "source": [
    "from pyspark.ml.classification import RandomForestClassifier"
   ]
  },
  {
   "cell_type": "code",
   "execution_count": 74,
   "id": "2005af4b-a6a9-4219-94f3-2500df86232b",
   "metadata": {},
   "outputs": [
    {
     "name": "stdout",
     "output_type": "stream",
     "text": [
      "Done! Time elapsed - 0.79 seconds.\n"
     ]
    }
   ],
   "source": [
    "start_time = time.time()\n",
    "\n",
    "rf = RandomForestClassifier(featuresCol='features', labelCol='label')\n",
    "rf_model = rf.fit(train_df)\n",
    "\n",
    "end_time = time.time()\n",
    "elapsed_time = end_time - start_time\n",
    "print(f'Done! Time elapsed - {elapsed_time:.2f} seconds.')"
   ]
  },
  {
   "cell_type": "code",
   "execution_count": 78,
   "id": "478361e1-04e5-4de8-96fd-2c15295ec841",
   "metadata": {},
   "outputs": [],
   "source": [
    "predictions_rf = rf_model.transform(test_df)"
   ]
  },
  {
   "cell_type": "code",
   "execution_count": 80,
   "id": "2fc33e69-2421-4468-ac9f-9cdcbaf3de0c",
   "metadata": {},
   "outputs": [
    {
     "name": "stdout",
     "output_type": "stream",
     "text": [
      "Test Error = 14.48%\n"
     ]
    }
   ],
   "source": [
    "evaluator = MulticlassClassificationEvaluator(labelCol='label', predictionCol='prediction', metricName='accuracy')    # initialize an Evaluator for Multiclass Classification\n",
    "accuracy = evaluator.evaluate(predictions_rf)    # evaluate random forest model on predictions\n",
    "print(f'Test Error = {1.0 - accuracy:.2%}')"
   ]
  },
  {
   "cell_type": "code",
   "execution_count": 82,
   "id": "50f28c1d-b260-4a65-88fe-620f988bc72f",
   "metadata": {},
   "outputs": [
    {
     "name": "stdout",
     "output_type": "stream",
     "text": [
      "+------+-------+-----+--------------------+--------------------+----------+\n",
      "|userID|trackID|label|         probability|       rawPrediction|prediction|\n",
      "+------+-------+-----+--------------------+--------------------+----------+\n",
      "|200031| 130183|  0.0|[0.80799089778253...|[16.1598179556506...|       0.0|\n",
      "|200031|  30877|  1.0|[0.01884857719121...|[0.37697154382428...|       1.0|\n",
      "|200031|   8244|  1.0|[0.00563659951159...|[0.11273199023199...|       1.0|\n",
      "|200055|  56695|  1.0|[0.01772239135707...|[0.35444782714158...|       1.0|\n",
      "|200065| 179571|  0.0|[0.80799089778253...|[16.1598179556506...|       0.0|\n",
      "|200065| 119451|  1.0|[0.17869186847180...|[3.57383736943609...|       1.0|\n",
      "+------+-------+-----+--------------------+--------------------+----------+\n",
      "only showing top 6 rows\n",
      "\n"
     ]
    }
   ],
   "source": [
    "sort_predictions_rf = predictions_rf.select('userID', 'trackID', 'label', 'probability', 'rawPrediction', 'prediction').sort(col('userID').asc(), col('probability').desc())\n",
    "sort_predictions_rf.show(6)"
   ]
  },
  {
   "cell_type": "markdown",
   "id": "f6e76975-1221-4fa7-ab49-59d024641e8e",
   "metadata": {},
   "source": [
    "Now that we have setup the random forest model, let's apply it to `prediction_df` which contains the 120,000 user-track combinations we want predictions for."
   ]
  },
  {
   "cell_type": "code",
   "execution_count": 155,
   "id": "c695d546-60a2-4b2b-84dd-55c1162266b0",
   "metadata": {},
   "outputs": [
    {
     "name": "stdout",
     "output_type": "stream",
     "text": [
      "+------+-------+--------------------+--------------+----------+\n",
      "|userID|trackID|         probability| rawPrediction|prediction|\n",
      "+------+-------+--------------------+--------------+----------+\n",
      "|199810| 208019|[0.80858085808580...|[1960.0,464.0]|       0.0|\n",
      "|199810|  74139|[0.80858085808580...|[1960.0,464.0]|       0.0|\n",
      "|199810|   9903|[0.80858085808580...|[1960.0,464.0]|       0.0|\n",
      "|199810| 242681|[0.80858085808580...|[1960.0,464.0]|       0.0|\n",
      "|199810|  18515|[0.08880090497737...|[157.0,1611.0]|       1.0|\n",
      "|199810| 105760|[0.08880090497737...|[157.0,1611.0]|       1.0|\n",
      "|199812| 276940|[0.80858085808580...|[1960.0,464.0]|       0.0|\n",
      "|199812| 142408|[0.08880090497737...|[157.0,1611.0]|       1.0|\n",
      "|199812| 130023|[0.08880090497737...|[157.0,1611.0]|       1.0|\n",
      "|199812|  29189|[0.80858085808580...|[1960.0,464.0]|       0.0|\n",
      "|199812| 223706|[0.08880090497737...|[157.0,1611.0]|       1.0|\n",
      "|199812| 211361|[0.80858085808580...|[1960.0,464.0]|       0.0|\n",
      "+------+-------+--------------------+--------------+----------+\n",
      "only showing top 12 rows\n",
      "\n"
     ]
    }
   ],
   "source": [
    "rf_predictions = dt_model.transform(prediction_df)    # transform prediction_df with random forest model\n",
    "rf_predictions.select('userID', 'trackID', 'probability', 'rawPrediction', 'prediction').show(12)"
   ]
  },
  {
   "cell_type": "code",
   "execution_count": 156,
   "id": "d7fc7370-7fd1-4f3d-b24b-90b8499d12a1",
   "metadata": {},
   "outputs": [
    {
     "name": "stdout",
     "output_type": "stream",
     "text": [
      "+------+-------+--------------------+--------------+----------+\n",
      "|userID|trackID|         probability| rawPrediction|prediction|\n",
      "+------+-------+--------------------+--------------+----------+\n",
      "|199810| 208019|[0.80858085808580...|[1960.0,464.0]|       0.0|\n",
      "|199810| 242681|[0.80858085808580...|[1960.0,464.0]|       0.0|\n",
      "|199810|  74139|[0.80858085808580...|[1960.0,464.0]|       0.0|\n",
      "|199810|   9903|[0.80858085808580...|[1960.0,464.0]|       0.0|\n",
      "|199810|  18515|[0.08880090497737...|[157.0,1611.0]|       1.0|\n",
      "|199810| 105760|[0.08880090497737...|[157.0,1611.0]|       1.0|\n",
      "+------+-------+--------------------+--------------+----------+\n",
      "only showing top 6 rows\n",
      "\n"
     ]
    }
   ],
   "source": [
    "# col('userID').asc() sort the user ascending\n",
    "# col('probability').desc() sort the probability descending (from large to small)\n",
    "sort_rf_predictions = rf_predictions.select('userID', 'trackID', 'probability', 'rawPrediction', 'prediction').sort(col('userID').asc(), col('probability').desc())\n",
    "sort_rf_predictions.show(6)"
   ]
  },
  {
   "cell_type": "code",
   "execution_count": 166,
   "id": "c78e8d29-8973-4197-8633-e6f2a9e84485",
   "metadata": {},
   "outputs": [],
   "source": [
    "pd_sort_rf_predictions = sort_rf_predictions.toPandas().fillna(0.0)    # create pandas df"
   ]
  },
  {
   "cell_type": "code",
   "execution_count": 167,
   "id": "e7d8e4be-3188-48c8-9906-cdadf4875f36",
   "metadata": {},
   "outputs": [
    {
     "data": {
      "text/html": [
       "<div>\n",
       "<style scoped>\n",
       "    .dataframe tbody tr th:only-of-type {\n",
       "        vertical-align: middle;\n",
       "    }\n",
       "\n",
       "    .dataframe tbody tr th {\n",
       "        vertical-align: top;\n",
       "    }\n",
       "\n",
       "    .dataframe thead th {\n",
       "        text-align: right;\n",
       "    }\n",
       "</style>\n",
       "<table border=\"1\" class=\"dataframe\">\n",
       "  <thead>\n",
       "    <tr style=\"text-align: right;\">\n",
       "      <th></th>\n",
       "      <th>userID</th>\n",
       "      <th>trackID</th>\n",
       "      <th>probability</th>\n",
       "      <th>rawPrediction</th>\n",
       "      <th>prediction</th>\n",
       "    </tr>\n",
       "  </thead>\n",
       "  <tbody>\n",
       "    <tr>\n",
       "      <th>0</th>\n",
       "      <td>199810</td>\n",
       "      <td>208019</td>\n",
       "      <td>[0.8085808580858086, 0.19141914191419143]</td>\n",
       "      <td>[1960.0, 464.0]</td>\n",
       "      <td>0.0</td>\n",
       "    </tr>\n",
       "    <tr>\n",
       "      <th>1</th>\n",
       "      <td>199810</td>\n",
       "      <td>74139</td>\n",
       "      <td>[0.8085808580858086, 0.19141914191419143]</td>\n",
       "      <td>[1960.0, 464.0]</td>\n",
       "      <td>0.0</td>\n",
       "    </tr>\n",
       "    <tr>\n",
       "      <th>2</th>\n",
       "      <td>199810</td>\n",
       "      <td>9903</td>\n",
       "      <td>[0.8085808580858086, 0.19141914191419143]</td>\n",
       "      <td>[1960.0, 464.0]</td>\n",
       "      <td>0.0</td>\n",
       "    </tr>\n",
       "    <tr>\n",
       "      <th>3</th>\n",
       "      <td>199810</td>\n",
       "      <td>242681</td>\n",
       "      <td>[0.8085808580858086, 0.19141914191419143]</td>\n",
       "      <td>[1960.0, 464.0]</td>\n",
       "      <td>0.0</td>\n",
       "    </tr>\n",
       "    <tr>\n",
       "      <th>4</th>\n",
       "      <td>199810</td>\n",
       "      <td>18515</td>\n",
       "      <td>[0.08880090497737557, 0.9111990950226244]</td>\n",
       "      <td>[157.0, 1611.0]</td>\n",
       "      <td>1.0</td>\n",
       "    </tr>\n",
       "    <tr>\n",
       "      <th>...</th>\n",
       "      <td>...</td>\n",
       "      <td>...</td>\n",
       "      <td>...</td>\n",
       "      <td>...</td>\n",
       "      <td>...</td>\n",
       "    </tr>\n",
       "    <tr>\n",
       "      <th>119995</th>\n",
       "      <td>249010</td>\n",
       "      <td>86104</td>\n",
       "      <td>[0.8085808580858086, 0.19141914191419143]</td>\n",
       "      <td>[1960.0, 464.0]</td>\n",
       "      <td>0.0</td>\n",
       "    </tr>\n",
       "    <tr>\n",
       "      <th>119996</th>\n",
       "      <td>249010</td>\n",
       "      <td>293818</td>\n",
       "      <td>[0.8085808580858086, 0.19141914191419143]</td>\n",
       "      <td>[1960.0, 464.0]</td>\n",
       "      <td>0.0</td>\n",
       "    </tr>\n",
       "    <tr>\n",
       "      <th>119997</th>\n",
       "      <td>249010</td>\n",
       "      <td>110470</td>\n",
       "      <td>[0.08880090497737557, 0.9111990950226244]</td>\n",
       "      <td>[157.0, 1611.0]</td>\n",
       "      <td>1.0</td>\n",
       "    </tr>\n",
       "    <tr>\n",
       "      <th>119998</th>\n",
       "      <td>249010</td>\n",
       "      <td>186634</td>\n",
       "      <td>[0.08880090497737557, 0.9111990950226244]</td>\n",
       "      <td>[157.0, 1611.0]</td>\n",
       "      <td>1.0</td>\n",
       "    </tr>\n",
       "    <tr>\n",
       "      <th>119999</th>\n",
       "      <td>249010</td>\n",
       "      <td>262811</td>\n",
       "      <td>[0.08880090497737557, 0.9111990950226244]</td>\n",
       "      <td>[157.0, 1611.0]</td>\n",
       "      <td>1.0</td>\n",
       "    </tr>\n",
       "  </tbody>\n",
       "</table>\n",
       "<p>120000 rows × 5 columns</p>\n",
       "</div>"
      ],
      "text/plain": [
       "        userID  trackID                                probability  \\\n",
       "0       199810   208019  [0.8085808580858086, 0.19141914191419143]   \n",
       "1       199810    74139  [0.8085808580858086, 0.19141914191419143]   \n",
       "2       199810     9903  [0.8085808580858086, 0.19141914191419143]   \n",
       "3       199810   242681  [0.8085808580858086, 0.19141914191419143]   \n",
       "4       199810    18515  [0.08880090497737557, 0.9111990950226244]   \n",
       "...        ...      ...                                        ...   \n",
       "119995  249010    86104  [0.8085808580858086, 0.19141914191419143]   \n",
       "119996  249010   293818  [0.8085808580858086, 0.19141914191419143]   \n",
       "119997  249010   110470  [0.08880090497737557, 0.9111990950226244]   \n",
       "119998  249010   186634  [0.08880090497737557, 0.9111990950226244]   \n",
       "119999  249010   262811  [0.08880090497737557, 0.9111990950226244]   \n",
       "\n",
       "          rawPrediction  prediction  \n",
       "0       [1960.0, 464.0]         0.0  \n",
       "1       [1960.0, 464.0]         0.0  \n",
       "2       [1960.0, 464.0]         0.0  \n",
       "3       [1960.0, 464.0]         0.0  \n",
       "4       [157.0, 1611.0]         1.0  \n",
       "...                 ...         ...  \n",
       "119995  [1960.0, 464.0]         0.0  \n",
       "119996  [1960.0, 464.0]         0.0  \n",
       "119997  [157.0, 1611.0]         1.0  \n",
       "119998  [157.0, 1611.0]         1.0  \n",
       "119999  [157.0, 1611.0]         1.0  \n",
       "\n",
       "[120000 rows x 5 columns]"
      ]
     },
     "execution_count": 167,
     "metadata": {},
     "output_type": "execute_result"
    }
   ],
   "source": [
    "pd_sort_rf_predictions"
   ]
  },
  {
   "cell_type": "code",
   "execution_count": 168,
   "id": "7f4905d7-597d-4db9-84d7-63aeea59483f",
   "metadata": {},
   "outputs": [],
   "source": [
    "columns_to_write = ['userID', 'trackID']\n",
    "pd_sort_rf_predictions.to_csv('rf_predictions.csv', index=False, header=None, columns=columns_to_write)    # write to csv (without headers)"
   ]
  },
  {
   "cell_type": "code",
   "execution_count": 169,
   "id": "7fed8ca6-df20-4d04-803b-c2319f47349d",
   "metadata": {},
   "outputs": [],
   "source": [
    "f_rf_predictions = open('rf_predictions.csv')   \n",
    "f_rf_final_predictions = open('rf_final_predictions.csv', 'w')"
   ]
  },
  {
   "cell_type": "code",
   "execution_count": 170,
   "id": "d954d6f3-62eb-4a41-8deb-dddb44aa1e24",
   "metadata": {},
   "outputs": [
    {
     "data": {
      "text/plain": [
       "18"
      ]
     },
     "execution_count": 170,
     "metadata": {},
     "output_type": "execute_result"
    }
   ],
   "source": [
    "# Write header\n",
    "f_rf_final_predictions.write('TrackID,Predictor\\n')"
   ]
  },
  {
   "cell_type": "code",
   "execution_count": 171,
   "id": "556a654c-f60f-4a9b-bd13-e7de95b816c3",
   "metadata": {},
   "outputs": [],
   "source": [
    "# Initialize some values\n",
    "last_user_id = -1\n",
    "track_id_out_vec = [0] * 6"
   ]
  },
  {
   "cell_type": "markdown",
   "id": "76d3ad7f-8637-4f19-86b8-1266f523950c",
   "metadata": {},
   "source": [
    "Here is where we actually create the final predictions file for the random forest model."
   ]
  },
  {
   "cell_type": "code",
   "execution_count": 172,
   "id": "fa6068e3-48a6-425c-affa-5ff7d3b274dc",
   "metadata": {},
   "outputs": [
    {
     "name": "stdout",
     "output_type": "stream",
     "text": [
      "Done! Time elapsed - 0.38 seconds.\n"
     ]
    }
   ],
   "source": [
    "start_time = time.time()\n",
    "\n",
    "# Go through each line of the predictions file\n",
    "for line in f_rf_predictions:\n",
    "    arr_out = line.strip().split(',')    # remove any spaces/new lines and create list \n",
    "    user_id_out = arr_out[0]             # set user\n",
    "    track_id_out = arr_out[1]            # set track\n",
    "    \n",
    "    if user_id_out != last_user_id:             # if new user reached\n",
    "        i = 0                                   # reset i\n",
    "        \n",
    "    track_id_out_vec[i] = track_id_out          # add trackID to trackID array\n",
    "        \n",
    "    i = i + 1                    # increment i\n",
    "    last_user_id = user_id_out   # set last_user_id as current userID\n",
    "    \n",
    "    if i == 6:                               # if last entry for current user reached\n",
    "        # Here we set the predictions \n",
    "        predictions = np.ones(shape=(6)) # initialize numpy array for predictions\n",
    "        for index in range(0, 3):            \n",
    "            predictions[index] = 0           # set first 3 values in array to 0 (other 3 are 1)\n",
    "        \n",
    "        # Here we write to the final predictions file for the 6 track predictions for the current user\n",
    "        for ii in range(0, 6):         \n",
    "            out_str = str(user_id_out) + '_' + str(track_id_out_vec[ii]) + ',' + str(int(predictions[ii]))\n",
    "            f_rf_final_predictions.write(out_str + '\\n')\n",
    "\n",
    "        \n",
    "end_time = time.time()\n",
    "elapsed_time = end_time - start_time\n",
    "print(f'Done! Time elapsed - {elapsed_time:.2f} seconds.')"
   ]
  },
  {
   "cell_type": "code",
   "execution_count": 173,
   "id": "536fb307-31a9-468d-87e7-6430eb866f76",
   "metadata": {},
   "outputs": [],
   "source": [
    "f_dt_predictions.close()\n",
    "f_dt_final_predictions.close()"
   ]
  },
  {
   "cell_type": "markdown",
   "id": "036f9ed8-f41c-4830-a3c4-31ceccec99d2",
   "metadata": {},
   "source": [
    "### Model 4 - Gradient-Boosted Tree Classifier"
   ]
  },
  {
   "cell_type": "code",
   "execution_count": 83,
   "id": "812c50a1-5d3f-4e23-96fe-01d175b4c528",
   "metadata": {},
   "outputs": [],
   "source": [
    "from pyspark.ml.classification import GBTClassifier"
   ]
  },
  {
   "cell_type": "code",
   "execution_count": 205,
   "id": "b5b5c2a5-f6f1-4d13-97a4-14fd838b79d2",
   "metadata": {},
   "outputs": [
    {
     "name": "stdout",
     "output_type": "stream",
     "text": [
      "Done! Time elapsed - 18.92 seconds.\n"
     ]
    }
   ],
   "source": [
    "start_time = time.time()\n",
    "\n",
    "gbt = GBTClassifier(maxIter=100)\n",
    "gbt_model = gbt.fit(train_df)\n",
    "\n",
    "end_time = time.time()\n",
    "elapsed_time = end_time - start_time\n",
    "print(f'Done! Time elapsed - {elapsed_time:.2f} seconds.')"
   ]
  },
  {
   "cell_type": "code",
   "execution_count": 206,
   "id": "de4ef679-f805-4b87-8471-c9dd6def5244",
   "metadata": {},
   "outputs": [],
   "source": [
    "predictions_gbt = gbt_model.transform(test_df)"
   ]
  },
  {
   "cell_type": "code",
   "execution_count": 207,
   "id": "0a23d207-33cc-4ab5-8184-ac12137fcc01",
   "metadata": {},
   "outputs": [
    {
     "name": "stdout",
     "output_type": "stream",
     "text": [
      "Test Error = 14.48%\n"
     ]
    }
   ],
   "source": [
    "evaluator = MulticlassClassificationEvaluator(labelCol='label', predictionCol='prediction', metricName='accuracy')    # initialize an Evaluator for Multiclass Classification\n",
    "accuracy = evaluator.evaluate(predictions_gbt)    # evaluate random forest model on predictions\n",
    "print(f'Test Error = {1.0 - accuracy:.2%}')"
   ]
  },
  {
   "cell_type": "code",
   "execution_count": 208,
   "id": "da28e0d9-9510-442c-84ca-70609d6192f2",
   "metadata": {},
   "outputs": [
    {
     "name": "stdout",
     "output_type": "stream",
     "text": [
      "+------+-------+-----+--------------------+--------------------+----------+\n",
      "|userID|trackID|label|         probability|       rawPrediction|prediction|\n",
      "+------+-------+-----+--------------------+--------------------+----------+\n",
      "|200031| 130183|  0.0|[0.80853359039673...|[0.72025491912707...|       0.0|\n",
      "|200031|  30877|  1.0|[0.01165681655269...|[-2.2200694341913...|       1.0|\n",
      "|200031|   8244|  1.0|[0.01165681655269...|[-2.2200694341913...|       1.0|\n",
      "|200055|  56695|  1.0|[0.01632026531261...|[-2.0494463824457...|       1.0|\n",
      "|200065| 179571|  0.0|[0.80853359039673...|[0.72025491912707...|       0.0|\n",
      "|200065| 119451|  1.0|[0.19777096337535...|[-0.7001422692047...|       1.0|\n",
      "+------+-------+-----+--------------------+--------------------+----------+\n",
      "only showing top 6 rows\n",
      "\n"
     ]
    }
   ],
   "source": [
    "sort_predictions_gbt = predictions_gbt.select('userID', 'trackID', 'label', 'probability', 'rawPrediction', 'prediction').sort(col('userID').asc(), col('probability').desc())\n",
    "sort_predictions_gbt.show(6)"
   ]
  },
  {
   "cell_type": "markdown",
   "id": "07c59e67-b29c-46ed-bc05-459b5d44713b",
   "metadata": {},
   "source": [
    "Now that we have setup the gradient-boosted tree model, let's apply it to prediction_df which contains the 120,000 user-track combinations we want predictions for."
   ]
  },
  {
   "cell_type": "code",
   "execution_count": 209,
   "id": "2981f851-b57b-4424-8511-e3cadfab0285",
   "metadata": {},
   "outputs": [
    {
     "name": "stdout",
     "output_type": "stream",
     "text": [
      "+------+-------+--------------------+--------------------+----------+\n",
      "|userID|trackID|         probability|       rawPrediction|prediction|\n",
      "+------+-------+--------------------+--------------------+----------+\n",
      "|199810| 208019|[0.80853359039673...|[0.72025491912707...|       0.0|\n",
      "|199810|  74139|[0.80853359039673...|[0.72025491912707...|       0.0|\n",
      "|199810|   9903|[0.80853359039673...|[0.72025491912707...|       0.0|\n",
      "|199810| 242681|[0.80853359039673...|[0.72025491912707...|       0.0|\n",
      "|199810|  18515|[0.24633418901301...|[-0.5591299711568...|       1.0|\n",
      "|199810| 105760|[0.19777096337535...|[-0.7001422692047...|       1.0|\n",
      "|199812| 276940|[0.80853359039673...|[0.72025491912707...|       0.0|\n",
      "|199812| 142408|[0.01161609118736...|[-2.2218399428711...|       1.0|\n",
      "|199812| 130023|[0.01161609118736...|[-2.2218399428711...|       1.0|\n",
      "|199812|  29189|[0.80853359039673...|[0.72025491912707...|       0.0|\n",
      "|199812| 223706|[0.12602709898363...|[-0.9682762071735...|       1.0|\n",
      "|199812| 211361|[0.80853359039673...|[0.72025491912707...|       0.0|\n",
      "+------+-------+--------------------+--------------------+----------+\n",
      "only showing top 12 rows\n",
      "\n"
     ]
    }
   ],
   "source": [
    "gbt_predictions = gbt_model.transform(prediction_df)    # transform prediction_df with gradient-boosted tree model\n",
    "gbt_predictions.select('userID', 'trackID', 'probability', 'rawPrediction', 'prediction').show(12)"
   ]
  },
  {
   "cell_type": "code",
   "execution_count": 210,
   "id": "4e8e1492-9311-4acd-9eaf-39a74d640b51",
   "metadata": {},
   "outputs": [
    {
     "name": "stdout",
     "output_type": "stream",
     "text": [
      "+------+-------+--------------------+--------------------+----------+\n",
      "|userID|trackID|         probability|       rawPrediction|prediction|\n",
      "+------+-------+--------------------+--------------------+----------+\n",
      "|199810| 208019|[0.80853359039673...|[0.72025491912707...|       0.0|\n",
      "|199810| 242681|[0.80853359039673...|[0.72025491912707...|       0.0|\n",
      "|199810|  74139|[0.80853359039673...|[0.72025491912707...|       0.0|\n",
      "|199810|   9903|[0.80853359039673...|[0.72025491912707...|       0.0|\n",
      "|199810|  18515|[0.24633418901301...|[-0.5591299711568...|       1.0|\n",
      "|199810| 105760|[0.19777096337535...|[-0.7001422692047...|       1.0|\n",
      "+------+-------+--------------------+--------------------+----------+\n",
      "only showing top 6 rows\n",
      "\n"
     ]
    }
   ],
   "source": [
    "# col('userID').asc() sort the user ascending\n",
    "# col('probability').desc() sort the probability descending (from large to small)\n",
    "sort_gbt_predictions = gbt_predictions.select('userID', 'trackID', 'probability', 'rawPrediction', 'prediction').sort(col('userID').asc(), col('probability').desc())\n",
    "sort_gbt_predictions.show(6)"
   ]
  },
  {
   "cell_type": "code",
   "execution_count": 211,
   "id": "d8a21cb8-ba24-42e3-b5dc-db63829b2ad7",
   "metadata": {},
   "outputs": [],
   "source": [
    "pd_sort_gbt_predictions = sort_gbt_predictions.toPandas().fillna(0.0)    # create pandas df"
   ]
  },
  {
   "cell_type": "code",
   "execution_count": 212,
   "id": "e933e5c5-0c96-4d11-b6f9-c0930d3ee378",
   "metadata": {},
   "outputs": [
    {
     "data": {
      "text/html": [
       "<div>\n",
       "<style scoped>\n",
       "    .dataframe tbody tr th:only-of-type {\n",
       "        vertical-align: middle;\n",
       "    }\n",
       "\n",
       "    .dataframe tbody tr th {\n",
       "        vertical-align: top;\n",
       "    }\n",
       "\n",
       "    .dataframe thead th {\n",
       "        text-align: right;\n",
       "    }\n",
       "</style>\n",
       "<table border=\"1\" class=\"dataframe\">\n",
       "  <thead>\n",
       "    <tr style=\"text-align: right;\">\n",
       "      <th></th>\n",
       "      <th>userID</th>\n",
       "      <th>trackID</th>\n",
       "      <th>probability</th>\n",
       "      <th>rawPrediction</th>\n",
       "      <th>prediction</th>\n",
       "    </tr>\n",
       "  </thead>\n",
       "  <tbody>\n",
       "    <tr>\n",
       "      <th>0</th>\n",
       "      <td>199810</td>\n",
       "      <td>208019</td>\n",
       "      <td>[0.8085335903967382, 0.19146640960326178]</td>\n",
       "      <td>[0.720254919127078, -0.720254919127078]</td>\n",
       "      <td>0.0</td>\n",
       "    </tr>\n",
       "    <tr>\n",
       "      <th>1</th>\n",
       "      <td>199810</td>\n",
       "      <td>74139</td>\n",
       "      <td>[0.8085335903967382, 0.19146640960326178]</td>\n",
       "      <td>[0.720254919127078, -0.720254919127078]</td>\n",
       "      <td>0.0</td>\n",
       "    </tr>\n",
       "    <tr>\n",
       "      <th>2</th>\n",
       "      <td>199810</td>\n",
       "      <td>9903</td>\n",
       "      <td>[0.8085335903967382, 0.19146640960326178]</td>\n",
       "      <td>[0.720254919127078, -0.720254919127078]</td>\n",
       "      <td>0.0</td>\n",
       "    </tr>\n",
       "    <tr>\n",
       "      <th>3</th>\n",
       "      <td>199810</td>\n",
       "      <td>242681</td>\n",
       "      <td>[0.8085335903967382, 0.19146640960326178]</td>\n",
       "      <td>[0.720254919127078, -0.720254919127078]</td>\n",
       "      <td>0.0</td>\n",
       "    </tr>\n",
       "    <tr>\n",
       "      <th>4</th>\n",
       "      <td>199810</td>\n",
       "      <td>18515</td>\n",
       "      <td>[0.24633418901301743, 0.7536658109869826]</td>\n",
       "      <td>[-0.5591299711568517, 0.5591299711568517]</td>\n",
       "      <td>1.0</td>\n",
       "    </tr>\n",
       "    <tr>\n",
       "      <th>...</th>\n",
       "      <td>...</td>\n",
       "      <td>...</td>\n",
       "      <td>...</td>\n",
       "      <td>...</td>\n",
       "      <td>...</td>\n",
       "    </tr>\n",
       "    <tr>\n",
       "      <th>119995</th>\n",
       "      <td>249010</td>\n",
       "      <td>86104</td>\n",
       "      <td>[0.8085335903967382, 0.19146640960326178]</td>\n",
       "      <td>[0.720254919127078, -0.720254919127078]</td>\n",
       "      <td>0.0</td>\n",
       "    </tr>\n",
       "    <tr>\n",
       "      <th>119996</th>\n",
       "      <td>249010</td>\n",
       "      <td>293818</td>\n",
       "      <td>[0.8085335903967382, 0.19146640960326178]</td>\n",
       "      <td>[0.720254919127078, -0.720254919127078]</td>\n",
       "      <td>0.0</td>\n",
       "    </tr>\n",
       "    <tr>\n",
       "      <th>119997</th>\n",
       "      <td>249010</td>\n",
       "      <td>110470</td>\n",
       "      <td>[0.016320265312616513, 0.9836797346873835]</td>\n",
       "      <td>[-2.0494463824457223, 2.0494463824457223]</td>\n",
       "      <td>1.0</td>\n",
       "    </tr>\n",
       "    <tr>\n",
       "      <th>119998</th>\n",
       "      <td>249010</td>\n",
       "      <td>186634</td>\n",
       "      <td>[0.016320265312616513, 0.9836797346873835]</td>\n",
       "      <td>[-2.0494463824457223, 2.0494463824457223]</td>\n",
       "      <td>1.0</td>\n",
       "    </tr>\n",
       "    <tr>\n",
       "      <th>119999</th>\n",
       "      <td>249010</td>\n",
       "      <td>262811</td>\n",
       "      <td>[0.016320265312616513, 0.9836797346873835]</td>\n",
       "      <td>[-2.0494463824457223, 2.0494463824457223]</td>\n",
       "      <td>1.0</td>\n",
       "    </tr>\n",
       "  </tbody>\n",
       "</table>\n",
       "<p>120000 rows × 5 columns</p>\n",
       "</div>"
      ],
      "text/plain": [
       "        userID  trackID                                 probability  \\\n",
       "0       199810   208019   [0.8085335903967382, 0.19146640960326178]   \n",
       "1       199810    74139   [0.8085335903967382, 0.19146640960326178]   \n",
       "2       199810     9903   [0.8085335903967382, 0.19146640960326178]   \n",
       "3       199810   242681   [0.8085335903967382, 0.19146640960326178]   \n",
       "4       199810    18515   [0.24633418901301743, 0.7536658109869826]   \n",
       "...        ...      ...                                         ...   \n",
       "119995  249010    86104   [0.8085335903967382, 0.19146640960326178]   \n",
       "119996  249010   293818   [0.8085335903967382, 0.19146640960326178]   \n",
       "119997  249010   110470  [0.016320265312616513, 0.9836797346873835]   \n",
       "119998  249010   186634  [0.016320265312616513, 0.9836797346873835]   \n",
       "119999  249010   262811  [0.016320265312616513, 0.9836797346873835]   \n",
       "\n",
       "                                    rawPrediction  prediction  \n",
       "0         [0.720254919127078, -0.720254919127078]         0.0  \n",
       "1         [0.720254919127078, -0.720254919127078]         0.0  \n",
       "2         [0.720254919127078, -0.720254919127078]         0.0  \n",
       "3         [0.720254919127078, -0.720254919127078]         0.0  \n",
       "4       [-0.5591299711568517, 0.5591299711568517]         1.0  \n",
       "...                                           ...         ...  \n",
       "119995    [0.720254919127078, -0.720254919127078]         0.0  \n",
       "119996    [0.720254919127078, -0.720254919127078]         0.0  \n",
       "119997  [-2.0494463824457223, 2.0494463824457223]         1.0  \n",
       "119998  [-2.0494463824457223, 2.0494463824457223]         1.0  \n",
       "119999  [-2.0494463824457223, 2.0494463824457223]         1.0  \n",
       "\n",
       "[120000 rows x 5 columns]"
      ]
     },
     "execution_count": 212,
     "metadata": {},
     "output_type": "execute_result"
    }
   ],
   "source": [
    "pd_sort_gbt_predictions"
   ]
  },
  {
   "cell_type": "code",
   "execution_count": 213,
   "id": "3d57c9d7-3ed0-4376-8f4d-ae5de20f48c6",
   "metadata": {},
   "outputs": [],
   "source": [
    "columns_to_write = ['userID', 'trackID']\n",
    "pd_sort_gbt_predictions.to_csv('gbt_predictions.csv', index=False, header=None, columns=columns_to_write)    # write to csv (without headers)"
   ]
  },
  {
   "cell_type": "code",
   "execution_count": 214,
   "id": "9e5234bb-c2b0-4f80-8871-8f9d8b3a03d8",
   "metadata": {},
   "outputs": [],
   "source": [
    "f_gbt_predictions = open('gbt_predictions.csv')   \n",
    "f_gbt_final_predictions = open('gbt_final_predictions.csv', 'w')"
   ]
  },
  {
   "cell_type": "code",
   "execution_count": 215,
   "id": "be5b64ee-3695-4b2f-a0b1-dbb31200777d",
   "metadata": {},
   "outputs": [
    {
     "data": {
      "text/plain": [
       "18"
      ]
     },
     "execution_count": 215,
     "metadata": {},
     "output_type": "execute_result"
    }
   ],
   "source": [
    "# Write header\n",
    "f_gbt_final_predictions.write('TrackID,Predictor\\n')"
   ]
  },
  {
   "cell_type": "code",
   "execution_count": 216,
   "id": "942bae73-7c70-4fbe-9490-02f137c87b26",
   "metadata": {},
   "outputs": [],
   "source": [
    "# Initialize some values\n",
    "last_user_id = -1\n",
    "track_id_out_vec = [0] * 6"
   ]
  },
  {
   "cell_type": "markdown",
   "id": "7f36a8f1-1293-4ae0-b6f7-ff7fbe4e643c",
   "metadata": {},
   "source": [
    "Here is where we actually create the final predictions file for the gradient-boosted tree model."
   ]
  },
  {
   "cell_type": "code",
   "execution_count": 217,
   "id": "ea6411f6-14eb-4f45-a03d-edcff67289b7",
   "metadata": {},
   "outputs": [
    {
     "name": "stdout",
     "output_type": "stream",
     "text": [
      "Done! Time elapsed - 0.36 seconds.\n"
     ]
    }
   ],
   "source": [
    "start_time = time.time()\n",
    "\n",
    "# Go through each line of the predictions file\n",
    "for line in f_gbt_predictions:\n",
    "    arr_out = line.strip().split(',')    # remove any spaces/new lines and create list \n",
    "    user_id_out = arr_out[0]             # set user\n",
    "    track_id_out = arr_out[1]            # set track\n",
    "    \n",
    "    if user_id_out != last_user_id:             # if new user reached\n",
    "        i = 0                                   # reset i\n",
    "        \n",
    "    track_id_out_vec[i] = track_id_out          # add trackID to trackID array\n",
    "        \n",
    "    i = i + 1                    # increment i\n",
    "    last_user_id = user_id_out   # set last_user_id as current userID\n",
    "    \n",
    "    if i == 6:                               # if last entry for current user reached\n",
    "        # Here we set the predictions \n",
    "        predictions = np.ones(shape=(6)) # initialize numpy array for predictions\n",
    "        for index in range(0, 3):            \n",
    "            predictions[index] = 0           # set first 3 values in array to 0 (other 3 are 1)\n",
    "        \n",
    "        # Here we write to the final predictions file for the 6 track predictions for the current user\n",
    "        for ii in range(0, 6):         \n",
    "            out_str = str(user_id_out) + '_' + str(track_id_out_vec[ii]) + ',' + str(int(predictions[ii]))\n",
    "            f_gbt_final_predictions.write(out_str + '\\n')\n",
    "\n",
    "        \n",
    "end_time = time.time()\n",
    "elapsed_time = end_time - start_time\n",
    "print(f'Done! Time elapsed - {elapsed_time:.2f} seconds.')"
   ]
  },
  {
   "cell_type": "code",
   "execution_count": 218,
   "id": "9fd677e6-5d79-4e69-8a5a-a38d2ec70e1c",
   "metadata": {},
   "outputs": [],
   "source": [
    "f_gbt_predictions.close()\n",
    "f_gbt_final_predictions.close()"
   ]
  },
  {
   "cell_type": "markdown",
   "id": "8334806d-f7c6-42d8-8aff-2e5c16dac24d",
   "metadata": {},
   "source": [
    "### Analysis"
   ]
  },
  {
   "cell_type": "markdown",
   "id": "5cc51134-7ac6-4e67-8b61-32d2708692fa",
   "metadata": {},
   "source": [
    "Below is a table of the Kaggle Results for the 4 Machine Learning Classification Models.\n",
    "\n",
    "|Logistic Regression|Decision Tree|Random Forest|Gradient-Boosted Tree|\n",
    "|-------------------|-------------|-------------|---------------------|\n",
    "|0.84494            |0.82444      |0.82444      |0.84499              |\n",
    "\n",
    "As can be seen from the table, the **gradient-boosted tree** model seems to have performed the best, with the **logistic regression** model being a close second. Of course, tweaking some of the parameters when creating the models can cause this results to changes.\n",
    "\n",
    "__Note__ - The above results are mine (Tim's). Alex (who included the genre scores and statistics in his features whereas my features only included album and artist scores) got a better result for logistic regression - **0.86749**."
   ]
  }
 ],
 "metadata": {
  "kernelspec": {
   "display_name": "Python 3",
   "language": "python",
   "name": "python3"
  },
  "language_info": {
   "codemirror_mode": {
    "name": "ipython",
    "version": 3
   },
   "file_extension": ".py",
   "mimetype": "text/x-python",
   "name": "python",
   "nbconvert_exporter": "python",
   "pygments_lexer": "ipython3",
   "version": "3.7.10"
  }
 },
 "nbformat": 4,
 "nbformat_minor": 5
}
