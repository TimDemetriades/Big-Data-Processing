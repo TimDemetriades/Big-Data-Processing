{
 "cells": [
  {
   "cell_type": "markdown",
   "metadata": {},
   "source": [
    "# HW 6 - Tim Demetriades\n",
    "## Latent Factor Matrix Factorization\n",
    "4/3/2021"
   ]
  },
  {
   "cell_type": "markdown",
   "metadata": {},
   "source": [
    "### Part 1 - 5,000 Steps"
   ]
  },
  {
   "cell_type": "code",
   "execution_count": 1,
   "metadata": {},
   "outputs": [],
   "source": [
    "import numpy as np                  # for arrays "
   ]
  },
  {
   "cell_type": "markdown",
   "metadata": {},
   "source": [
    "Below is the Results array `r` which holds ratings on a scale from 1 to 5 for 4 movies by 5 differen users. Not all users have ratings for all movies. "
   ]
  },
  {
   "cell_type": "code",
   "execution_count": 2,
   "metadata": {},
   "outputs": [
    {
     "name": "stdout",
     "output_type": "stream",
     "text": [
      "Results Matrix:\n"
     ]
    },
    {
     "data": {
      "text/plain": [
       "array([[5, 3, 0, 1],\n",
       "       [4, 0, 0, 1],\n",
       "       [1, 1, 0, 5],\n",
       "       [1, 0, 0, 4],\n",
       "       [0, 1, 5, 4]])"
      ]
     },
     "execution_count": 2,
     "metadata": {},
     "output_type": "execute_result"
    }
   ],
   "source": [
    "r = np.array([[5, 3, 0, 1],\n",
    "              [4, 0, 0, 1],\n",
    "              [1, 1, 0, 5],\n",
    "              [1, 0, 0, 4],\n",
    "              [0, 1, 5, 4]])\n",
    "print('Results Matrix:')\n",
    "r"
   ]
  },
  {
   "cell_type": "code",
   "execution_count": 3,
   "metadata": {},
   "outputs": [
    {
     "name": "stdout",
     "output_type": "stream",
     "text": [
      "r has 5 rows and 4 columns.\n"
     ]
    }
   ],
   "source": [
    "num_row_r = r.shape[0]\n",
    "num_col_r = r.shape[1]\n",
    "print(f'r has {num_row_r} rows and {num_col_r} columns.')"
   ]
  },
  {
   "cell_type": "code",
   "execution_count": 4,
   "metadata": {},
   "outputs": [
    {
     "name": "stdout",
     "output_type": "stream",
     "text": [
      "P Matrix:\n",
      "[[0.96499347 0.71909942]\n",
      " [0.57431202 0.54379492]\n",
      " [0.6196881  0.89047171]\n",
      " [0.1819025  0.55888606]\n",
      " [0.03872846 0.94662023]]\n",
      "Q Matrix:\n",
      "[[0.39889836 0.17875725 0.87286966 0.49876861]\n",
      " [0.25642355 0.92588058 0.61750797 0.44081818]]\n"
     ]
    }
   ],
   "source": [
    "k = 2    # Number of latent factors/features (hyperparameter)\n",
    "# Fill p and q with random floats between 0 and 1\n",
    "p = np.random.rand(num_row_r, k)\n",
    "q = np.random.rand(num_col_r, k)    # easier to leave in this shape and transpose later\n",
    "print('P Matrix:')\n",
    "print(p)\n",
    "print('Q Matrix:')\n",
    "print(q.T)    # q is transposed"
   ]
  },
  {
   "cell_type": "code",
   "execution_count": 5,
   "metadata": {},
   "outputs": [],
   "source": [
    "# Hyper parameters\n",
    "steps = 5000     # epochs\n",
    "alpha = 0.0002   # learning rate\n",
    "beta = 0.02      # for regularization to avoid over fitting and prevent extreme values"
   ]
  },
  {
   "cell_type": "markdown",
   "metadata": {},
   "source": [
    "Below is the main loop where the stochastic gradient descent occurs."
   ]
  },
  {
   "cell_type": "code",
   "execution_count": 6,
   "metadata": {},
   "outputs": [],
   "source": [
    "def matrix_factorization(r, p, q, k, steps, alpha, beta):\n",
    "    # List of training samples (non-zero values from ratings matrix)\n",
    "    # i,j are the coordinates of r\n",
    "    # r[i,j] is the rating at the corresonding coordinates\n",
    "    samples = [\n",
    "        (i, j, r[i,j])\n",
    "        for i in range(num_row_r)\n",
    "        for j in range(num_col_r)\n",
    "        if r[i,j] > 0\n",
    "    ]\n",
    "\n",
    "    # Main gradient descent loop (repeats for number of steps)\n",
    "    for i in range(steps):\n",
    "\n",
    "        # Stochastic Gradient Descent \n",
    "        for i, j, rating in samples:    # for every rating with a non-zero value\n",
    "\n",
    "            # Get prediction and error\n",
    "            prediction = np.matmul(p[i, :], q[j, :])\n",
    "            e = (rating - prediction)\n",
    "\n",
    "            # Update p and q matrices\n",
    "            p[i, :] += alpha * (e * q[j, :] - beta * p[i, :])    # update p for all columns in current row where row is current row in r\n",
    "            q[j, :] += alpha * (e * p[i, :] - beta * q[j, :])    # update q for all columns in current row where row is current column in r\n",
    "            \n",
    "    return p, q.T    # q is transposed"
   ]
  },
  {
   "cell_type": "markdown",
   "metadata": {},
   "source": [
    "Here we call the function to get our new P and Q matrices."
   ]
  },
  {
   "cell_type": "code",
   "execution_count": 7,
   "metadata": {},
   "outputs": [],
   "source": [
    "[new_p, new_q] = matrix_factorization(r, p, q, k, steps, alpha, beta)"
   ]
  },
  {
   "cell_type": "code",
   "execution_count": 8,
   "metadata": {},
   "outputs": [
    {
     "name": "stdout",
     "output_type": "stream",
     "text": [
      "New P Matrix:\n",
      "[[2.22882524 0.59114137]\n",
      " [1.69526024 0.53317542]\n",
      " [0.12545045 2.10258715]\n",
      " [0.15683517 1.69752564]\n",
      " [0.8199803  1.79523908]]\n",
      "New Q Matrix:\n",
      "[[ 2.17286678  1.11533115  1.42989857 -0.15866866]\n",
      " [ 0.37593773  0.30475212  2.02693002  2.33837723]]\n"
     ]
    }
   ],
   "source": [
    "print('New P Matrix:')\n",
    "print(new_p)\n",
    "print('New Q Matrix:')\n",
    "print(new_q)"
   ]
  },
  {
   "cell_type": "markdown",
   "metadata": {},
   "source": [
    "Now that we have the new P and Q matrices, we simply multiply them together to get the predicted ratings matrix (which includes predictions for the zero values in the actual ratings matrix).  "
   ]
  },
  {
   "cell_type": "code",
   "execution_count": 9,
   "metadata": {},
   "outputs": [
    {
     "name": "stdout",
     "output_type": "stream",
     "text": [
      "Predicted Ratings\n",
      "[[5.0652 2.666  4.3852 1.0287]\n",
      " [3.884  2.0533 3.5048 0.9778]\n",
      " [1.063  0.7807 4.4412 4.8967]\n",
      " [0.9789 0.6922 3.665  3.9446]\n",
      " [2.4566 1.4617 4.8113 4.0678]]\n",
      "Actual Ratings\n",
      "[[5 3 0 1]\n",
      " [4 0 0 1]\n",
      " [1 1 0 5]\n",
      " [1 0 0 4]\n",
      " [0 1 5 4]]\n"
     ]
    }
   ],
   "source": [
    "r_predicted = np.matmul(new_p, new_q)\n",
    "print('Predicted Ratings')\n",
    "print(r_predicted.round(4))\n",
    "print('Actual Ratings')\n",
    "print(r)"
   ]
  },
  {
   "cell_type": "markdown",
   "metadata": {},
   "source": [
    "Above we can see the predicted ratings matrix and the actual ratings matrix. Notice that the non-zero values in the actual ratings matrix match the corresponding values in the predicted ratings matrix. This means the function worked pretty well. For zero values in the actual ratings matrix, the predicted ratings matrix now includes values, with these values corresponding to the predicted ratings for the movies in which a user did not have a rating for in the actual ratings matrix. \n",
    "\n",
    "Let's try this with 10,000 steps now."
   ]
  },
  {
   "cell_type": "markdown",
   "metadata": {},
   "source": [
    "### Part 2 - 10,000 Steps"
   ]
  },
  {
   "cell_type": "markdown",
   "metadata": {},
   "source": [
    "Let's see what happens if we do 5,000 more steps with the same matrices for a grand total of 10,000 steps. Ideally this should improve our predicted ratings matrix."
   ]
  },
  {
   "cell_type": "code",
   "execution_count": 10,
   "metadata": {},
   "outputs": [],
   "source": [
    "[new_p, new_q] = matrix_factorization(r, new_p, new_q.T, k, steps, alpha, beta)    # transposing new_q"
   ]
  },
  {
   "cell_type": "code",
   "execution_count": 11,
   "metadata": {},
   "outputs": [
    {
     "name": "stdout",
     "output_type": "stream",
     "text": [
      "New P Matrix:\n",
      "[[2.26960418 0.58580665]\n",
      " [1.78865631 0.55334928]\n",
      " [0.20293499 2.17613728]\n",
      " [0.21535667 1.74847039]\n",
      " [0.60210853 1.80036563]]\n",
      "New Q Matrix:\n",
      "[[ 2.11553231  1.21650951  1.49510781 -0.14732335]\n",
      " [ 0.29244213  0.26824799  2.22310152  2.28128457]]\n"
     ]
    }
   ],
   "source": [
    "print('New P Matrix:')\n",
    "print(new_p)\n",
    "print('New Q Matrix:')\n",
    "print(new_q)"
   ]
  },
  {
   "cell_type": "code",
   "execution_count": 12,
   "metadata": {},
   "outputs": [
    {
     "name": "stdout",
     "output_type": "stream",
     "text": [
      "Predicted Ratings\n",
      "[[4.9727 2.9181 4.6956 1.002 ]\n",
      " [3.9458 2.3244 3.9044 0.9988]\n",
      " [1.0657 0.8306 5.1412 4.9345]\n",
      " [0.9669 0.731  4.209  3.957 ]\n",
      " [1.8003 1.2154 4.9026 4.0184]]\n",
      "Actual Ratings\n",
      "[[5 3 0 1]\n",
      " [4 0 0 1]\n",
      " [1 1 0 5]\n",
      " [1 0 0 4]\n",
      " [0 1 5 4]]\n"
     ]
    }
   ],
   "source": [
    "r_predicted = np.matmul(new_p, new_q)\n",
    "print('Predicted Ratings')\n",
    "print(r_predicted.round(4))\n",
    "print('Actual Ratings')\n",
    "print(r)"
   ]
  },
  {
   "cell_type": "markdown",
   "metadata": {},
   "source": [
    "The non-zero values in the actual ratings matrix appear to match even closer to the corresponding values in the predicted ratings matrix. By adding 5,000 steps we have improved the accuracy of the predictions. "
   ]
  }
 ],
 "metadata": {
  "kernelspec": {
   "display_name": "Python 3",
   "language": "python",
   "name": "python3"
  },
  "language_info": {
   "codemirror_mode": {
    "name": "ipython",
    "version": 3
   },
   "file_extension": ".py",
   "mimetype": "text/x-python",
   "name": "python",
   "nbconvert_exporter": "python",
   "pygments_lexer": "ipython3",
   "version": "3.8.5"
  }
 },
 "nbformat": 4,
 "nbformat_minor": 4
}
