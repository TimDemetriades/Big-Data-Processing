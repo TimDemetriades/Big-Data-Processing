{
 "cells": [
  {
   "cell_type": "markdown",
   "metadata": {},
   "source": [
    "# HW 7-1 - Tim Demetriades\n",
    "## Principle Component Analysis\n",
    "4/10/2021\n",
    "\n",
    "Here we use the 4-factor time series consisting of Market-risk free (M-r), SMB (Small minus big), HML (High minus low), and Momentum."
   ]
  },
  {
   "cell_type": "markdown",
   "metadata": {},
   "source": [
    "### Part 1\n",
    "Perform principal components analysis on the four-factor time series (market-RF, SMB, HML, and Momentum) in HW1.  \n",
    "\n",
    "How many principal components account for 75% of the covariance matrix trace (i.e., the eigenvalue summations). You can use either Matlab, R, or Python for this PCA decomposition.\n",
    "\n",
    "#### Load Data"
   ]
  },
  {
   "cell_type": "code",
   "execution_count": 1,
   "metadata": {},
   "outputs": [],
   "source": [
    "import pandas as pd\n",
    "import numpy as np\n",
    "import matplotlib.pyplot as plt\n",
    "from sklearn.decomposition import PCA\n",
    "from sklearn.preprocessing import StandardScaler\n",
    "%matplotlib inline"
   ]
  },
  {
   "cell_type": "code",
   "execution_count": 2,
   "metadata": {},
   "outputs": [],
   "source": [
    "factors = ['Mkt-RF', 'SMB', 'HML', 'Mom']\n",
    "df = pd.read_csv('data.csv', usecols=factors)"
   ]
  },
  {
   "cell_type": "code",
   "execution_count": 3,
   "metadata": {},
   "outputs": [
    {
     "name": "stdout",
     "output_type": "stream",
     "text": [
      "(948, 4)\n"
     ]
    },
    {
     "data": {
      "text/html": [
       "<div>\n",
       "<style scoped>\n",
       "    .dataframe tbody tr th:only-of-type {\n",
       "        vertical-align: middle;\n",
       "    }\n",
       "\n",
       "    .dataframe tbody tr th {\n",
       "        vertical-align: top;\n",
       "    }\n",
       "\n",
       "    .dataframe thead th {\n",
       "        text-align: right;\n",
       "    }\n",
       "</style>\n",
       "<table border=\"1\" class=\"dataframe\">\n",
       "  <thead>\n",
       "    <tr style=\"text-align: right;\">\n",
       "      <th></th>\n",
       "      <th>Mkt-RF</th>\n",
       "      <th>SMB</th>\n",
       "      <th>HML</th>\n",
       "      <th>Mom</th>\n",
       "    </tr>\n",
       "  </thead>\n",
       "  <tbody>\n",
       "    <tr>\n",
       "      <th>0</th>\n",
       "      <td>-0.10</td>\n",
       "      <td>-0.09</td>\n",
       "      <td>4.72</td>\n",
       "      <td>0.36</td>\n",
       "    </tr>\n",
       "    <tr>\n",
       "      <th>1</th>\n",
       "      <td>4.32</td>\n",
       "      <td>0.31</td>\n",
       "      <td>3.40</td>\n",
       "      <td>-1.67</td>\n",
       "    </tr>\n",
       "    <tr>\n",
       "      <th>2</th>\n",
       "      <td>0.33</td>\n",
       "      <td>-1.77</td>\n",
       "      <td>-2.42</td>\n",
       "      <td>2.97</td>\n",
       "    </tr>\n",
       "    <tr>\n",
       "      <th>3</th>\n",
       "      <td>0.42</td>\n",
       "      <td>0.30</td>\n",
       "      <td>1.03</td>\n",
       "      <td>4.53</td>\n",
       "    </tr>\n",
       "    <tr>\n",
       "      <th>4</th>\n",
       "      <td>5.36</td>\n",
       "      <td>0.67</td>\n",
       "      <td>3.41</td>\n",
       "      <td>3.41</td>\n",
       "    </tr>\n",
       "  </tbody>\n",
       "</table>\n",
       "</div>"
      ],
      "text/plain": [
       "   Mkt-RF   SMB   HML   Mom\n",
       "0   -0.10 -0.09  4.72  0.36\n",
       "1    4.32  0.31  3.40 -1.67\n",
       "2    0.33 -1.77 -2.42  2.97\n",
       "3    0.42  0.30  1.03  4.53\n",
       "4    5.36  0.67  3.41  3.41"
      ]
     },
     "execution_count": 3,
     "metadata": {},
     "output_type": "execute_result"
    }
   ],
   "source": [
    "print(df.shape)\n",
    "df.head()"
   ]
  },
  {
   "cell_type": "code",
   "execution_count": 4,
   "metadata": {},
   "outputs": [
    {
     "data": {
      "text/html": [
       "<div>\n",
       "<style scoped>\n",
       "    .dataframe tbody tr th:only-of-type {\n",
       "        vertical-align: middle;\n",
       "    }\n",
       "\n",
       "    .dataframe tbody tr th {\n",
       "        vertical-align: top;\n",
       "    }\n",
       "\n",
       "    .dataframe thead th {\n",
       "        text-align: right;\n",
       "    }\n",
       "</style>\n",
       "<table border=\"1\" class=\"dataframe\">\n",
       "  <thead>\n",
       "    <tr style=\"text-align: right;\">\n",
       "      <th></th>\n",
       "      <th>Mkt-RF</th>\n",
       "      <th>SMB</th>\n",
       "      <th>HML</th>\n",
       "      <th>Mom</th>\n",
       "    </tr>\n",
       "  </thead>\n",
       "  <tbody>\n",
       "    <tr>\n",
       "      <th>count</th>\n",
       "      <td>948.000000</td>\n",
       "      <td>948.000000</td>\n",
       "      <td>948.000000</td>\n",
       "      <td>948.000000</td>\n",
       "    </tr>\n",
       "    <tr>\n",
       "      <th>mean</th>\n",
       "      <td>0.643439</td>\n",
       "      <td>0.246593</td>\n",
       "      <td>0.409821</td>\n",
       "      <td>0.764167</td>\n",
       "    </tr>\n",
       "    <tr>\n",
       "      <th>std</th>\n",
       "      <td>5.481649</td>\n",
       "      <td>3.371818</td>\n",
       "      <td>3.610355</td>\n",
       "      <td>4.696955</td>\n",
       "    </tr>\n",
       "    <tr>\n",
       "      <th>min</th>\n",
       "      <td>-29.060000</td>\n",
       "      <td>-16.580000</td>\n",
       "      <td>-13.440000</td>\n",
       "      <td>-50.630000</td>\n",
       "    </tr>\n",
       "    <tr>\n",
       "      <th>25%</th>\n",
       "      <td>-2.172500</td>\n",
       "      <td>-1.572500</td>\n",
       "      <td>-1.300000</td>\n",
       "      <td>-0.730000</td>\n",
       "    </tr>\n",
       "    <tr>\n",
       "      <th>50%</th>\n",
       "      <td>0.965000</td>\n",
       "      <td>0.105000</td>\n",
       "      <td>0.250000</td>\n",
       "      <td>0.950000</td>\n",
       "    </tr>\n",
       "    <tr>\n",
       "      <th>75%</th>\n",
       "      <td>3.737500</td>\n",
       "      <td>1.860000</td>\n",
       "      <td>1.780000</td>\n",
       "      <td>2.990000</td>\n",
       "    </tr>\n",
       "    <tr>\n",
       "      <th>max</th>\n",
       "      <td>38.270000</td>\n",
       "      <td>38.840000</td>\n",
       "      <td>35.480000</td>\n",
       "      <td>18.400000</td>\n",
       "    </tr>\n",
       "  </tbody>\n",
       "</table>\n",
       "</div>"
      ],
      "text/plain": [
       "           Mkt-RF         SMB         HML         Mom\n",
       "count  948.000000  948.000000  948.000000  948.000000\n",
       "mean     0.643439    0.246593    0.409821    0.764167\n",
       "std      5.481649    3.371818    3.610355    4.696955\n",
       "min    -29.060000  -16.580000  -13.440000  -50.630000\n",
       "25%     -2.172500   -1.572500   -1.300000   -0.730000\n",
       "50%      0.965000    0.105000    0.250000    0.950000\n",
       "75%      3.737500    1.860000    1.780000    2.990000\n",
       "max     38.270000   38.840000   35.480000   18.400000"
      ]
     },
     "execution_count": 4,
     "metadata": {},
     "output_type": "execute_result"
    }
   ],
   "source": [
    "df.describe()"
   ]
  },
  {
   "cell_type": "markdown",
   "metadata": {},
   "source": [
    "#### Standardize Data"
   ]
  },
  {
   "cell_type": "code",
   "execution_count": 5,
   "metadata": {},
   "outputs": [],
   "source": [
    "standardized_values = StandardScaler().fit_transform(df.values)    # fit to data then transform it"
   ]
  },
  {
   "cell_type": "code",
   "execution_count": 6,
   "metadata": {},
   "outputs": [
    {
     "name": "stdout",
     "output_type": "stream",
     "text": [
      "(948, 4)\n"
     ]
    },
    {
     "data": {
      "text/html": [
       "<div>\n",
       "<style scoped>\n",
       "    .dataframe tbody tr th:only-of-type {\n",
       "        vertical-align: middle;\n",
       "    }\n",
       "\n",
       "    .dataframe tbody tr th {\n",
       "        vertical-align: top;\n",
       "    }\n",
       "\n",
       "    .dataframe thead th {\n",
       "        text-align: right;\n",
       "    }\n",
       "</style>\n",
       "<table border=\"1\" class=\"dataframe\">\n",
       "  <thead>\n",
       "    <tr style=\"text-align: right;\">\n",
       "      <th></th>\n",
       "      <th>Mkt-RF</th>\n",
       "      <th>SMB</th>\n",
       "      <th>HML</th>\n",
       "      <th>Mom</th>\n",
       "    </tr>\n",
       "  </thead>\n",
       "  <tbody>\n",
       "    <tr>\n",
       "      <th>0</th>\n",
       "      <td>-0.135695</td>\n",
       "      <td>-0.099878</td>\n",
       "      <td>1.194468</td>\n",
       "      <td>-0.086094</td>\n",
       "    </tr>\n",
       "    <tr>\n",
       "      <th>1</th>\n",
       "      <td>0.671057</td>\n",
       "      <td>0.018815</td>\n",
       "      <td>0.828660</td>\n",
       "      <td>-0.518517</td>\n",
       "    </tr>\n",
       "    <tr>\n",
       "      <th>2</th>\n",
       "      <td>-0.057210</td>\n",
       "      <td>-0.598389</td>\n",
       "      <td>-0.784221</td>\n",
       "      <td>0.469878</td>\n",
       "    </tr>\n",
       "    <tr>\n",
       "      <th>3</th>\n",
       "      <td>-0.040783</td>\n",
       "      <td>0.015848</td>\n",
       "      <td>0.171869</td>\n",
       "      <td>0.802184</td>\n",
       "    </tr>\n",
       "    <tr>\n",
       "      <th>4</th>\n",
       "      <td>0.860882</td>\n",
       "      <td>0.125639</td>\n",
       "      <td>0.831432</td>\n",
       "      <td>0.563606</td>\n",
       "    </tr>\n",
       "  </tbody>\n",
       "</table>\n",
       "</div>"
      ],
      "text/plain": [
       "     Mkt-RF       SMB       HML       Mom\n",
       "0 -0.135695 -0.099878  1.194468 -0.086094\n",
       "1  0.671057  0.018815  0.828660 -0.518517\n",
       "2 -0.057210 -0.598389 -0.784221  0.469878\n",
       "3 -0.040783  0.015848  0.171869  0.802184\n",
       "4  0.860882  0.125639  0.831432  0.563606"
      ]
     },
     "execution_count": 6,
     "metadata": {},
     "output_type": "execute_result"
    }
   ],
   "source": [
    "standardized_df = pd.DataFrame(data=standardized_values, columns=factors)\n",
    "print(standardized_df.shape)\n",
    "standardized_df.head()"
   ]
  },
  {
   "cell_type": "code",
   "execution_count": 7,
   "metadata": {},
   "outputs": [
    {
     "data": {
      "text/html": [
       "<div>\n",
       "<style scoped>\n",
       "    .dataframe tbody tr th:only-of-type {\n",
       "        vertical-align: middle;\n",
       "    }\n",
       "\n",
       "    .dataframe tbody tr th {\n",
       "        vertical-align: top;\n",
       "    }\n",
       "\n",
       "    .dataframe thead th {\n",
       "        text-align: right;\n",
       "    }\n",
       "</style>\n",
       "<table border=\"1\" class=\"dataframe\">\n",
       "  <thead>\n",
       "    <tr style=\"text-align: right;\">\n",
       "      <th></th>\n",
       "      <th>Mkt-RF</th>\n",
       "      <th>SMB</th>\n",
       "      <th>HML</th>\n",
       "      <th>Mom</th>\n",
       "    </tr>\n",
       "  </thead>\n",
       "  <tbody>\n",
       "    <tr>\n",
       "      <th>count</th>\n",
       "      <td>9.480000e+02</td>\n",
       "      <td>9.480000e+02</td>\n",
       "      <td>9.480000e+02</td>\n",
       "      <td>9.480000e+02</td>\n",
       "    </tr>\n",
       "    <tr>\n",
       "      <th>mean</th>\n",
       "      <td>-1.857691e-17</td>\n",
       "      <td>-3.416746e-17</td>\n",
       "      <td>-7.019408e-18</td>\n",
       "      <td>-3.004292e-17</td>\n",
       "    </tr>\n",
       "    <tr>\n",
       "      <th>std</th>\n",
       "      <td>1.000528e+00</td>\n",
       "      <td>1.000528e+00</td>\n",
       "      <td>1.000528e+00</td>\n",
       "      <td>1.000528e+00</td>\n",
       "    </tr>\n",
       "    <tr>\n",
       "      <th>min</th>\n",
       "      <td>-5.421565e+00</td>\n",
       "      <td>-4.992996e+00</td>\n",
       "      <td>-3.838163e+00</td>\n",
       "      <td>-1.094779e+01</td>\n",
       "    </tr>\n",
       "    <tr>\n",
       "      <th>25%</th>\n",
       "      <td>-5.139740e-01</td>\n",
       "      <td>-5.397839e-01</td>\n",
       "      <td>-4.738380e-01</td>\n",
       "      <td>-3.182818e-01</td>\n",
       "    </tr>\n",
       "    <tr>\n",
       "      <th>50%</th>\n",
       "      <td>5.869235e-02</td>\n",
       "      <td>-4.201519e-02</td>\n",
       "      <td>-4.429067e-02</td>\n",
       "      <td>3.958552e-02</td>\n",
       "    </tr>\n",
       "    <tr>\n",
       "      <th>75%</th>\n",
       "      <td>5.647377e-01</td>\n",
       "      <td>4.787503e-01</td>\n",
       "      <td>3.797141e-01</td>\n",
       "      <td>4.741387e-01</td>\n",
       "    </tr>\n",
       "    <tr>\n",
       "      <th>max</th>\n",
       "      <td>6.867718e+00</td>\n",
       "      <td>1.145192e+01</td>\n",
       "      <td>9.718903e+00</td>\n",
       "      <td>3.756719e+00</td>\n",
       "    </tr>\n",
       "  </tbody>\n",
       "</table>\n",
       "</div>"
      ],
      "text/plain": [
       "             Mkt-RF           SMB           HML           Mom\n",
       "count  9.480000e+02  9.480000e+02  9.480000e+02  9.480000e+02\n",
       "mean  -1.857691e-17 -3.416746e-17 -7.019408e-18 -3.004292e-17\n",
       "std    1.000528e+00  1.000528e+00  1.000528e+00  1.000528e+00\n",
       "min   -5.421565e+00 -4.992996e+00 -3.838163e+00 -1.094779e+01\n",
       "25%   -5.139740e-01 -5.397839e-01 -4.738380e-01 -3.182818e-01\n",
       "50%    5.869235e-02 -4.201519e-02 -4.429067e-02  3.958552e-02\n",
       "75%    5.647377e-01  4.787503e-01  3.797141e-01  4.741387e-01\n",
       "max    6.867718e+00  1.145192e+01  9.718903e+00  3.756719e+00"
      ]
     },
     "execution_count": 7,
     "metadata": {},
     "output_type": "execute_result"
    }
   ],
   "source": [
    "standardized_df.describe()"
   ]
  },
  {
   "cell_type": "markdown",
   "metadata": {},
   "source": [
    "Now after standardizing you can see that the means for each column are all basically 0 and the standard deviations are all basically 1.\n",
    "#### PCA Decomposition\n",
    "We want to see how many principle components account for 75% of the covariance matrix, so we will create an instance of the model with the arguement `0.75` so that we get enough principle components to account for at least 75% of the covariance matrix."
   ]
  },
  {
   "cell_type": "code",
   "execution_count": 8,
   "metadata": {},
   "outputs": [],
   "source": [
    "# Make an instance of the model\n",
    "pca = PCA(0.75)    # principal components that account for at least 75% of covariance matrix"
   ]
  },
  {
   "cell_type": "code",
   "execution_count": 9,
   "metadata": {},
   "outputs": [],
   "source": [
    "# Fit model\n",
    "principal_components = pca.fit_transform(X=standardized_values)    # fit the model with X and apply the dimensionality reduction on X"
   ]
  },
  {
   "cell_type": "code",
   "execution_count": 10,
   "metadata": {},
   "outputs": [
    {
     "name": "stdout",
     "output_type": "stream",
     "text": [
      "Eigenvalues:\n"
     ]
    },
    {
     "data": {
      "text/plain": [
       "array([1.78823759, 0.99714956, 0.65490974])"
      ]
     },
     "execution_count": 10,
     "metadata": {},
     "output_type": "execute_result"
    }
   ],
   "source": [
    "print('Eigenvalues:')\n",
    "pca.explained_variance_"
   ]
  },
  {
   "cell_type": "code",
   "execution_count": 11,
   "metadata": {},
   "outputs": [
    {
     "name": "stdout",
     "output_type": "stream",
     "text": [
      "Eigenvectors:\n"
     ]
    },
    {
     "data": {
      "text/plain": [
       "array([[ 0.54039306,  0.39954008,  0.48253342, -0.56169793],\n",
       "       [-0.31502278, -0.70031319,  0.54955068, -0.32911416],\n",
       "       [-0.6343146 ,  0.56671385,  0.48301441,  0.2077919 ]])"
      ]
     },
     "execution_count": 11,
     "metadata": {},
     "output_type": "execute_result"
    }
   ],
   "source": [
    "print('Eigenvectors:')\n",
    "pca.components_"
   ]
  },
  {
   "cell_type": "code",
   "execution_count": 12,
   "metadata": {},
   "outputs": [
    {
     "data": {
      "image/png": "[encoded data removed]",
      "text/plain": [
       "<Figure size 432x288 with 1 Axes>"
      ]
     },
     "metadata": {
      "needs_background": "light"
     },
     "output_type": "display_data"
    }
   ],
   "source": [
    "plt.plot(np.cumsum(pca.explained_variance_ratio_))\n",
    "plt.title('Variance Explained')\n",
    "plt.xlabel('# of Principle Components (minus 1)')\n",
    "plt.ylabel('Cumulative Explained Variance')\n",
    "plt.show()"
   ]
  },
  {
   "cell_type": "markdown",
   "metadata": {},
   "source": [
    "In the above plot we can see that 3 principle components are needed to retain at least 75% of the covariance matrix."
   ]
  },
  {
   "cell_type": "code",
   "execution_count": 13,
   "metadata": {},
   "outputs": [
    {
     "name": "stdout",
     "output_type": "stream",
     "text": [
      "3 principal components are needed to retain at least 75% of the covariance matrix.\n"
     ]
    }
   ],
   "source": [
    "num_components = pca.n_components_\n",
    "print(f'{num_components} principal components are needed to retain at least 75% of the covariance matrix.')"
   ]
  },
  {
   "cell_type": "code",
   "execution_count": 14,
   "metadata": {},
   "outputs": [
    {
     "data": {
      "text/plain": [
       "array([0.44658782, 0.24902443, 0.16355473])"
      ]
     },
     "execution_count": 14,
     "metadata": {},
     "output_type": "execute_result"
    }
   ],
   "source": [
    "pca.explained_variance_ratio_"
   ]
  },
  {
   "cell_type": "code",
   "execution_count": 15,
   "metadata": {},
   "outputs": [
    {
     "name": "stdout",
     "output_type": "stream",
     "text": [
      "Principal components 1 and 2 retain 69.56% of the covariance matrix.\n",
      "Principal components 1, 2, and 3 retain 85.92% of the covariance matrix.\n"
     ]
    }
   ],
   "source": [
    "pc1and2 = pca.explained_variance_ratio_[0] + pca.explained_variance_ratio_[1]\n",
    "pc1and2and3 = pc1and2 + pca.explained_variance_ratio_[2]\n",
    "print(f'Principal components 1 and 2 retain {pc1and2:.2%} of the covariance matrix.')\n",
    "print(f'Principal components 1, 2, and 3 retain {pc1and2and3:.2%} of the covariance matrix.')"
   ]
  },
  {
   "cell_type": "markdown",
   "metadata": {},
   "source": [
    "From the above, we can see that 3 principle components are needed to retain at least 75% of the covariance matrix. The first 2 principle components only account for 69.56% of the covariance matrix, but when the 3rd principle component is added all 3 combined account for 85.92% of the covariance matrix. \n",
    "\n",
    "**Therefore, we were able to reduce this four-factor time series down to 3 principal components while still retaining around 85% of the data.**\n",
    "\n",
    "Let's create a data frame of the principle components."
   ]
  },
  {
   "cell_type": "code",
   "execution_count": 16,
   "metadata": {},
   "outputs": [
    {
     "data": {
      "text/html": [
       "<div>\n",
       "<style scoped>\n",
       "    .dataframe tbody tr th:only-of-type {\n",
       "        vertical-align: middle;\n",
       "    }\n",
       "\n",
       "    .dataframe tbody tr th {\n",
       "        vertical-align: top;\n",
       "    }\n",
       "\n",
       "    .dataframe thead th {\n",
       "        text-align: right;\n",
       "    }\n",
       "</style>\n",
       "<table border=\"1\" class=\"dataframe\">\n",
       "  <thead>\n",
       "    <tr style=\"text-align: right;\">\n",
       "      <th></th>\n",
       "      <th>PC1</th>\n",
       "      <th>PC2</th>\n",
       "      <th>PC3</th>\n",
       "    </tr>\n",
       "  </thead>\n",
       "  <tbody>\n",
       "    <tr>\n",
       "      <th>0</th>\n",
       "      <td>0.511496</td>\n",
       "      <td>0.797448</td>\n",
       "      <td>0.588527</td>\n",
       "    </tr>\n",
       "    <tr>\n",
       "      <th>1</th>\n",
       "      <td>1.061258</td>\n",
       "      <td>0.401467</td>\n",
       "      <td>-0.122488</td>\n",
       "    </tr>\n",
       "    <tr>\n",
       "      <th>2</th>\n",
       "      <td>-0.912338</td>\n",
       "      <td>-0.148531</td>\n",
       "      <td>-0.583979</td>\n",
       "    </tr>\n",
       "    <tr>\n",
       "      <th>3</th>\n",
       "      <td>-0.383360</td>\n",
       "      <td>-0.167810</td>\n",
       "      <td>0.284552</td>\n",
       "    </tr>\n",
       "    <tr>\n",
       "      <th>4</th>\n",
       "      <td>0.600030</td>\n",
       "      <td>-0.087761</td>\n",
       "      <td>0.043838</td>\n",
       "    </tr>\n",
       "  </tbody>\n",
       "</table>\n",
       "</div>"
      ],
      "text/plain": [
       "        PC1       PC2       PC3\n",
       "0  0.511496  0.797448  0.588527\n",
       "1  1.061258  0.401467 -0.122488\n",
       "2 -0.912338 -0.148531 -0.583979\n",
       "3 -0.383360 -0.167810  0.284552\n",
       "4  0.600030 -0.087761  0.043838"
      ]
     },
     "execution_count": 16,
     "metadata": {},
     "output_type": "execute_result"
    }
   ],
   "source": [
    "pca_df = pd.DataFrame(data=principal_components, columns=['PC1', 'PC2', 'PC3'])\n",
    "pca_df.head()"
   ]
  },
  {
   "cell_type": "code",
   "execution_count": 17,
   "metadata": {},
   "outputs": [
    {
     "data": {
      "text/html": [
       "<div>\n",
       "<style scoped>\n",
       "    .dataframe tbody tr th:only-of-type {\n",
       "        vertical-align: middle;\n",
       "    }\n",
       "\n",
       "    .dataframe tbody tr th {\n",
       "        vertical-align: top;\n",
       "    }\n",
       "\n",
       "    .dataframe thead th {\n",
       "        text-align: right;\n",
       "    }\n",
       "</style>\n",
       "<table border=\"1\" class=\"dataframe\">\n",
       "  <thead>\n",
       "    <tr style=\"text-align: right;\">\n",
       "      <th></th>\n",
       "      <th>PC1</th>\n",
       "      <th>PC2</th>\n",
       "      <th>PC3</th>\n",
       "    </tr>\n",
       "  </thead>\n",
       "  <tbody>\n",
       "    <tr>\n",
       "      <th>count</th>\n",
       "      <td>9.480000e+02</td>\n",
       "      <td>9.480000e+02</td>\n",
       "      <td>9.480000e+02</td>\n",
       "    </tr>\n",
       "    <tr>\n",
       "      <th>mean</th>\n",
       "      <td>-1.493180e-18</td>\n",
       "      <td>8.197849e-19</td>\n",
       "      <td>-1.178441e-17</td>\n",
       "    </tr>\n",
       "    <tr>\n",
       "      <th>std</th>\n",
       "      <td>1.337250e+00</td>\n",
       "      <td>9.985738e-01</td>\n",
       "      <td>8.092649e-01</td>\n",
       "    </tr>\n",
       "    <tr>\n",
       "      <th>min</th>\n",
       "      <td>-5.294508e+00</td>\n",
       "      <td>-7.840881e+00</td>\n",
       "      <td>-3.832091e+00</td>\n",
       "    </tr>\n",
       "    <tr>\n",
       "      <th>25%</th>\n",
       "      <td>-4.985448e-01</td>\n",
       "      <td>-4.654892e-01</td>\n",
       "      <td>-4.647768e-01</td>\n",
       "    </tr>\n",
       "    <tr>\n",
       "      <th>50%</th>\n",
       "      <td>-6.696247e-02</td>\n",
       "      <td>2.633705e-03</td>\n",
       "      <td>-3.619317e-02</td>\n",
       "    </tr>\n",
       "    <tr>\n",
       "      <th>75%</th>\n",
       "      <td>3.867090e-01</td>\n",
       "      <td>4.471273e-01</td>\n",
       "      <td>4.018122e-01</td>\n",
       "    </tr>\n",
       "    <tr>\n",
       "      <th>max</th>\n",
       "      <td>1.558531e+01</td>\n",
       "      <td>7.924006e+00</td>\n",
       "      <td>5.778978e+00</td>\n",
       "    </tr>\n",
       "  </tbody>\n",
       "</table>\n",
       "</div>"
      ],
      "text/plain": [
       "                PC1           PC2           PC3\n",
       "count  9.480000e+02  9.480000e+02  9.480000e+02\n",
       "mean  -1.493180e-18  8.197849e-19 -1.178441e-17\n",
       "std    1.337250e+00  9.985738e-01  8.092649e-01\n",
       "min   -5.294508e+00 -7.840881e+00 -3.832091e+00\n",
       "25%   -4.985448e-01 -4.654892e-01 -4.647768e-01\n",
       "50%   -6.696247e-02  2.633705e-03 -3.619317e-02\n",
       "75%    3.867090e-01  4.471273e-01  4.018122e-01\n",
       "max    1.558531e+01  7.924006e+00  5.778978e+00"
      ]
     },
     "execution_count": 17,
     "metadata": {},
     "output_type": "execute_result"
    }
   ],
   "source": [
    "pca_df.describe()"
   ]
  },
  {
   "cell_type": "code",
   "execution_count": 18,
   "metadata": {},
   "outputs": [
    {
     "data": {
      "text/html": [
       "<div>\n",
       "<style scoped>\n",
       "    .dataframe tbody tr th:only-of-type {\n",
       "        vertical-align: middle;\n",
       "    }\n",
       "\n",
       "    .dataframe tbody tr th {\n",
       "        vertical-align: top;\n",
       "    }\n",
       "\n",
       "    .dataframe thead th {\n",
       "        text-align: right;\n",
       "    }\n",
       "</style>\n",
       "<table border=\"1\" class=\"dataframe\">\n",
       "  <thead>\n",
       "    <tr style=\"text-align: right;\">\n",
       "      <th></th>\n",
       "      <th>Mkt-RF</th>\n",
       "      <th>SMB</th>\n",
       "      <th>HML</th>\n",
       "      <th>Mom</th>\n",
       "    </tr>\n",
       "  </thead>\n",
       "  <tbody>\n",
       "    <tr>\n",
       "      <th>0</th>\n",
       "      <td>0.540393</td>\n",
       "      <td>0.399540</td>\n",
       "      <td>0.482533</td>\n",
       "      <td>-0.561698</td>\n",
       "    </tr>\n",
       "    <tr>\n",
       "      <th>1</th>\n",
       "      <td>-0.315023</td>\n",
       "      <td>-0.700313</td>\n",
       "      <td>0.549551</td>\n",
       "      <td>-0.329114</td>\n",
       "    </tr>\n",
       "    <tr>\n",
       "      <th>2</th>\n",
       "      <td>-0.634315</td>\n",
       "      <td>0.566714</td>\n",
       "      <td>0.483014</td>\n",
       "      <td>0.207792</td>\n",
       "    </tr>\n",
       "  </tbody>\n",
       "</table>\n",
       "</div>"
      ],
      "text/plain": [
       "     Mkt-RF       SMB       HML       Mom\n",
       "0  0.540393  0.399540  0.482533 -0.561698\n",
       "1 -0.315023 -0.700313  0.549551 -0.329114\n",
       "2 -0.634315  0.566714  0.483014  0.207792"
      ]
     },
     "execution_count": 18,
     "metadata": {},
     "output_type": "execute_result"
    }
   ],
   "source": [
    "my_df = pd.DataFrame(pca.components_, columns=factors)\n",
    "my_df"
   ]
  },
  {
   "cell_type": "markdown",
   "metadata": {},
   "source": [
    "The above data frame has the 3 principle components for each row with their corresponding eigenvectors. Each value in each eigen vector maps to a factor.\n",
    "\n",
    "Let's now find the most important factor of each principle component by figuring out which factors are contributing most to each principle component."
   ]
  },
  {
   "cell_type": "code",
   "execution_count": 19,
   "metadata": {},
   "outputs": [
    {
     "name": "stdout",
     "output_type": "stream",
     "text": [
      "['Mom', 'SMB', 'Mkt-RF']\n"
     ]
    }
   ],
   "source": [
    "# get the index of the most important factor on EACH component\n",
    "most_important = [np.abs(pca.components_[i]).argmax() for i in range(num_components)]\n",
    "\n",
    "# get the most important factor names\n",
    "most_important_names = [factors[most_important[i]] for i in range(num_components)]\n",
    "print(most_important_names)"
   ]
  },
  {
   "cell_type": "markdown",
   "metadata": {},
   "source": [
    "**From the above, we can see that in the first principal component, Momentum is the most important (and therefore the most important factor). Next is SMB, and third is Mkt-RF.**"
   ]
  },
  {
   "cell_type": "markdown",
   "metadata": {},
   "source": [
    "### Part 2\n",
    "Plot the principal components PC1, PC2.  "
   ]
  },
  {
   "cell_type": "code",
   "execution_count": 20,
   "metadata": {},
   "outputs": [
    {
     "data": {
      "image/png": "[encoded data removed]",
      "text/plain": [
       "<Figure size 1008x576 with 2 Axes>"
      ]
     },
     "metadata": {
      "needs_background": "light"
     },
     "output_type": "display_data"
    }
   ],
   "source": [
    "plt.figure(figsize=(14,8))\n",
    "\n",
    "plt.subplot(2,1,1)\n",
    "plt.plot(pca_df.PC1)\n",
    "plt.title('Principle Component 1', fontsize=16)\n",
    "plt.ylabel('Returns')\n",
    "\n",
    "plt.subplot(2,1,2)\n",
    "plt.plot(pca_df.PC2)\n",
    "plt.title('Principle Component 2', fontsize=16)\n",
    "plt.xlabel('Day #')\n",
    "plt.ylabel('Returns')\n",
    "\n",
    "plt.show()"
   ]
  },
  {
   "cell_type": "code",
   "execution_count": 21,
   "metadata": {},
   "outputs": [
    {
     "data": {
      "image/png": "[encoded data removed]",
      "text/plain": [
       "<Figure size 1008x432 with 1 Axes>"
      ]
     },
     "metadata": {
      "needs_background": "light"
     },
     "output_type": "display_data"
    }
   ],
   "source": [
    "plt.figure(figsize=(14,6))\n",
    "\n",
    "plt.plot(pca_df.PC1, label='PC1')\n",
    "plt.title('Principle Components 1 and 2', fontsize=16)\n",
    "plt.plot(pca_df.PC2, label='PC2')\n",
    "plt.legend(loc=4)\n",
    "plt.xlabel('Day #')\n",
    "plt.ylabel('Returns')\n",
    "\n",
    "plt.show()"
   ]
  }
 ],
 "metadata": {
  "kernelspec": {
   "display_name": "Python 3",
   "language": "python",
   "name": "python3"
  },
  "language_info": {
   "codemirror_mode": {
    "name": "ipython",
    "version": 3
   },
   "file_extension": ".py",
   "mimetype": "text/x-python",
   "name": "python",
   "nbconvert_exporter": "python",
   "pygments_lexer": "ipython3",
   "version": "3.8.5"
  }
 },
 "nbformat": 4,
 "nbformat_minor": 4
}
