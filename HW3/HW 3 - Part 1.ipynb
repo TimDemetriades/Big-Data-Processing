{
 "cells": [
  {
   "cell_type": "markdown",
   "metadata": {},
   "source": [
    "# HW 3 Part 1 - Tim Demetriades\n",
    "## Understanding the ROC Curve\n",
    "March 5th, 2021"
   ]
  },
  {
   "cell_type": "code",
   "execution_count": 1,
   "metadata": {},
   "outputs": [],
   "source": [
    "import pandas as pd\n",
    "import numpy as np\n",
    "import matplotlib.pyplot as plt"
   ]
  },
  {
   "cell_type": "markdown",
   "metadata": {},
   "source": [
    "I calculated the below ROC curve manually, but I could have also used the logistic regression model from sklearn.linear_model."
   ]
  },
  {
   "cell_type": "code",
   "execution_count": 2,
   "metadata": {
    "scrolled": true
   },
   "outputs": [
    {
     "name": "stdout",
     "output_type": "stream",
     "text": [
      "AUC = 0.6875\n"
     ]
    },
    {
     "data": {
      "image/png": "[encoded data removed]",
      "text/plain": [
       "<Figure size 432x288 with 1 Axes>"
      ]
     },
     "metadata": {
      "needs_background": "light"
     },
     "output_type": "display_data"
    }
   ],
   "source": [
    "probabilities = np.array([0.967, 0.448, 0.568, 0.879, 0.015, 0.780, 0.978, 0.004])\n",
    "classifications = np.array([1, 0, 1, 0, 1, 0, 1, 0])\n",
    "\n",
    "# False positive rate \n",
    "fpr = []\n",
    "# True positive rate\n",
    "tpr = []\n",
    "\n",
    "# Iterate thresholds from 0.0, 0.01, ..., 1.0\n",
    "thresholds = np.arange(0.0, 1.01, .01)\n",
    "\n",
    "# Get number of positive and negative examples in the dataset\n",
    "p = sum(classifications)         # 4 positives here (1s)\n",
    "n = len(classifications) - p     # 4 negatives here (0s)\n",
    "\n",
    "# Iterate through all thresholds and determine fraction of true positives\n",
    "# and false positives found at each threshold\n",
    "for thresh in thresholds:\n",
    "    fp = 0\n",
    "    tp = 0\n",
    "    for i in range(len(probabilities)):\n",
    "        # Check if we're over current threshold and check if this is true or false\n",
    "        if (probabilities[i] > thresh):    \n",
    "            if classifications[i] == 1:    # true\n",
    "                tp += 1\n",
    "            if classifications[i] == 0:    # false\n",
    "                fp += 1\n",
    "    fpr.append(fp / float(n))\n",
    "    tpr.append(tp / float(p))\n",
    "    \n",
    "# Calculate area under the curve (AUC)\n",
    "auc = -(np.trapz(tpr, fpr))    # integrate roc curve with trapz\n",
    "print('AUC =', auc)\n",
    "\n",
    "# For drawing a diagonal line y=x for reference\n",
    "x = [0, 1]\n",
    "y = [0, 1]\n",
    "\n",
    "# Plot graph\n",
    "plt.plot(fpr, tpr, marker = 'o', label='HW3 Part1, AUC='+str(auc))\n",
    "plt.legend(loc=4)\n",
    "plt.plot(x, y)\n",
    "\n",
    "plt.title(\"ROC Curve\")\n",
    "plt.xlabel(\"False Positive\")\n",
    "plt.ylabel(\"True Positive\")\n",
    "\n",
    "plt.show()"
   ]
  }
 ],
 "metadata": {
  "kernelspec": {
   "display_name": "Python 3",
   "language": "python",
   "name": "python3"
  },
  "language_info": {
   "codemirror_mode": {
    "name": "ipython",
    "version": 3
   },
   "file_extension": ".py",
   "mimetype": "text/x-python",
   "name": "python",
   "nbconvert_exporter": "python",
   "pygments_lexer": "ipython3",
   "version": "3.7.6"
  }
 },
 "nbformat": 4,
 "nbformat_minor": 4
}
