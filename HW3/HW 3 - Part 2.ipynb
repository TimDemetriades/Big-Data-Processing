{
 "cells": [
  {
   "cell_type": "markdown",
   "metadata": {},
   "source": [
    "# HW 3 Part 2 - Tim Demetriades\n",
    "## Understanding the Logistic Regression Approach\n",
    "March 5th, 2021"
   ]
  },
  {
   "cell_type": "markdown",
   "metadata": {},
   "source": [
    "### Task 1"
   ]
  },
  {
   "cell_type": "code",
   "execution_count": 1,
   "metadata": {},
   "outputs": [],
   "source": [
    "import pandas as pd                 # for dataframes\n",
    "import numpy as np                  # for arrays \n",
    "import matplotlib.pyplot as plt     # for plots\n",
    "from sklearn import metrics         # for regression/roc\n",
    "from sklearn.linear_model import LogisticRegression    # for regression model"
   ]
  },
  {
   "cell_type": "code",
   "execution_count": 2,
   "metadata": {
    "scrolled": false
   },
   "outputs": [
    {
     "data": {
      "text/html": [
       "<div>\n",
       "<style scoped>\n",
       "    .dataframe tbody tr th:only-of-type {\n",
       "        vertical-align: middle;\n",
       "    }\n",
       "\n",
       "    .dataframe tbody tr th {\n",
       "        vertical-align: top;\n",
       "    }\n",
       "\n",
       "    .dataframe thead th {\n",
       "        text-align: right;\n",
       "    }\n",
       "</style>\n",
       "<table border=\"1\" class=\"dataframe\">\n",
       "  <thead>\n",
       "    <tr style=\"text-align: right;\">\n",
       "      <th></th>\n",
       "      <th>0</th>\n",
       "      <th>1</th>\n",
       "      <th>2</th>\n",
       "      <th>3</th>\n",
       "      <th>4</th>\n",
       "      <th>5</th>\n",
       "      <th>6</th>\n",
       "      <th>7</th>\n",
       "      <th>8</th>\n",
       "      <th>9</th>\n",
       "      <th>...</th>\n",
       "      <th>467</th>\n",
       "      <th>468</th>\n",
       "      <th>469</th>\n",
       "      <th>470</th>\n",
       "      <th>471</th>\n",
       "      <th>472</th>\n",
       "      <th>473</th>\n",
       "      <th>474</th>\n",
       "      <th>475</th>\n",
       "      <th>476</th>\n",
       "    </tr>\n",
       "  </thead>\n",
       "  <tbody>\n",
       "    <tr>\n",
       "      <th>0</th>\n",
       "      <td>5.5986</td>\n",
       "      <td>5.5986</td>\n",
       "      <td>5.5340</td>\n",
       "      <td>5.5340</td>\n",
       "      <td>289.37</td>\n",
       "      <td>289.82</td>\n",
       "      <td>289.30</td>\n",
       "      <td>289.66</td>\n",
       "      <td>289.37</td>\n",
       "      <td>289.82</td>\n",
       "      <td>...</td>\n",
       "      <td>21.206</td>\n",
       "      <td>41.042</td>\n",
       "      <td>42.338</td>\n",
       "      <td>41.042</td>\n",
       "      <td>42.108</td>\n",
       "      <td>2.1330</td>\n",
       "      <td>2.1744</td>\n",
       "      <td>2.1175</td>\n",
       "      <td>2.1175</td>\n",
       "      <td>1</td>\n",
       "    </tr>\n",
       "    <tr>\n",
       "      <th>1</th>\n",
       "      <td>5.5340</td>\n",
       "      <td>5.5521</td>\n",
       "      <td>5.5108</td>\n",
       "      <td>5.5185</td>\n",
       "      <td>289.64</td>\n",
       "      <td>289.89</td>\n",
       "      <td>289.63</td>\n",
       "      <td>289.76</td>\n",
       "      <td>289.64</td>\n",
       "      <td>289.89</td>\n",
       "      <td>...</td>\n",
       "      <td>21.258</td>\n",
       "      <td>42.108</td>\n",
       "      <td>42.108</td>\n",
       "      <td>41.881</td>\n",
       "      <td>42.033</td>\n",
       "      <td>2.1175</td>\n",
       "      <td>2.1227</td>\n",
       "      <td>2.1175</td>\n",
       "      <td>2.1175</td>\n",
       "      <td>1</td>\n",
       "    </tr>\n",
       "    <tr>\n",
       "      <th>2</th>\n",
       "      <td>5.5185</td>\n",
       "      <td>5.5185</td>\n",
       "      <td>5.4566</td>\n",
       "      <td>5.4772</td>\n",
       "      <td>289.86</td>\n",
       "      <td>290.07</td>\n",
       "      <td>289.65</td>\n",
       "      <td>289.93</td>\n",
       "      <td>289.86</td>\n",
       "      <td>290.07</td>\n",
       "      <td>...</td>\n",
       "      <td>21.268</td>\n",
       "      <td>42.033</td>\n",
       "      <td>42.261</td>\n",
       "      <td>41.804</td>\n",
       "      <td>41.881</td>\n",
       "      <td>2.1227</td>\n",
       "      <td>2.1227</td>\n",
       "      <td>2.1124</td>\n",
       "      <td>2.1124</td>\n",
       "      <td>1</td>\n",
       "    </tr>\n",
       "    <tr>\n",
       "      <th>3</th>\n",
       "      <td>5.4772</td>\n",
       "      <td>5.4772</td>\n",
       "      <td>5.3894</td>\n",
       "      <td>5.3894</td>\n",
       "      <td>289.93</td>\n",
       "      <td>290.13</td>\n",
       "      <td>289.63</td>\n",
       "      <td>289.86</td>\n",
       "      <td>289.93</td>\n",
       "      <td>290.13</td>\n",
       "      <td>...</td>\n",
       "      <td>21.310</td>\n",
       "      <td>42.033</td>\n",
       "      <td>42.186</td>\n",
       "      <td>42.033</td>\n",
       "      <td>42.108</td>\n",
       "      <td>2.1227</td>\n",
       "      <td>2.1227</td>\n",
       "      <td>2.0995</td>\n",
       "      <td>2.0995</td>\n",
       "      <td>1</td>\n",
       "    </tr>\n",
       "    <tr>\n",
       "      <th>4</th>\n",
       "      <td>5.3894</td>\n",
       "      <td>5.4152</td>\n",
       "      <td>5.3868</td>\n",
       "      <td>5.4152</td>\n",
       "      <td>289.85</td>\n",
       "      <td>290.03</td>\n",
       "      <td>289.45</td>\n",
       "      <td>289.51</td>\n",
       "      <td>289.85</td>\n",
       "      <td>290.03</td>\n",
       "      <td>...</td>\n",
       "      <td>21.310</td>\n",
       "      <td>42.108</td>\n",
       "      <td>42.186</td>\n",
       "      <td>42.033</td>\n",
       "      <td>42.108</td>\n",
       "      <td>2.0995</td>\n",
       "      <td>2.0995</td>\n",
       "      <td>2.0943</td>\n",
       "      <td>2.0995</td>\n",
       "      <td>0</td>\n",
       "    </tr>\n",
       "  </tbody>\n",
       "</table>\n",
       "<p>5 rows × 477 columns</p>\n",
       "</div>"
      ],
      "text/plain": [
       "      0       1       2       3       4       5       6       7       8    \\\n",
       "0  5.5986  5.5986  5.5340  5.5340  289.37  289.82  289.30  289.66  289.37   \n",
       "1  5.5340  5.5521  5.5108  5.5185  289.64  289.89  289.63  289.76  289.64   \n",
       "2  5.5185  5.5185  5.4566  5.4772  289.86  290.07  289.65  289.93  289.86   \n",
       "3  5.4772  5.4772  5.3894  5.3894  289.93  290.13  289.63  289.86  289.93   \n",
       "4  5.3894  5.4152  5.3868  5.4152  289.85  290.03  289.45  289.51  289.85   \n",
       "\n",
       "      9    ...     467     468     469     470     471     472     473  \\\n",
       "0  289.82  ...  21.206  41.042  42.338  41.042  42.108  2.1330  2.1744   \n",
       "1  289.89  ...  21.258  42.108  42.108  41.881  42.033  2.1175  2.1227   \n",
       "2  290.07  ...  21.268  42.033  42.261  41.804  41.881  2.1227  2.1227   \n",
       "3  290.13  ...  21.310  42.033  42.186  42.033  42.108  2.1227  2.1227   \n",
       "4  290.03  ...  21.310  42.108  42.186  42.033  42.108  2.0995  2.0995   \n",
       "\n",
       "      474     475  476  \n",
       "0  2.1175  2.1175    1  \n",
       "1  2.1175  2.1175    1  \n",
       "2  2.1124  2.1124    1  \n",
       "3  2.0995  2.0995    1  \n",
       "4  2.0943  2.0995    0  \n",
       "\n",
       "[5 rows x 477 columns]"
      ]
     },
     "execution_count": 2,
     "metadata": {},
     "output_type": "execute_result"
    }
   ],
   "source": [
    "# Read data\n",
    "df = pd.read_csv('EE627A_HW3_DataSet1.csv', header=None)\n",
    "# Display first 5 values\n",
    "df.head()"
   ]
  },
  {
   "cell_type": "code",
   "execution_count": 3,
   "metadata": {},
   "outputs": [],
   "source": [
    "# Split data by predictor and response\n",
    "predictor = df.iloc[:, 0:476]    # all rows and all columns except the last\n",
    "response = df[476]               # just the last column (the 1s and 0s)"
   ]
  },
  {
   "cell_type": "code",
   "execution_count": 4,
   "metadata": {},
   "outputs": [],
   "source": [
    "# Instantiate (create an instance of) the model (using the default parameters)\n",
    "logreg = LogisticRegression(solver='liblinear', C=10.0, random_state=0)\n",
    "# Fit the model with the data\n",
    "logreg.fit(predictor, response)\n",
    "# Predict the probability\n",
    "y_pred_prob = logreg.predict_proba(predictor)[::, 1]    # this holds the probabilites for each row"
   ]
  },
  {
   "cell_type": "code",
   "execution_count": 5,
   "metadata": {
    "scrolled": true
   },
   "outputs": [
    {
     "data": {
      "image/png": "[encoded data removed]",
      "text/plain": [
       "<Figure size 432x288 with 1 Axes>"
      ]
     },
     "metadata": {
      "needs_background": "light"
     },
     "output_type": "display_data"
    }
   ],
   "source": [
    "fpr, tpr, _ = metrics.roc_curve(response, y_pred_prob)\n",
    "auc = metrics.roc_auc_score(response, y_pred_prob)\n",
    "plt.plot(fpr, tpr, label='HW3 Part2 Task1, AUC='+str(auc))\n",
    "plt.legend(loc=4)\n",
    "\n",
    "# For drawing a diagonal line y=x for reference\n",
    "x = [0, 1]\n",
    "y = [0, 1]\n",
    "plt.plot(x, y)\n",
    "\n",
    "plt.title(\"ROC Curve\")\n",
    "plt.xlabel(\"False Positive\")\n",
    "plt.ylabel(\"True Positive\")\n",
    "\n",
    "plt.show()"
   ]
  },
  {
   "cell_type": "markdown",
   "metadata": {},
   "source": [
    "### Task 2"
   ]
  },
  {
   "cell_type": "code",
   "execution_count": 6,
   "metadata": {
    "scrolled": true
   },
   "outputs": [],
   "source": [
    "predictor_train = df.iloc[0:3000, 0:476]    # first 3000 rows and all columns except last\n",
    "predictor_test = df.iloc[3000:, 0:476]      # last 3000 rows and all columns except last\n",
    "response_train = df.iloc[0:3000, 476]       # first 3000 rows and last column\n",
    "response_test = df.iloc[3000:, 476]         # last 3000 rows and last column"
   ]
  },
  {
   "cell_type": "code",
   "execution_count": 7,
   "metadata": {},
   "outputs": [],
   "source": [
    "# Instantiate (create an instance of) the model (using the default parameters)\n",
    "logreg_train = LogisticRegression(solver='liblinear', C=10.0, random_state=0)\n",
    "# Fit the model with the data\n",
    "logreg_train.fit(predictor_train, response_train)\n",
    "# Predict the probability\n",
    "y_pred_prob_train = logreg_train.predict_proba(predictor_train)[::, 1]    # this holds the probabilites for each training row\n",
    "y_pred_prob_test = logreg_train.predict_proba(predictor_test)[::, 1]      # using same model get probabilities for each test row"
   ]
  },
  {
   "cell_type": "code",
   "execution_count": 8,
   "metadata": {
    "scrolled": false
   },
   "outputs": [
    {
     "data": {
      "image/png": "[encoded data removed]",
      "text/plain": [
       "<Figure size 432x288 with 1 Axes>"
      ]
     },
     "metadata": {
      "needs_background": "light"
     },
     "output_type": "display_data"
    }
   ],
   "source": [
    "fpr_train, tpr_train, _ = metrics.roc_curve(response_train, y_pred_prob_train)\n",
    "fpr_test, tpr_test, _ = metrics.roc_curve(response_test, y_pred_prob_test)\n",
    "auc_train = round(metrics.roc_auc_score(response_train, y_pred_prob_train), 3)\n",
    "auc_test = round(metrics.roc_auc_score(response_test, y_pred_prob_test), 3)\n",
    "plt.plot(fpr_train, tpr_train, label='HW3 Part2 Task2 - Train, AUC='+str(auc_train))\n",
    "plt.plot(fpr_test, tpr_test, label='HW3 Part2 Task2 - Test, AUC='+str(auc_test))\n",
    "plt.legend(loc=4)\n",
    "\n",
    "# For drawing a diagonal line y=x for reference\n",
    "x = [0, 1]\n",
    "y = [0, 1]\n",
    "plt.plot(x, y)\n",
    "\n",
    "plt.title(\"ROC Curve\")\n",
    "plt.xlabel(\"False Positive\")\n",
    "plt.ylabel(\"True Positive\")\n",
    "\n",
    "plt.show()"
   ]
  },
  {
   "cell_type": "code",
   "execution_count": 9,
   "metadata": {
    "scrolled": true
   },
   "outputs": [
    {
     "name": "stdout",
     "output_type": "stream",
     "text": [
      "Difference is auc values is 0.428\n"
     ]
    }
   ],
   "source": [
    "auc_dif = auc_train - auc_test\n",
    "print(f'Difference is auc values is {round(auc_dif, 3)}')"
   ]
  },
  {
   "cell_type": "markdown",
   "metadata": {},
   "source": [
    "From the above, we can see that this model is not very good, as the difference in AUC is quite large and the ROC graph for the test data is mostly under the y=x reference line. "
   ]
  }
 ],
 "metadata": {
  "kernelspec": {
   "display_name": "Python 3",
   "language": "python",
   "name": "python3"
  },
  "language_info": {
   "codemirror_mode": {
    "name": "ipython",
    "version": 3
   },
   "file_extension": ".py",
   "mimetype": "text/x-python",
   "name": "python",
   "nbconvert_exporter": "python",
   "pygments_lexer": "ipython3",
   "version": "3.7.6"
  }
 },
 "nbformat": 4,
 "nbformat_minor": 4
}
