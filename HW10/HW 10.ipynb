{
 "cells": [
  {
   "cell_type": "markdown",
   "metadata": {},
   "source": [
    "# HW 10 - Tim Demetriades\n",
    "## Ensemble Modeling\n",
    "5/1/2021\n",
    "\n",
    "**Team - LetsGo! - Tim Demetriades and Alex Ibanez**\n",
    "\n",
    "First we import the needed modules."
   ]
  },
  {
   "cell_type": "code",
   "execution_count": 1,
   "metadata": {},
   "outputs": [],
   "source": [
    "import pandas as pd\n",
    "import numpy as np"
   ]
  },
  {
   "cell_type": "markdown",
   "metadata": {},
   "source": [
    "The below list is a list of file names. Each is a csv file that is 120,000 lines long that contains the results that we submitted to Kaggle. They are in the format:\n",
    "- `TrackID` - UserID and TrackID separated by an underscore\n",
    "- `Predictor` - Prediction of either 0 if user will not like the song or 1 if user will like the song.\n",
    "\n",
    "Each file name has the Kaggle score appended at the end."
   ]
  },
  {
   "cell_type": "code",
   "execution_count": 2,
   "metadata": {},
   "outputs": [],
   "source": [
    "list_of_results = ['MatrixFactorization_077897','PredictionsAlgorithm_Alex_084550',\n",
    "                   'PredictionsAlgorithm_Tim_084711','Spark_GBT_084444',\n",
    "                   'Spark_LR_086749','Spark_RF_082444',\n",
    "                   'Ensemble_Predictions_Random_077897', 'pyspark_predictions_055980',\n",
    "                   'pyspark_predictions_071049', 'Spark_LR_Tim_084494',\n",
    "                   'Spark_GBT_Tim_084499']"
   ]
  },
  {
   "cell_type": "markdown",
   "metadata": {},
   "source": [
    "Initialize some variables."
   ]
  },
  {
   "cell_type": "code",
   "execution_count": 3,
   "metadata": {},
   "outputs": [],
   "source": [
    "scores = []\n",
    "solutions_df = []\n",
    "index_prediction = 0"
   ]
  },
  {
   "cell_type": "markdown",
   "metadata": {},
   "source": [
    "We have a for loop to create the Solutions DF. This DF will be 120,000 rows long and contain a column that corresponds to the TrackID column of each. Each additional column will be the Predictor column from each result file."
   ]
  },
  {
   "cell_type": "code",
   "execution_count": 4,
   "metadata": {},
   "outputs": [],
   "source": [
    "for result in list_of_results:    # loop through result files\n",
    "    columns = ['TrackID', 'Predictor' + str(index_prediction)]    # append index at end of 'Predictor' column name\n",
    "    file_name = 'Data/' + result + '.csv'\n",
    "    new_result = pd.read_csv(file_name, names=columns, dtype={1:np.int64}, header=0)    # create temp df of current result file\n",
    "    \n",
    "    try:\n",
    "        # Join the new predicton with the solutions_df\n",
    "        solutions_df = solutions_df.join(new_result.set_index('TrackID'), on='TrackID')\n",
    "    except:\n",
    "        # If it's the first prediction, create the df\n",
    "        solutions_df = pd.read_csv(file_name)\n",
    "    \n",
    "    # Generate a list with the scores for each prediction\n",
    "    scores.append(float(result[-6:]) / (10 ** 5))    # turn score into decimal value (between 0 and 1)\n",
    "    index_prediction += 1    # increment index"
   ]
  },
  {
   "cell_type": "code",
   "execution_count": 5,
   "metadata": {},
   "outputs": [
    {
     "data": {
      "text/html": [
       "<div>\n",
       "<style scoped>\n",
       "    .dataframe tbody tr th:only-of-type {\n",
       "        vertical-align: middle;\n",
       "    }\n",
       "\n",
       "    .dataframe tbody tr th {\n",
       "        vertical-align: top;\n",
       "    }\n",
       "\n",
       "    .dataframe thead th {\n",
       "        text-align: right;\n",
       "    }\n",
       "</style>\n",
       "<table border=\"1\" class=\"dataframe\">\n",
       "  <thead>\n",
       "    <tr style=\"text-align: right;\">\n",
       "      <th></th>\n",
       "      <th>TrackID</th>\n",
       "      <th>Predictor</th>\n",
       "      <th>Predictor1</th>\n",
       "      <th>Predictor2</th>\n",
       "      <th>Predictor3</th>\n",
       "      <th>Predictor4</th>\n",
       "      <th>Predictor5</th>\n",
       "      <th>Predictor6</th>\n",
       "      <th>Predictor7</th>\n",
       "      <th>Predictor8</th>\n",
       "      <th>Predictor9</th>\n",
       "      <th>Predictor10</th>\n",
       "    </tr>\n",
       "  </thead>\n",
       "  <tbody>\n",
       "    <tr>\n",
       "      <th>0</th>\n",
       "      <td>199810_105760</td>\n",
       "      <td>1</td>\n",
       "      <td>1</td>\n",
       "      <td>1</td>\n",
       "      <td>1</td>\n",
       "      <td>1</td>\n",
       "      <td>1</td>\n",
       "      <td>1</td>\n",
       "      <td>0</td>\n",
       "      <td>1</td>\n",
       "      <td>1</td>\n",
       "      <td>1</td>\n",
       "    </tr>\n",
       "    <tr>\n",
       "      <th>1</th>\n",
       "      <td>199810_18515</td>\n",
       "      <td>1</td>\n",
       "      <td>1</td>\n",
       "      <td>1</td>\n",
       "      <td>1</td>\n",
       "      <td>1</td>\n",
       "      <td>1</td>\n",
       "      <td>1</td>\n",
       "      <td>1</td>\n",
       "      <td>0</td>\n",
       "      <td>1</td>\n",
       "      <td>1</td>\n",
       "    </tr>\n",
       "    <tr>\n",
       "      <th>2</th>\n",
       "      <td>199810_208019</td>\n",
       "      <td>1</td>\n",
       "      <td>0</td>\n",
       "      <td>1</td>\n",
       "      <td>0</td>\n",
       "      <td>0</td>\n",
       "      <td>0</td>\n",
       "      <td>1</td>\n",
       "      <td>1</td>\n",
       "      <td>1</td>\n",
       "      <td>0</td>\n",
       "      <td>0</td>\n",
       "    </tr>\n",
       "    <tr>\n",
       "      <th>3</th>\n",
       "      <td>199810_242681</td>\n",
       "      <td>0</td>\n",
       "      <td>0</td>\n",
       "      <td>0</td>\n",
       "      <td>1</td>\n",
       "      <td>0</td>\n",
       "      <td>1</td>\n",
       "      <td>0</td>\n",
       "      <td>0</td>\n",
       "      <td>0</td>\n",
       "      <td>1</td>\n",
       "      <td>1</td>\n",
       "    </tr>\n",
       "    <tr>\n",
       "      <th>4</th>\n",
       "      <td>199810_74139</td>\n",
       "      <td>0</td>\n",
       "      <td>1</td>\n",
       "      <td>0</td>\n",
       "      <td>0</td>\n",
       "      <td>1</td>\n",
       "      <td>0</td>\n",
       "      <td>0</td>\n",
       "      <td>0</td>\n",
       "      <td>1</td>\n",
       "      <td>0</td>\n",
       "      <td>0</td>\n",
       "    </tr>\n",
       "    <tr>\n",
       "      <th>...</th>\n",
       "      <td>...</td>\n",
       "      <td>...</td>\n",
       "      <td>...</td>\n",
       "      <td>...</td>\n",
       "      <td>...</td>\n",
       "      <td>...</td>\n",
       "      <td>...</td>\n",
       "      <td>...</td>\n",
       "      <td>...</td>\n",
       "      <td>...</td>\n",
       "      <td>...</td>\n",
       "      <td>...</td>\n",
       "    </tr>\n",
       "    <tr>\n",
       "      <th>119995</th>\n",
       "      <td>249010_186634</td>\n",
       "      <td>1</td>\n",
       "      <td>1</td>\n",
       "      <td>1</td>\n",
       "      <td>1</td>\n",
       "      <td>1</td>\n",
       "      <td>1</td>\n",
       "      <td>1</td>\n",
       "      <td>1</td>\n",
       "      <td>1</td>\n",
       "      <td>1</td>\n",
       "      <td>1</td>\n",
       "    </tr>\n",
       "    <tr>\n",
       "      <th>119996</th>\n",
       "      <td>249010_110470</td>\n",
       "      <td>1</td>\n",
       "      <td>1</td>\n",
       "      <td>1</td>\n",
       "      <td>1</td>\n",
       "      <td>1</td>\n",
       "      <td>1</td>\n",
       "      <td>1</td>\n",
       "      <td>0</td>\n",
       "      <td>0</td>\n",
       "      <td>1</td>\n",
       "      <td>1</td>\n",
       "    </tr>\n",
       "    <tr>\n",
       "      <th>119997</th>\n",
       "      <td>249010_72192</td>\n",
       "      <td>0</td>\n",
       "      <td>0</td>\n",
       "      <td>0</td>\n",
       "      <td>0</td>\n",
       "      <td>0</td>\n",
       "      <td>0</td>\n",
       "      <td>0</td>\n",
       "      <td>1</td>\n",
       "      <td>0</td>\n",
       "      <td>0</td>\n",
       "      <td>0</td>\n",
       "    </tr>\n",
       "    <tr>\n",
       "      <th>119998</th>\n",
       "      <td>249010_86104</td>\n",
       "      <td>0</td>\n",
       "      <td>0</td>\n",
       "      <td>0</td>\n",
       "      <td>0</td>\n",
       "      <td>0</td>\n",
       "      <td>0</td>\n",
       "      <td>0</td>\n",
       "      <td>0</td>\n",
       "      <td>0</td>\n",
       "      <td>0</td>\n",
       "      <td>0</td>\n",
       "    </tr>\n",
       "    <tr>\n",
       "      <th>119999</th>\n",
       "      <td>249010_293818</td>\n",
       "      <td>0</td>\n",
       "      <td>0</td>\n",
       "      <td>0</td>\n",
       "      <td>0</td>\n",
       "      <td>0</td>\n",
       "      <td>0</td>\n",
       "      <td>0</td>\n",
       "      <td>0</td>\n",
       "      <td>1</td>\n",
       "      <td>0</td>\n",
       "      <td>0</td>\n",
       "    </tr>\n",
       "  </tbody>\n",
       "</table>\n",
       "<p>120000 rows × 12 columns</p>\n",
       "</div>"
      ],
      "text/plain": [
       "              TrackID  Predictor  Predictor1  Predictor2  Predictor3  \\\n",
       "0       199810_105760          1           1           1           1   \n",
       "1        199810_18515          1           1           1           1   \n",
       "2       199810_208019          1           0           1           0   \n",
       "3       199810_242681          0           0           0           1   \n",
       "4        199810_74139          0           1           0           0   \n",
       "...               ...        ...         ...         ...         ...   \n",
       "119995  249010_186634          1           1           1           1   \n",
       "119996  249010_110470          1           1           1           1   \n",
       "119997   249010_72192          0           0           0           0   \n",
       "119998   249010_86104          0           0           0           0   \n",
       "119999  249010_293818          0           0           0           0   \n",
       "\n",
       "        Predictor4  Predictor5  Predictor6  Predictor7  Predictor8  \\\n",
       "0                1           1           1           0           1   \n",
       "1                1           1           1           1           0   \n",
       "2                0           0           1           1           1   \n",
       "3                0           1           0           0           0   \n",
       "4                1           0           0           0           1   \n",
       "...            ...         ...         ...         ...         ...   \n",
       "119995           1           1           1           1           1   \n",
       "119996           1           1           1           0           0   \n",
       "119997           0           0           0           1           0   \n",
       "119998           0           0           0           0           0   \n",
       "119999           0           0           0           0           1   \n",
       "\n",
       "        Predictor9  Predictor10  \n",
       "0                1            1  \n",
       "1                1            1  \n",
       "2                0            0  \n",
       "3                1            1  \n",
       "4                0            0  \n",
       "...            ...          ...  \n",
       "119995           1            1  \n",
       "119996           1            1  \n",
       "119997           0            0  \n",
       "119998           0            0  \n",
       "119999           0            0  \n",
       "\n",
       "[120000 rows x 12 columns]"
      ]
     },
     "execution_count": 5,
     "metadata": {},
     "output_type": "execute_result"
    }
   ],
   "source": [
    "solutions_df"
   ]
  },
  {
   "cell_type": "markdown",
   "metadata": {},
   "source": [
    "Now we create the Solution matrix using all of the predictions from the DF. The shape of it will be (120,000 x n) where n is the numbner of different Predictor columns in the DF."
   ]
  },
  {
   "cell_type": "code",
   "execution_count": 6,
   "metadata": {},
   "outputs": [],
   "source": [
    "# Create initial S matrix with first Predictor column\n",
    "S = np.array((solutions_df.iloc[:, 1] * 2 - 1))    # convert 0 to -1"
   ]
  },
  {
   "cell_type": "code",
   "execution_count": 7,
   "metadata": {},
   "outputs": [
    {
     "data": {
      "text/plain": [
       "array([ 1,  1,  1, ..., -1, -1, -1], dtype=int64)"
      ]
     },
     "execution_count": 7,
     "metadata": {},
     "output_type": "execute_result"
    }
   ],
   "source": [
    "S"
   ]
  },
  {
   "cell_type": "code",
   "execution_count": 8,
   "metadata": {},
   "outputs": [],
   "source": [
    "# Loop over the rest of the predictor columns to create the rest of the S matrix\n",
    "for index in range(2, solutions_df.shape[1]):    # .shape[1] gives the # of columns in df\n",
    "    S = np.c_[S, (solutions_df.iloc[:, index] * 2 - 1)]"
   ]
  },
  {
   "cell_type": "code",
   "execution_count": 9,
   "metadata": {},
   "outputs": [
    {
     "data": {
      "text/plain": [
       "(120000, 11)"
      ]
     },
     "execution_count": 9,
     "metadata": {},
     "output_type": "execute_result"
    }
   ],
   "source": [
    "S.shape"
   ]
  },
  {
   "cell_type": "code",
   "execution_count": 10,
   "metadata": {},
   "outputs": [
    {
     "data": {
      "text/plain": [
       "array([[ 1,  1,  1, ...,  1,  1,  1],\n",
       "       [ 1,  1,  1, ..., -1,  1,  1],\n",
       "       [ 1, -1,  1, ...,  1, -1, -1],\n",
       "       ...,\n",
       "       [-1, -1, -1, ..., -1, -1, -1],\n",
       "       [-1, -1, -1, ..., -1, -1, -1],\n",
       "       [-1, -1, -1, ...,  1, -1, -1]], dtype=int64)"
      ]
     },
     "execution_count": 10,
     "metadata": {},
     "output_type": "execute_result"
    }
   ],
   "source": [
    "S"
   ]
  },
  {
   "cell_type": "markdown",
   "metadata": {},
   "source": [
    "Here we generate the least squares solution $a_{LS}$.\n",
    "\n",
    "$a_{LS}$ is equal to $(S^{T}S)^{-1}S^{T}x$.\n",
    "$S^{T}x$ is equal to $N(2P_{i}-1)$ where $i$ is the index of the solution."
   ]
  },
  {
   "cell_type": "code",
   "execution_count": 11,
   "metadata": {},
   "outputs": [],
   "source": [
    "N = len(S)    # 120,000 rows in this case\n",
    "ST_x = []\n",
    "\n",
    "# Generate S(transpose) * x -> N(2P_i - 1)\n",
    "ST_x = [N * (2 * P - 1) for P in scores]    # list comprehension\n",
    "\n",
    "# Generate S(transpose) * S\n",
    "ST_S = np.dot(S.T, S).astype('float') + np.eye(S.shape[1]) * (10 ** -6)    # to prevent singular matrices\n",
    "\n",
    "# Generate (S(transpose) * S)^-1\n",
    "ST_S_inv = np.linalg.inv(ST_S)\n",
    "\n",
    "# Generate a_LS = (S(transpose) * S)^-1 * N(2P_i - 1) \n",
    "# a_LS is the Least Squares solution\n",
    "a_LS = np.dot(ST_S_inv, ST_x)"
   ]
  },
  {
   "cell_type": "code",
   "execution_count": 12,
   "metadata": {},
   "outputs": [
    {
     "data": {
      "text/plain": [
       "array([ 0.09710312,  0.10840707,  0.30699565, -0.02118903,  0.20215946,\n",
       "        0.01372319,  0.09711456, -0.01720358,  0.05236355, -0.13783168,\n",
       "        0.29207387])"
      ]
     },
     "execution_count": 12,
     "metadata": {},
     "output_type": "execute_result"
    }
   ],
   "source": [
    "a_LS"
   ]
  },
  {
   "cell_type": "markdown",
   "metadata": {},
   "source": [
    "As you can see above, each value corresponds to a weight $a$ for each solution $S$.\n",
    "\n",
    "Finally, to get $S_{ensemble}$ we multiply matrix $S$ by vector $a_{LS}$.\n",
    "\n",
    "$S_{ensemble} = S * a_{LS}$"
   ]
  },
  {
   "cell_type": "code",
   "execution_count": 13,
   "metadata": {},
   "outputs": [],
   "source": [
    "s_ensemble = np.dot(S, a_LS)"
   ]
  },
  {
   "cell_type": "code",
   "execution_count": 14,
   "metadata": {},
   "outputs": [
    {
     "data": {
      "text/plain": [
       "array([ 1.02812335,  0.88898909,  0.07903042, ..., -1.02812335,\n",
       "       -0.99371619, -0.88898909])"
      ]
     },
     "execution_count": 14,
     "metadata": {},
     "output_type": "execute_result"
    }
   ],
   "source": [
    "s_ensemble"
   ]
  },
  {
   "cell_type": "code",
   "execution_count": 15,
   "metadata": {},
   "outputs": [
    {
     "data": {
      "text/plain": [
       "120000"
      ]
     },
     "execution_count": 15,
     "metadata": {},
     "output_type": "execute_result"
    }
   ],
   "source": [
    "s_ensemble_len = len(s_ensemble)    # store length of s_ensemble\n",
    "s_ensemble_len"
   ]
  },
  {
   "cell_type": "code",
   "execution_count": 16,
   "metadata": {},
   "outputs": [],
   "source": [
    "final_predictions = np.zeros(s_ensemble_len)    # initialize final solution with list of zeroes"
   ]
  },
  {
   "cell_type": "markdown",
   "metadata": {},
   "source": [
    "Here is the main loop that creates the final predictions. It loops over every 6 elements of $s_{ensemble}$ (since each User has 6 tracks), sorts those 6 elements of $s_{ensemble}$ and makes the third element the threshold, and then sets the predictions for the top 3 elements (above the threshold) a 1 and the bottom 3 elements (below the threshold) a 0."
   ]
  },
  {
   "cell_type": "code",
   "execution_count": 17,
   "metadata": {},
   "outputs": [],
   "source": [
    "# Loop through all 6 tracks for each user to get top 3 for each user\n",
    "for index in range(s_ensemble_len // 6):    # floor division\n",
    "    # Threshold is the third element in the sorted array\n",
    "    user_score_threshold = np.sort(s_ensemble[index * 6 : index * 6 + 6])[2]    # sort the 6 values for each user and grab the third element\n",
    "    for index_user in range(6):\n",
    "        if s_ensemble[index * 6 + index_user] > user_score_threshold:\n",
    "            final_predictions[index * 6 + index_user] = 1    # set top 3 to 1 (other 3 will be 0)"
   ]
  },
  {
   "cell_type": "markdown",
   "metadata": {},
   "source": [
    "Finally, we generate the final predictions df using the solutions df and the final predictions generated above. Then we create a csv with the df."
   ]
  },
  {
   "cell_type": "code",
   "execution_count": 18,
   "metadata": {},
   "outputs": [],
   "source": [
    "# Generate the final prediction df\n",
    "final_predictions_df = pd.DataFrame(solutions_df.iloc[:,0])    # make new df using first column of solutions_df\n",
    "final_predictions_df['Predictor'] = np.array(final_predictions, dtype=int)"
   ]
  },
  {
   "cell_type": "code",
   "execution_count": 19,
   "metadata": {},
   "outputs": [
    {
     "data": {
      "text/html": [
       "<div>\n",
       "<style scoped>\n",
       "    .dataframe tbody tr th:only-of-type {\n",
       "        vertical-align: middle;\n",
       "    }\n",
       "\n",
       "    .dataframe tbody tr th {\n",
       "        vertical-align: top;\n",
       "    }\n",
       "\n",
       "    .dataframe thead th {\n",
       "        text-align: right;\n",
       "    }\n",
       "</style>\n",
       "<table border=\"1\" class=\"dataframe\">\n",
       "  <thead>\n",
       "    <tr style=\"text-align: right;\">\n",
       "      <th></th>\n",
       "      <th>TrackID</th>\n",
       "      <th>Predictor</th>\n",
       "    </tr>\n",
       "  </thead>\n",
       "  <tbody>\n",
       "    <tr>\n",
       "      <th>0</th>\n",
       "      <td>199810_105760</td>\n",
       "      <td>1</td>\n",
       "    </tr>\n",
       "    <tr>\n",
       "      <th>1</th>\n",
       "      <td>199810_18515</td>\n",
       "      <td>1</td>\n",
       "    </tr>\n",
       "    <tr>\n",
       "      <th>2</th>\n",
       "      <td>199810_208019</td>\n",
       "      <td>1</td>\n",
       "    </tr>\n",
       "    <tr>\n",
       "      <th>3</th>\n",
       "      <td>199810_242681</td>\n",
       "      <td>0</td>\n",
       "    </tr>\n",
       "    <tr>\n",
       "      <th>4</th>\n",
       "      <td>199810_74139</td>\n",
       "      <td>0</td>\n",
       "    </tr>\n",
       "    <tr>\n",
       "      <th>...</th>\n",
       "      <td>...</td>\n",
       "      <td>...</td>\n",
       "    </tr>\n",
       "    <tr>\n",
       "      <th>119995</th>\n",
       "      <td>249010_186634</td>\n",
       "      <td>1</td>\n",
       "    </tr>\n",
       "    <tr>\n",
       "      <th>119996</th>\n",
       "      <td>249010_110470</td>\n",
       "      <td>1</td>\n",
       "    </tr>\n",
       "    <tr>\n",
       "      <th>119997</th>\n",
       "      <td>249010_72192</td>\n",
       "      <td>0</td>\n",
       "    </tr>\n",
       "    <tr>\n",
       "      <th>119998</th>\n",
       "      <td>249010_86104</td>\n",
       "      <td>0</td>\n",
       "    </tr>\n",
       "    <tr>\n",
       "      <th>119999</th>\n",
       "      <td>249010_293818</td>\n",
       "      <td>0</td>\n",
       "    </tr>\n",
       "  </tbody>\n",
       "</table>\n",
       "<p>120000 rows × 2 columns</p>\n",
       "</div>"
      ],
      "text/plain": [
       "              TrackID  Predictor\n",
       "0       199810_105760          1\n",
       "1        199810_18515          1\n",
       "2       199810_208019          1\n",
       "3       199810_242681          0\n",
       "4        199810_74139          0\n",
       "...               ...        ...\n",
       "119995  249010_186634          1\n",
       "119996  249010_110470          1\n",
       "119997   249010_72192          0\n",
       "119998   249010_86104          0\n",
       "119999  249010_293818          0\n",
       "\n",
       "[120000 rows x 2 columns]"
      ]
     },
     "execution_count": 19,
     "metadata": {},
     "output_type": "execute_result"
    }
   ],
   "source": [
    "final_predictions_df"
   ]
  },
  {
   "cell_type": "code",
   "execution_count": 20,
   "metadata": {},
   "outputs": [],
   "source": [
    "final_predictions_df.to_csv('Ensemble_Predictions.csv', index=False)"
   ]
  },
  {
   "cell_type": "markdown",
   "metadata": {},
   "source": [
    "### Results\n",
    "After messing around with `list_of_results` to see if we can improve our score for this assignment, we managed to get our best score of **0.88908**, which put us at the top of the Kaggle leaderboard."
   ]
  }
 ],
 "metadata": {
  "kernelspec": {
   "display_name": "Python 3",
   "language": "python",
   "name": "python3"
  },
  "language_info": {
   "codemirror_mode": {
    "name": "ipython",
    "version": 3
   },
   "file_extension": ".py",
   "mimetype": "text/x-python",
   "name": "python",
   "nbconvert_exporter": "python",
   "pygments_lexer": "ipython3",
   "version": "3.8.5"
  }
 },
 "nbformat": 4,
 "nbformat_minor": 4
}
