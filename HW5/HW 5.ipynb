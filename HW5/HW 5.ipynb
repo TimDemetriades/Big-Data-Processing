{
 "cells": [
  {
   "cell_type": "markdown",
   "metadata": {},
   "source": [
    "# HW 5 - Tim Demetriades\n",
    "## Music Recommendation 1\n",
    "March 27th, 2021"
   ]
  },
  {
   "cell_type": "code",
   "execution_count": 1,
   "metadata": {},
   "outputs": [],
   "source": [
    "import numpy    # for arrays\n",
    "import time     # for timing cells"
   ]
  },
  {
   "cell_type": "markdown",
   "metadata": {},
   "source": [
    "### Part 1 - Create Output file\n",
    "Here, we create `output1.txt`, which will hold the user_id, track_id, and album rating and artist rating for a given user and track. It should be 120,000 entries long, and there should be 6 entries for each user. \n",
    "\n",
    "First, the input and output files are setup and opened. \n",
    "\n",
    "- `testTrack_hierarchy.txt` is the testing file and is in the format `UserID|trackID|Album|Artist|Genre1|Genre2|Genre3 | ....`. It is 120,000 entries long.\n",
    "- `trainIdx2_matrix.txt` is the training file and is in the format `userID|itemID|score`. It is over 12,400,000 entries long.\n",
    "- `output1.txt` is the output file and is in the format `userID|trackID|album_score|artist_score`. It should be 120,000 entries long (same as the testing file). "
   ]
  },
  {
   "cell_type": "code",
   "execution_count": 2,
   "metadata": {},
   "outputs": [],
   "source": [
    "data_dir = './Project/data_in_matrixForm/'\n",
    "file_name_test = data_dir + 'testTrack_hierarchy.txt'\n",
    "file_name_train = data_dir + 'trainIdx2_matrix.txt'\n",
    "output_file = data_dir + 'output1.txt'"
   ]
  },
  {
   "cell_type": "code",
   "execution_count": 3,
   "metadata": {},
   "outputs": [],
   "source": [
    "# Open files\n",
    "f_test = open(file_name_test)\n",
    "f_train = open(file_name_train)\n",
    "train_line = f_train.readline()\n",
    "f_out = open(output_file, 'w')"
   ]
  },
  {
   "cell_type": "code",
   "execution_count": 69,
   "metadata": {},
   "outputs": [],
   "source": [
    "# Initialize arrays to hold track_id, album_id, and artist_id for all 6 entries of a user.\n",
    "track_id_vec = [0] * 6\n",
    "album_id_vec = [0] * 6\n",
    "artist_id_vec = [0] * 6\n",
    "last_user_id = -1"
   ]
  },
  {
   "cell_type": "code",
   "execution_count": 5,
   "metadata": {},
   "outputs": [],
   "source": [
    "# Initialize numpy array to hold album and artist ratings for each user\n",
    "user_rating_in_train = numpy.zeros(shape=(6,3))"
   ]
  },
  {
   "cell_type": "markdown",
   "metadata": {},
   "source": [
    "Now this is the main loop for Part 1. We go through each line of the testing file. First, we take each element from a line and create a list. We then grab the user_id, track_id, album_id, and artist_id from that list. \n",
    "\n",
    "Next, we check if a new user has been reached (we enter this if statement from the start since `last_user_id` starts as -1). \n",
    "\n",
    "Then we fill out vectors to hold the track, album, and artists ids for the current user. \n",
    "\n",
    "Once the next user is reached, we then go through each line of the training file using a while loop and do a similar process of creating a list from the line and grabbing the elements (this time we grab the user_id, item_id, and rating for each line). \n",
    "\n",
    "If the user_id from the training file is less than the user_id from the testing file we just return to the beginning of the while loop.\n",
    "\n",
    "If the user_id from the training file is the same as the user_id from the testing file, we check if there is an album score and/or artist score in the training file that corresponds with an album and/or artist in the testing file. If there is, we add the score to the corresponding index in `user_rating_in_train`. \n",
    "\n",
    "If the user_id from the training file is greater than the user_id from the testing file, we know a new user has been reached and we can now write to the output file. We write 6 entries for each user, taking the user_id, track_id, album_score (if found, otherwise it will be 0), and artist_score (if found, otherwise it will be 0). After writing all 6 entries for the current user we break out of the while loop."
   ]
  },
  {
   "cell_type": "code",
   "execution_count": 6,
   "metadata": {},
   "outputs": [
    {
     "name": "stdout",
     "output_type": "stream",
     "text": [
      "Done! Time elapsed - 24.87 seconds.\n"
     ]
    }
   ],
   "source": [
    "start_time = time.time()\n",
    "\n",
    "for line in f_test:\n",
    "    arr_test = line.strip().split('|')\n",
    "    user_id = arr_test[0]    # set user\n",
    "    track_id = arr_test[1]   # set track\n",
    "    album_id = arr_test[2]   # set album\n",
    "    artist_id = arr_test[3]  # set artist\n",
    "    \n",
    "    if user_id != last_user_id:    # if new user reached\n",
    "        ii = 0                     # reset ii\n",
    "        user_rating_in_train = numpy.zeros(shape=(6,3))    # reset this array\n",
    "        \n",
    "    track_id_vec[ii] = track_id\n",
    "    album_id_vec[ii] = album_id\n",
    "    artist_id_vec[ii] = artist_id\n",
    "    ii = ii + 1\n",
    "    last_user_id = user_id\n",
    "    \n",
    "    if ii == 6:                    # if last entry for current user reached\n",
    "        while(train_line):\n",
    "            #for train_line in f_train:\n",
    "                arr_train = train_line.strip().split('|')    # make list of user_id, item_id, and rating from current line\n",
    "                train_user_id = arr_train[0]\n",
    "                train_item_id = arr_train[1]\n",
    "                train_rating = arr_train[2]\n",
    "                train_line = f_train.readline()    # go to next line\n",
    "\n",
    "                if train_user_id < user_id:\n",
    "                    continue    # return to beginning of while loop\n",
    "                if train_user_id == user_id:\n",
    "                    for nn in range(0, 6):    # go through each row in (6,3) user_rating_in_train array for current row in training file\n",
    "                        if train_item_id == album_id_vec[nn]:    # if album found\n",
    "                            user_rating_in_train[nn, 0] = train_rating    # set album rating\n",
    "                        if train_item_id == artist_id_vec[nn]:   # if artist found\n",
    "                            user_rating_in_train[nn, 1] = train_rating    # set artist rating\n",
    "                if train_user_id > user_id:   # if we reached the end of the current user, write to output file all the ratings found for current user\n",
    "                    for nn in range(0, 6):    # go through each row in (6,3) array\n",
    "                        out_str = str(user_id) + '|' + str(track_id_vec[nn]) + '|' + str(user_rating_in_train[nn,0]) + '|' + str(user_rating_in_train[nn, 1])\n",
    "                        f_out.write(out_str + '\\n')\n",
    "                    break    # break out of while loop\n",
    "                    \n",
    "end_time = time.time()\n",
    "elapsed_time = end_time - start_time\n",
    "print(f'Done! Time elapsed - {elapsed_time:.2f} seconds.')"
   ]
  },
  {
   "cell_type": "code",
   "execution_count": 7,
   "metadata": {},
   "outputs": [],
   "source": [
    "# Close all the files\n",
    "f_test.close()\n",
    "f_train.close()\n",
    "f_out.close()"
   ]
  },
  {
   "cell_type": "markdown",
   "metadata": {},
   "source": [
    "### Part 2 - Create Predicitons file\n",
    "Here, we use the output file from Part 1 to create a predictions file that will hold the predicitons for each user in the format `userID_trackID,prediction` Prediction will either be 1 or 0, with 1 meaning that we predict the user will like the song and 0 meaning that we predict the user will not like the song. For each user there are 6 predictions (6 songs) and there will be 3 1 predictions and 3 0 predictions."
   ]
  },
  {
   "cell_type": "markdown",
   "metadata": {},
   "source": [
    "The way the predictions work is for the 6 songs for each user, we take the album ratings and artist ratings (if found) and apply weights. If apply a higher weight to the album score since it is more likely for a user to like a song in the same album than from the same artist. We then take the top 3 scores and assign these songs as 1 (meaning we think the user will like these songs more) and the other 3 songs are assigned a 0 (meaning we think the user will like these songs less)."
   ]
  },
  {
   "cell_type": "code",
   "execution_count": 68,
   "metadata": {},
   "outputs": [
    {
     "name": "stdout",
     "output_type": "stream",
     "text": [
      "Done! Time elapsed - 0.77 seconds.\n"
     ]
    }
   ],
   "source": [
    "# Initialize some values\n",
    "ratings_array = numpy.zeros(shape=(2,6))\n",
    "last_user_id = -1\n",
    "track_id_out_vec = [0] * 6\n",
    "\n",
    "start_time = time.time()\n",
    "\n",
    "# Open files\n",
    "output_file_2 = data_dir + 'Predictions.csv'\n",
    "f_out_2 = open(output_file_2, 'w')\n",
    "f_out = open(output_file)\n",
    "\n",
    "# Write header\n",
    "f_out_2.write('TrackID,Predictor\\n')\n",
    "\n",
    "# Go through each line of the output file\n",
    "for line in f_out:\n",
    "    arr_out = line.strip().split('|')\n",
    "    user_id_out = arr_out[0]                # set user\n",
    "    track_id_out = arr_out[1]               # set track\n",
    "    album_rating = float(arr_out[2]) * .9   # set album and apply weight\n",
    "    artist_rating = float(arr_out[3]) * .1  # set artist and apply weight\n",
    "    \n",
    "    if user_id_out != last_user_id:    # if new user reached\n",
    "        ii = 0                         # reset ii\n",
    "        ratings_array = numpy.zeros(shape=(2,6))    # reset this array\n",
    "        \n",
    "    if ii < 6:                                 # if still on same user (so from 0 to 5 inclusive)\n",
    "        ratings_array[0, ii] = album_rating    # add album rating to this vector\n",
    "        ratings_array[1, ii] = artist_rating   # add artist rating to this vector\n",
    "        track_id_out_vec[ii] = track_id_out    # add track_id to this vector\n",
    "        \n",
    "    ii = ii + 1\n",
    "    last_user_id = user_id_out\n",
    "        \n",
    "    if ii == 6:                                                    # if last entry for current user reached\n",
    "        ratings_array_sum = numpy.zeros(shape=(6))                 # initialize numpy array for ratings sums\n",
    "        numpy.sum(ratings_array, axis=0, out=ratings_array_sum)    # sum the album rating and artist rating for each track\n",
    "        indices = (-ratings_array_sum).argsort()[:3]               # get indices of top 3 scores\n",
    "        \n",
    "        # Here we set the predictions by setting a 1 for elements with indices in the indices list and setting a 0 for elements with indices not in the indices list\n",
    "        predictions = numpy.zeros(shape=(6))    # initlize numpy array for predictions\n",
    "        for index in indices:\n",
    "            predictions[index] = 1    \n",
    "            \n",
    "        # Here we write to the output file for the 6 track predictions for the current user\n",
    "        for nn in range(0, 6):\n",
    "            out_str = str(user_id_out) + '_' + str(track_id_out_vec[nn]) + ',' + str(int(predictions[nn]))\n",
    "            f_out_2.write(out_str + '\\n')\n",
    "\n",
    "end_time = time.time()\n",
    "elapsed_time = end_time - start_time\n",
    "print(f'Done! Time elapsed - {elapsed_time:.2f} seconds.')\n",
    "\n",
    "f_out_2.close()\n",
    "f_out.close()"
   ]
  }
 ],
 "metadata": {
  "kernelspec": {
   "display_name": "Python 3",
   "language": "python",
   "name": "python3"
  },
  "language_info": {
   "codemirror_mode": {
    "name": "ipython",
    "version": 3
   },
   "file_extension": ".py",
   "mimetype": "text/x-python",
   "name": "python",
   "nbconvert_exporter": "python",
   "pygments_lexer": "ipython3",
   "version": "3.8.5"
  }
 },
 "nbformat": 4,
 "nbformat_minor": 4
}
